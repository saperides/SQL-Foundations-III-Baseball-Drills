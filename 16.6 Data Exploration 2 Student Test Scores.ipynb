{
 "cells": [
  {
   "cell_type": "code",
   "execution_count": 1,
   "metadata": {},
   "outputs": [],
   "source": [
    "import pandas as pd\n",
    "import numpy as np\n",
    "from sqlalchemy import create_engine\n",
    "import warnings\n",
    "import matplotlib.pyplot as plt\n",
    "import seaborn as sns\n",
    "# from scipy.stats import zscore\n",
    "# from scipy.stats.mstats import winsorize\n",
    "from scipy import stats\n",
    "\n",
    "warnings.filterwarnings('ignore')"
   ]
  },
  {
   "cell_type": "code",
   "execution_count": 2,
   "metadata": {},
   "outputs": [
    {
     "data": {
      "text/html": [
       "<div>\n",
       "<style scoped>\n",
       "    .dataframe tbody tr th:only-of-type {\n",
       "        vertical-align: middle;\n",
       "    }\n",
       "\n",
       "    .dataframe tbody tr th {\n",
       "        vertical-align: top;\n",
       "    }\n",
       "\n",
       "    .dataframe thead th {\n",
       "        text-align: right;\n",
       "    }\n",
       "</style>\n",
       "<table border=\"1\" class=\"dataframe\">\n",
       "  <thead>\n",
       "    <tr style=\"text-align: right;\">\n",
       "      <th></th>\n",
       "      <th>gender</th>\n",
       "      <th>race/ethnicity</th>\n",
       "      <th>parental level of education</th>\n",
       "      <th>lunch</th>\n",
       "      <th>test preparation course</th>\n",
       "      <th>math score</th>\n",
       "      <th>reading score</th>\n",
       "      <th>writing score</th>\n",
       "      <th>total</th>\n",
       "    </tr>\n",
       "  </thead>\n",
       "  <tbody>\n",
       "    <tr>\n",
       "      <th>0</th>\n",
       "      <td>female</td>\n",
       "      <td>group B</td>\n",
       "      <td>bachelor's degree</td>\n",
       "      <td>standard</td>\n",
       "      <td>none</td>\n",
       "      <td>72</td>\n",
       "      <td>72</td>\n",
       "      <td>74</td>\n",
       "      <td>218</td>\n",
       "    </tr>\n",
       "    <tr>\n",
       "      <th>1</th>\n",
       "      <td>female</td>\n",
       "      <td>group C</td>\n",
       "      <td>some college</td>\n",
       "      <td>standard</td>\n",
       "      <td>completed</td>\n",
       "      <td>69</td>\n",
       "      <td>90</td>\n",
       "      <td>88</td>\n",
       "      <td>247</td>\n",
       "    </tr>\n",
       "    <tr>\n",
       "      <th>2</th>\n",
       "      <td>female</td>\n",
       "      <td>group B</td>\n",
       "      <td>master's degree</td>\n",
       "      <td>standard</td>\n",
       "      <td>none</td>\n",
       "      <td>90</td>\n",
       "      <td>95</td>\n",
       "      <td>93</td>\n",
       "      <td>278</td>\n",
       "    </tr>\n",
       "    <tr>\n",
       "      <th>3</th>\n",
       "      <td>male</td>\n",
       "      <td>group A</td>\n",
       "      <td>associate's degree</td>\n",
       "      <td>free/reduced</td>\n",
       "      <td>none</td>\n",
       "      <td>47</td>\n",
       "      <td>57</td>\n",
       "      <td>44</td>\n",
       "      <td>148</td>\n",
       "    </tr>\n",
       "    <tr>\n",
       "      <th>4</th>\n",
       "      <td>male</td>\n",
       "      <td>group C</td>\n",
       "      <td>some college</td>\n",
       "      <td>standard</td>\n",
       "      <td>none</td>\n",
       "      <td>76</td>\n",
       "      <td>78</td>\n",
       "      <td>75</td>\n",
       "      <td>229</td>\n",
       "    </tr>\n",
       "  </tbody>\n",
       "</table>\n",
       "</div>"
      ],
      "text/plain": [
       "   gender race/ethnicity parental level of education         lunch  \\\n",
       "0  female        group B           bachelor's degree      standard   \n",
       "1  female        group C                some college      standard   \n",
       "2  female        group B             master's degree      standard   \n",
       "3    male        group A          associate's degree  free/reduced   \n",
       "4    male        group C                some college      standard   \n",
       "\n",
       "  test preparation course  math score  reading score  writing score  total  \n",
       "0                    none          72             72             74    218  \n",
       "1               completed          69             90             88    247  \n",
       "2                    none          90             95             93    278  \n",
       "3                    none          47             57             44    148  \n",
       "4                    none          76             78             75    229  "
      ]
     },
     "execution_count": 2,
     "metadata": {},
     "output_type": "execute_result"
    }
   ],
   "source": [
    "postgres_user = 'dsbc_student'\n",
    "postgres_pw = '7*.8G9QH21'\n",
    "postgres_host = '142.93.121.174'\n",
    "postgres_port = '5432'\n",
    "postgres_db = 'studentsperformance'\n",
    "\n",
    "engine = create_engine('postgresql://{}:{}@{}:{}/{}'.format(\n",
    "    postgres_user, postgres_pw, postgres_host, postgres_port, postgres_db))\n",
    "\n",
    "stuper = pd.read_sql_query('select * from studentsperformance',con=engine)\n",
    "\n",
    "engine.dispose()\n",
    "stuper['total'] = stuper['math score'] + stuper['reading score'] + stuper['writing score']\n",
    "stuper.columns\n",
    "stuper.head()"
   ]
  },
  {
   "cell_type": "markdown",
   "metadata": {},
   "source": [
    "1. Are there any differences between the genders, ethnicities, and parental level of education with respect to their performances in exams?\n",
    "\n",
    "I've created a new column called 'total' which is the sum of the math, reading, and writing test scores for each student. With a glance at the visuals, it looks like while there's some difference, it's probably not significant. I'll run t-tests to confirm.\n",
    "\n",
    "Wow, I bite my tongue - there is definitely a meaningful difference between the average scores of females and males. My next question would be, exactly how significant is this difference? While the p-value is clearly below the 0.05 threshold, it doesn't really matter if the score difference is only a couple of points.\n",
    "\n",
    "It seems that the t-tests confirm that there is a significant difference between the means of the races/ethnicities that *are not* adjacent to each other in terms of average scores. For example, there is no significant difference between groups A and B or C and D, the two lowest scoring groups and the two middle-scoring groups respectively, but there are significant differences between groups B and E and groups A and C.\n",
    "\n",
    "Finally, as the difference of parental level of education increases, the significance between the test scores increase. While there isn't a meaningful difference in test scores of students with parents with some college experience vs those with an associate's degree, those with an associate's degree vs those with a bachelor's degree, or those with a bachelor's degree and those with a master's, there is significant difference in the average test scores of students of parents with an associate's degree vs those with a masters as well as parents with some college experience and those with a bachelor's. The only significant difference between adjacent variables is students of parents with high school diplomas and students with parents of some college experience."
   ]
  },
  {
   "cell_type": "code",
   "execution_count": 3,
   "metadata": {},
   "outputs": [
    {
     "data": {
      "image/png": "[encoded data removed]",
      "text/plain": [
       "<Figure size 432x288 with 1 Axes>"
      ]
     },
     "metadata": {
      "needs_background": "light"
     },
     "output_type": "display_data"
    },
    {
     "data": {
      "image/png": "[encoded data removed]",
      "text/plain": [
       "<Figure size 432x288 with 1 Axes>"
      ]
     },
     "metadata": {
      "needs_background": "light"
     },
     "output_type": "display_data"
    },
    {
     "data": {
      "image/png": "[encoded data removed]",
      "text/plain": [
       "<Figure size 1224x504 with 1 Axes>"
      ]
     },
     "metadata": {
      "needs_background": "light"
     },
     "output_type": "display_data"
    }
   ],
   "source": [
    "plt.title('Total Test Scores by Gender')\n",
    "sns.barplot(stuper['gender'], stuper['total'])\n",
    "plt.ylabel('Total Test Score')\n",
    "plt.show()\n",
    "\n",
    "plt.title('Total Test Scores by Race/Ethnicity')\n",
    "sns.barplot(stuper['race/ethnicity'], stuper['total'])\n",
    "plt.ylabel('Total Test Score')\n",
    "plt.show()\n",
    "\n",
    "plt.figure(figsize=(17,7))\n",
    "plt.title('Total Test Scores by Parental Level of Education')\n",
    "sns.boxplot(x='parental level of education',y='math score', order=['high school', 'some college', 'associate\\'s degree', 'bachelor\\'s degree', 'master\\'s degree'], data=stuper, fliersize=0)\n",
    "plt.ylabel('Total Test Score')\n",
    "plt.show()\n"
   ]
  },
  {
   "cell_type": "code",
   "execution_count": 11,
   "metadata": {},
   "outputs": [
    {
     "name": "stdout",
     "output_type": "stream",
     "text": [
      "Statistic tests for total test scores of females vs males: \n",
      "  Ttest_indResult(statistic=4.169913529142, pvalue=3.311973638243664e-05)\n",
      "\n",
      "\n",
      "Statistic tests for total test scores of group A vs group E: \n",
      "  Ttest_indResult(statistic=-4.958668289961618, pvalue=1.3897910469516933e-06)\n",
      "\n",
      "\n",
      "Statistic tests for total test scores of group A vs group B: \n",
      "  Ttest_indResult(statistic=-1.3165043669633554, pvalue=0.18909305895094347)\n",
      "\n",
      "\n",
      "Statistic tests for total test scores of group B vs group E: \n",
      "  Ttest_indResult(statistic=-4.460378072613971, pvalue=1.1254806793763717e-05)\n",
      "\n",
      "\n",
      "Statistic tests for total test scores of group C vs group D: \n",
      "  Ttest_indResult(statistic=-1.8063576953601121, pvalue=0.07138158673813348)\n",
      "\n",
      "\n",
      "Statistic tests for total test scores of group A vs group C: \n",
      "  Ttest_indResult(statistic=-2.4665932040951115, pvalue=0.0140526048316009)\n",
      "\n",
      "\n",
      "Statistic tests for total test scores of parents with high school diploma vs masters: \n",
      "  Ttest_indResult(statistic=-5.226505457467738, pvalue=3.615968596010567e-07)\n",
      "\n",
      "\n",
      "Statistic tests for total test scores of with high school diploma vs some college \n",
      "  Ttest_indResult(statistic=-4.0470814962225505, pvalue=6.174004426350668e-05)\n",
      "\n",
      "\n",
      "Statistic tests for total test scores of some college vs associates: \n",
      "  Ttest_indResult(statistic=-0.8445790843435959, pvalue=0.3987986989245934)\n",
      "\n",
      "\n",
      "Statistic tests for total test scores of some college vs bachelors: \n",
      "  Ttest_indResult(statistic=-2.2007468666708467, pvalue=0.02842185394179639)\n",
      "\n",
      "\n",
      "Statistic tests for total test scores of associates vs masters: \n",
      "  Ttest_indResult(statistic=-2.014634576109427, pvalue=0.04490224775712458)\n"
     ]
    }
   ],
   "source": [
    "female = stuper.loc[stuper['gender'] == 'female', 'total']\n",
    "male = stuper.loc[stuper['gender'] == 'male', 'total']\n",
    "gender_t_val = stats.ttest_ind(female, male)\n",
    "print('Statistic tests for total test scores of females vs males: \\n ', gender_t_val)\n",
    "print('\\n')\n",
    "group_A = stuper.loc[stuper['race/ethnicity'] == 'group A', 'total']\n",
    "group_B = stuper.loc[stuper['race/ethnicity'] == 'group B', 'total']\n",
    "group_C = stuper.loc[stuper['race/ethnicity'] == 'group C', 'total']\n",
    "group_D = stuper.loc[stuper['race/ethnicity'] == 'group D', 'total']\n",
    "group_E = stuper.loc[stuper['race/ethnicity'] == 'group E', 'total']\n",
    "ae_t_val = stats.ttest_ind(group_A, group_E)\n",
    "print('Statistic tests for total test scores of group A vs group E: \\n ', ae_t_val)\n",
    "print('\\n')\n",
    "ab_t_val = stats.ttest_ind(group_A, group_B)\n",
    "print('Statistic tests for total test scores of group A vs group B: \\n ', ab_t_val)\n",
    "print('\\n')\n",
    "be_t_val = stats.ttest_ind(group_B, group_E)\n",
    "print('Statistic tests for total test scores of group B vs group E: \\n ', be_t_val)\n",
    "print('\\n')\n",
    "cd_t_val = stats.ttest_ind(group_C, group_D)\n",
    "print('Statistic tests for total test scores of group C vs group D: \\n ', cd_t_val)\n",
    "print('\\n')\n",
    "ac_t_val = stats.ttest_ind(group_A, group_C)\n",
    "print('Statistic tests for total test scores of group A vs group C: \\n ', ac_t_val)\n",
    "\n",
    "high_school = stuper.loc[stuper['parental level of education'] == 'high school', 'total']\n",
    "some_college = stuper.loc[stuper['parental level of education'] == 'some college', 'total']\n",
    "associates = stuper.loc[stuper['parental level of education'] == 'associate\\'s degree', 'total']\n",
    "bachelors = stuper.loc[stuper['parental level of education'] == 'bachelor\\'s degree', 'total']\n",
    "masters = stuper.loc[stuper['parental level of education'] == 'master\\'s degree', 'total']\n",
    "\n",
    "print('\\n')\n",
    "hs_masters_t_val = stats.ttest_ind(high_school, masters)\n",
    "print('Statistic tests for total test scores of parents with high school diploma vs masters: \\n ', hs_masters_t_val)\n",
    "print('\\n')\n",
    "hs_sc_t_val = stats.ttest_ind(high_school, some_college)\n",
    "print('Statistic tests for total test scores of with high school diploma vs some college \\n ', hs_sc_t_val)\n",
    "print('\\n')\n",
    "sc_associates_t_val = stats.ttest_ind(some_college, associates)\n",
    "print('Statistic tests for total test scores of some college vs associates: \\n ', sc_associates_t_val)\n",
    "print('\\n')\n",
    "sc_bachelors_t_val = stats.ttest_ind(some_college, bachelors)\n",
    "print('Statistic tests for total test scores of some college vs bachelors: \\n ', sc_bachelors_t_val)\n",
    "print('\\n')\n",
    "associates_masters_t_val = stats.ttest_ind(associates, masters)\n",
    "print('Statistic tests for total test scores of associates vs masters: \\n ', associates_masters_t_val)\n",
    "# t_val = stats.ttest_ind(free_reduced_total, lunch_total)\n",
    "# print('Statistic tests for total scores of students with lunch assistance vs. those without: \\n ', t_val)"
   ]
  },
  {
   "cell_type": "markdown",
   "metadata": {},
   "source": [
    "2. Are there any differences between the lunch types with respect to their performances in exams? If there are, how do you explain this?\n",
    "\n",
    "I did my second capstone on this! There is a clear distinction here: students who receive free/reduced lunch score significantly lower in all tests than students who receive a standard lunch. There are many possible explanations for this - if a student requires assistance for lunch, it's likely that their parents may be struggling to support the family and may not be able to provide adequate attention to the child. One must financially qualify for free/reduced lunch, so we can expect that parents whose students receive this probably cannot afford extra tutoring or test preparation. These parents often work multiple jobs and spend most hours of the day working and unable to attend to their children to help with homework and studying. It's also possible that students may not even be getting the proper nutrition at home. "
   ]
  },
  {
   "cell_type": "code",
   "execution_count": 13,
   "metadata": {},
   "outputs": [
    {
     "name": "stdout",
     "output_type": "stream",
     "text": [
      "Statistic tests for math scores of students with lunch assistance vs. those without: \n",
      "  Ttest_indResult(statistic=-11.837180472914612, pvalue=2.4131955993137074e-30)\n",
      "\n",
      "\n",
      "Statistic tests for total scores of students with lunch assistance vs. those without: \n",
      "  Ttest_indResult(statistic=-9.575113051511472, pvalue=7.73679181249555e-21)\n"
     ]
    }
   ],
   "source": [
    "free_reduced = stuper.loc[stuper['lunch'] == 'free/reduced']\n",
    "lunch = stuper.loc[stuper['lunch'] == 'standard']\n",
    "free_reduced_math = free_reduced['math score']\n",
    "lunch_math = lunch['math score']\n",
    "free_reduced_total = free_reduced['total']\n",
    "lunch_total = lunch['total']\n",
    "t_val = stats.ttest_ind(free_reduced_math, lunch_math)\n",
    "print('Statistic tests for math scores of students with lunch assistance vs. those without: \\n ', t_val)\n",
    "print('\\n')\n",
    "t_val = stats.ttest_ind(free_reduced_total, lunch_total)\n",
    "print('Statistic tests for total scores of students with lunch assistance vs. those without: \\n ', t_val)"
   ]
  },
  {
   "cell_type": "markdown",
   "metadata": {},
   "source": [
    "3. Does the test preparation course seem to have an effect on the exam performances?\n",
    "\n",
    "As is to be expected, yes, prep courses have a significant effect on exam performance."
   ]
  },
  {
   "cell_type": "code",
   "execution_count": 20,
   "metadata": {},
   "outputs": [
    {
     "name": "stdout",
     "output_type": "stream",
     "text": [
      "Statistic tests for total scores of students who completed test preparation course(s) vs. those who did not: \n",
      "  Ttest_indResult(statistic=8.390944443482603, pvalue=1.6337802035921865e-16)\n"
     ]
    }
   ],
   "source": [
    "test_prep = stuper.loc[stuper['test preparation course'] == 'completed']\n",
    "none = stuper.loc[stuper['test preparation course'] == 'none']\n",
    "test_prep_total = test_prep['total']\n",
    "none_total = none['total']\n",
    "prep_t_val = stats.ttest_ind(test_prep_total, none_total)\n",
    "print('Statistic tests for total scores of students who completed test preparation course(s) vs. those who did not: \\n ', prep_t_val)"
   ]
  },
  {
   "cell_type": "markdown",
   "metadata": {},
   "source": [
    "4. Which 2 exam scores are most correlated with each other?\n",
    "\n",
    "Hopefully to no one's surprise, reading and writing are most correlated with each other. These two subjects are very similar so we should expect students who succeed in one should succeed in the other."
   ]
  },
  {
   "cell_type": "code",
   "execution_count": 14,
   "metadata": {},
   "outputs": [
    {
     "data": {
      "text/html": [
       "<div>\n",
       "<style scoped>\n",
       "    .dataframe tbody tr th:only-of-type {\n",
       "        vertical-align: middle;\n",
       "    }\n",
       "\n",
       "    .dataframe tbody tr th {\n",
       "        vertical-align: top;\n",
       "    }\n",
       "\n",
       "    .dataframe thead th {\n",
       "        text-align: right;\n",
       "    }\n",
       "</style>\n",
       "<table border=\"1\" class=\"dataframe\">\n",
       "  <thead>\n",
       "    <tr style=\"text-align: right;\">\n",
       "      <th></th>\n",
       "      <th>math score</th>\n",
       "      <th>reading score</th>\n",
       "      <th>writing score</th>\n",
       "      <th>total</th>\n",
       "    </tr>\n",
       "  </thead>\n",
       "  <tbody>\n",
       "    <tr>\n",
       "      <th>math score</th>\n",
       "      <td>1.000000</td>\n",
       "      <td>0.817580</td>\n",
       "      <td>0.802642</td>\n",
       "      <td>0.918746</td>\n",
       "    </tr>\n",
       "    <tr>\n",
       "      <th>reading score</th>\n",
       "      <td>0.817580</td>\n",
       "      <td>1.000000</td>\n",
       "      <td>0.954598</td>\n",
       "      <td>0.970331</td>\n",
       "    </tr>\n",
       "    <tr>\n",
       "      <th>writing score</th>\n",
       "      <td>0.802642</td>\n",
       "      <td>0.954598</td>\n",
       "      <td>1.000000</td>\n",
       "      <td>0.965667</td>\n",
       "    </tr>\n",
       "    <tr>\n",
       "      <th>total</th>\n",
       "      <td>0.918746</td>\n",
       "      <td>0.970331</td>\n",
       "      <td>0.965667</td>\n",
       "      <td>1.000000</td>\n",
       "    </tr>\n",
       "  </tbody>\n",
       "</table>\n",
       "</div>"
      ],
      "text/plain": [
       "               math score  reading score  writing score     total\n",
       "math score       1.000000       0.817580       0.802642  0.918746\n",
       "reading score    0.817580       1.000000       0.954598  0.970331\n",
       "writing score    0.802642       0.954598       1.000000  0.965667\n",
       "total            0.918746       0.970331       0.965667  1.000000"
      ]
     },
     "execution_count": 14,
     "metadata": {},
     "output_type": "execute_result"
    }
   ],
   "source": [
    "stuper.corr()"
   ]
  },
  {
   "cell_type": "code",
   "execution_count": null,
   "metadata": {},
   "outputs": [],
   "source": []
  }
 ],
 "metadata": {
  "kernelspec": {
   "display_name": "Python 3",
   "language": "python",
   "name": "python3"
  },
  "language_info": {
   "codemirror_mode": {
    "name": "ipython",
    "version": 3
   },
   "file_extension": ".py",
   "mimetype": "text/x-python",
   "name": "python",
   "nbconvert_exporter": "python",
   "pygments_lexer": "ipython3",
   "version": "3.7.3"
  }
 },
 "nbformat": 4,
 "nbformat_minor": 2
}
