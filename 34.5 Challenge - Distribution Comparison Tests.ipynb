{
 "cells": [
  {
   "cell_type": "markdown",
   "metadata": {},
   "source": [
    "## Questions\n",
    "Did people become less trusting from 2012 to 2014? Compute results for each country in the sample.\n",
    "\n",
    "Did people become happier from 2012 to 2014? Compute results for each country in the sample.\n",
    "\n",
    "Who reported watching more TV in 2012, men or women?\n",
    "\n",
    "Who was more likely to believe people were fair in 2012, people living with a partner or people living alone?\n",
    "\n",
    "Pick three or four of the countries in the sample and compare how often people met socially in 2014. Are there differences, and if so, which countries stand out?\n",
    "\n",
    "Pick three or four of the countries in the sample and compare how often people took part in social activities, relative to others their age, in 2014. Are there differences, and if so, which countries stand out?"
   ]
  },
  {
   "cell_type": "code",
   "execution_count": 6,
   "metadata": {},
   "outputs": [],
   "source": [
    "import os\n",
    "os.chdir('C:\\\\Users\\\\M246047\\\\Documents\\\\Python')\n",
    "import pandas as pd\n",
    "import numpy as np\n",
    "import seaborn as sns\n",
    "from matplotlib import pyplot as plt\n",
    "%matplotlib inline\n",
    "import scipy.stats as stats\n",
    "from statsmodels.stats.multicomp import pairwise_tukeyhsd\n",
    "\n",
    "import warnings\n",
    "warnings.filterwarnings(action=\"ignore\")"
   ]
  },
  {
   "cell_type": "code",
   "execution_count": 8,
   "metadata": {
    "scrolled": true
   },
   "outputs": [
    {
     "name": "stdout",
     "output_type": "stream",
     "text": [
      "<class 'pandas.core.frame.DataFrame'>\n",
      "RangeIndex: 8594 entries, 0 to 8593\n",
      "Data columns (total 13 columns):\n",
      "cntry      8594 non-null object\n",
      "idno       8594 non-null float64\n",
      "year       8594 non-null int64\n",
      "tvtot      8586 non-null float64\n",
      "ppltrst    8580 non-null float64\n",
      "pplfair    8555 non-null float64\n",
      "pplhlp     8569 non-null float64\n",
      "happy      8563 non-null float64\n",
      "sclmeet    8579 non-null float64\n",
      "sclact     8500 non-null float64\n",
      "gndr       8584 non-null float64\n",
      "agea       8355 non-null float64\n",
      "partner    8577 non-null float64\n",
      "dtypes: float64(11), int64(1), object(1)\n",
      "memory usage: 839.3+ KB\n",
      "None\n"
     ]
    },
    {
     "data": {
      "text/html": [
       "<div>\n",
       "<style scoped>\n",
       "    .dataframe tbody tr th:only-of-type {\n",
       "        vertical-align: middle;\n",
       "    }\n",
       "\n",
       "    .dataframe tbody tr th {\n",
       "        vertical-align: top;\n",
       "    }\n",
       "\n",
       "    .dataframe thead th {\n",
       "        text-align: right;\n",
       "    }\n",
       "</style>\n",
       "<table border=\"1\" class=\"dataframe\">\n",
       "  <thead>\n",
       "    <tr style=\"text-align: right;\">\n",
       "      <th></th>\n",
       "      <th>cntry</th>\n",
       "      <th>idno</th>\n",
       "      <th>year</th>\n",
       "      <th>tvtot</th>\n",
       "      <th>ppltrst</th>\n",
       "      <th>pplfair</th>\n",
       "      <th>pplhlp</th>\n",
       "      <th>happy</th>\n",
       "      <th>sclmeet</th>\n",
       "      <th>sclact</th>\n",
       "      <th>gndr</th>\n",
       "      <th>agea</th>\n",
       "      <th>partner</th>\n",
       "    </tr>\n",
       "  </thead>\n",
       "  <tbody>\n",
       "    <tr>\n",
       "      <th>0</th>\n",
       "      <td>CH</td>\n",
       "      <td>5.0</td>\n",
       "      <td>6</td>\n",
       "      <td>3.0</td>\n",
       "      <td>3.0</td>\n",
       "      <td>10.0</td>\n",
       "      <td>5.0</td>\n",
       "      <td>8.0</td>\n",
       "      <td>5.0</td>\n",
       "      <td>4.0</td>\n",
       "      <td>2.0</td>\n",
       "      <td>60.0</td>\n",
       "      <td>1.0</td>\n",
       "    </tr>\n",
       "    <tr>\n",
       "      <th>1</th>\n",
       "      <td>CH</td>\n",
       "      <td>25.0</td>\n",
       "      <td>6</td>\n",
       "      <td>6.0</td>\n",
       "      <td>5.0</td>\n",
       "      <td>7.0</td>\n",
       "      <td>5.0</td>\n",
       "      <td>9.0</td>\n",
       "      <td>3.0</td>\n",
       "      <td>2.0</td>\n",
       "      <td>2.0</td>\n",
       "      <td>59.0</td>\n",
       "      <td>1.0</td>\n",
       "    </tr>\n",
       "    <tr>\n",
       "      <th>2</th>\n",
       "      <td>CH</td>\n",
       "      <td>26.0</td>\n",
       "      <td>6</td>\n",
       "      <td>1.0</td>\n",
       "      <td>8.0</td>\n",
       "      <td>8.0</td>\n",
       "      <td>8.0</td>\n",
       "      <td>7.0</td>\n",
       "      <td>6.0</td>\n",
       "      <td>3.0</td>\n",
       "      <td>1.0</td>\n",
       "      <td>24.0</td>\n",
       "      <td>2.0</td>\n",
       "    </tr>\n",
       "    <tr>\n",
       "      <th>3</th>\n",
       "      <td>CH</td>\n",
       "      <td>28.0</td>\n",
       "      <td>6</td>\n",
       "      <td>4.0</td>\n",
       "      <td>6.0</td>\n",
       "      <td>6.0</td>\n",
       "      <td>7.0</td>\n",
       "      <td>10.0</td>\n",
       "      <td>6.0</td>\n",
       "      <td>2.0</td>\n",
       "      <td>2.0</td>\n",
       "      <td>64.0</td>\n",
       "      <td>1.0</td>\n",
       "    </tr>\n",
       "    <tr>\n",
       "      <th>4</th>\n",
       "      <td>CH</td>\n",
       "      <td>29.0</td>\n",
       "      <td>6</td>\n",
       "      <td>5.0</td>\n",
       "      <td>6.0</td>\n",
       "      <td>7.0</td>\n",
       "      <td>5.0</td>\n",
       "      <td>8.0</td>\n",
       "      <td>7.0</td>\n",
       "      <td>2.0</td>\n",
       "      <td>2.0</td>\n",
       "      <td>55.0</td>\n",
       "      <td>1.0</td>\n",
       "    </tr>\n",
       "  </tbody>\n",
       "</table>\n",
       "</div>"
      ],
      "text/plain": [
       "  cntry  idno  year  tvtot  ppltrst  pplfair  pplhlp  happy  sclmeet  sclact  \\\n",
       "0    CH   5.0     6    3.0      3.0     10.0     5.0    8.0      5.0     4.0   \n",
       "1    CH  25.0     6    6.0      5.0      7.0     5.0    9.0      3.0     2.0   \n",
       "2    CH  26.0     6    1.0      8.0      8.0     8.0    7.0      6.0     3.0   \n",
       "3    CH  28.0     6    4.0      6.0      6.0     7.0   10.0      6.0     2.0   \n",
       "4    CH  29.0     6    5.0      6.0      7.0     5.0    8.0      7.0     2.0   \n",
       "\n",
       "   gndr  agea  partner  \n",
       "0   2.0  60.0      1.0  \n",
       "1   2.0  59.0      1.0  \n",
       "2   1.0  24.0      2.0  \n",
       "3   2.0  64.0      1.0  \n",
       "4   2.0  55.0      1.0  "
      ]
     },
     "execution_count": 8,
     "metadata": {},
     "output_type": "execute_result"
    }
   ],
   "source": [
    "ess = pd.read_csv('ESSdata.csv')\n",
    "print(ess.info())\n",
    "ess.head()"
   ]
  },
  {
   "cell_type": "code",
   "execution_count": 9,
   "metadata": {},
   "outputs": [],
   "source": [
    "# ess[(ess['year'] == 6) & (ess['cntry'] == 'ES')]"
   ]
  },
  {
   "cell_type": "code",
   "execution_count": 10,
   "metadata": {},
   "outputs": [
    {
     "data": {
      "text/plain": [
       "tvtot        8\n",
       "ppltrst     14\n",
       "pplfair     39\n",
       "pplhlp      25\n",
       "happy       31\n",
       "sclmeet     15\n",
       "sclact      94\n",
       "gndr        10\n",
       "agea       239\n",
       "partner     17\n",
       "dtype: int64"
      ]
     },
     "execution_count": 10,
     "metadata": {},
     "output_type": "execute_result"
    }
   ],
   "source": [
    "null_columns = ess.columns[ess.isnull().any()]\n",
    "ess[null_columns].isnull().sum()"
   ]
  },
  {
   "cell_type": "code",
   "execution_count": 11,
   "metadata": {},
   "outputs": [
    {
     "data": {
      "text/plain": [
       "Series([], dtype: float64)"
      ]
     },
     "execution_count": 11,
     "metadata": {},
     "output_type": "execute_result"
    }
   ],
   "source": [
    "ess.fillna(ess.mean(), inplace = True)\n",
    "null_columns = ess.columns[ess.isnull().any()]\n",
    "ess[null_columns].isnull().sum()"
   ]
  },
  {
   "cell_type": "markdown",
   "metadata": {},
   "source": [
    "## 1. Did people become less trusting from 2012 to 2014? Compute results for each country in the sample."
   ]
  },
  {
   "cell_type": "code",
   "execution_count": 41,
   "metadata": {},
   "outputs": [],
   "source": [
    "# Creating dataframes for each country\n",
    "es = ess[ess['cntry'] == 'ES'].sort_values(by=['year'])\n",
    "se = ess[ess['cntry'] == 'SE'].sort_values(by=['year'])\n",
    "ch = ess[ess['cntry'] == 'CH'].sort_values(by=['year']) \n",
    "no = ess[ess['cntry'] == 'NO'].sort_values(by=['year'])\n",
    "cz = ess[ess['cntry'] == 'CZ'].sort_values(by=['year'])\n",
    "de = ess[ess['cntry'] == 'DE'].sort_values(by=['year'])\n",
    "\n",
    "# Creating lists of each country's trust values\n",
    "es_trust = np.array(es.ppltrst)\n",
    "se_trust = np.array(se.ppltrst)\n",
    "ch_trust = np.array(ch.ppltrst)\n",
    "no_trust = np.array(no.ppltrst)\n",
    "cz_trust = np.array(cz.ppltrst)\n",
    "de_trust = np.array(de.ppltrst)\n",
    "\n"
   ]
  },
  {
   "cell_type": "code",
   "execution_count": 13,
   "metadata": {
    "scrolled": true
   },
   "outputs": [
    {
     "data": {
      "image/png": "[encoded data removed]",
      "text/plain": [
       "<Figure size 432x288 with 6 Axes>"
      ]
     },
     "metadata": {
      "needs_background": "light"
     },
     "output_type": "display_data"
    }
   ],
   "source": [
    "# Looking at the distribution to decide which comparison test to use.\n",
    "es_trust.hist()\n",
    "plt.tight_layout(pad=1.08, h_pad=None)\n",
    "plt.subplot(2, 3, 1)\n",
    "plt.title('ES Trust')\n",
    "\n",
    "se_trust.hist()\n",
    "plt.tight_layout(pad=1.08, h_pad=None)\n",
    "\n",
    "plt.subplot(2, 3, 2)\n",
    "plt.title('SE Trust')\n",
    "\n",
    "ch_trust.hist()\n",
    "plt.tight_layout(pad=1.08, h_pad=None)\n",
    "plt.subplot(2, 3, 3)\n",
    "plt.title('CH Trust')\n",
    "\n",
    "no_trust.hist()\n",
    "plt.tight_layout(pad=1.08, h_pad=None)\n",
    "plt.subplot(2, 3, 4)\n",
    "plt.title('NO Trust')\n",
    "\n",
    "cz_trust.hist()\n",
    "plt.tight_layout(pad=1.08, h_pad=None)\n",
    "plt.subplot(2, 3, 5)\n",
    "plt.title('CZ Trust')\n",
    "\n",
    "de_trust.hist()\n",
    "plt.tight_layout(pad=1.08, h_pad=None)\n",
    "plt.subplot(2, 3, 6)\n",
    "plt.title('DE Trust')\n",
    "plt.show()\n",
    "\n",
    "# de_trust.hist()\n",
    "# plt.title('DE Trust')\n",
    "# plt.show()"
   ]
  },
  {
   "cell_type": "markdown",
   "metadata": {},
   "source": [
    "Apparently these distributions are normal enough that I can use an ANOVA to compare the groups. "
   ]
  },
  {
   "cell_type": "code",
   "execution_count": 48,
   "metadata": {},
   "outputs": [
    {
     "name": "stdout",
     "output_type": "stream",
     "text": [
      "Spain Trust Average\n"
     ]
    }
   ],
   "source": [
    "print('Spain Trust Average')\n",
    "stats.f_oneway(es_trust, se_trust, ch_trust, no_trust, cz_trust, de_trust)\n",
    "\n",
    "def trust(df):\n",
    "    df_2012 = df[df['year'] == 6] \n",
    "#     print(df_2012.head())\n",
    "    df_2012 = df_2012[['ppltrst']]\n",
    "#     print(df_2012.head())\n",
    "    df_2012_length = len(df_2012)\n",
    "#     print(df_2012_length)\n",
    "    df_2014 = df[df['year'] == 7]\n",
    "    df_2014 = df_2014[['ppltrst']]\n",
    "    \n",
    "    print('Average trust for 2012: ', df_2012.mean())\n",
    "    print('Average trust for 2014: ', df_2014.mean())\n",
    "    print(stats.f_oneway(df_2012, df_2014))"
   ]
  },
  {
   "cell_type": "code",
   "execution_count": 50,
   "metadata": {},
   "outputs": [
    {
     "name": "stdout",
     "output_type": "stream",
     "text": [
      "Stats for Spain Trust: \n",
      "\n",
      "Average trust for 2012:  ppltrst    5.114592\n",
      "dtype: float64\n",
      "Average trust for 2014:  ppltrst    4.896224\n",
      "dtype: float64\n",
      "F_onewayResult(statistic=array([6.16912366]), pvalue=array([0.013067]))\n",
      "\n",
      " Stats for Sweden Trust: \n",
      "\n",
      "Average trust for 2012:  ppltrst    6.057401\n",
      "dtype: float64\n",
      "Average trust for 2014:  ppltrst    6.257709\n",
      "dtype: float64\n",
      "F_onewayResult(statistic=array([4.4223186]), pvalue=array([0.03560925]))\n",
      "Stats for Switzerland Trust: \n",
      "\n",
      "Average trust for 2012:  ppltrst    5.677878\n",
      "dtype: float64\n",
      "Average trust for 2014:  ppltrst    5.751617\n",
      "dtype: float64\n",
      "F_onewayResult(statistic=array([0.46005244]), pvalue=array([0.4977011]))\n",
      "Stats for Norway Trust: \n",
      "\n",
      "Average trust for 2012:  ppltrst    6.647825\n",
      "dtype: float64\n",
      "Average trust for 2014:  ppltrst    6.597209\n",
      "dtype: float64\n",
      "F_onewayResult(statistic=array([0.29553846]), pvalue=array([0.58677601]))\n",
      "Stats for Czech Republic Trust: \n",
      "\n",
      "Average trust for 2012:  ppltrst    4.375257\n",
      "dtype: float64\n",
      "Average trust for 2014:  ppltrst    4.426383\n",
      "dtype: float64\n",
      "F_onewayResult(statistic=array([0.15538216]), pvalue=array([0.6935081]))\n",
      "Stats for Germany Trust: \n",
      "\n",
      "Average trust for 2012:  ppltrst    5.214286\n",
      "dtype: float64\n",
      "Average trust for 2014:  ppltrst    5.357143\n",
      "dtype: float64\n",
      "F_onewayResult(statistic=array([0.0327044]), pvalue=array([0.85789266]))\n"
     ]
    }
   ],
   "source": [
    "print('Stats for Spain Trust: \\n')\n",
    "trust(es)\n",
    "\n",
    "print('\\n Stats for Sweden Trust: \\n')\n",
    "trust(se)\n",
    "\n",
    "print('Stats for Switzerland Trust: \\n')\n",
    "trust(ch)\n",
    "\n",
    "print('Stats for Norway Trust: \\n')\n",
    "trust(no)\n",
    "\n",
    "print('Stats for Czech Republic Trust: \\n')\n",
    "trust(cz)\n",
    "\n",
    "print('Stats for Germany Trust: \\n')\n",
    "trust(de)"
   ]
  },
  {
   "cell_type": "markdown",
   "metadata": {},
   "source": [
    "For the most part, there's no significant difference. Spain had a decrease in trust whereas Sweden had an increase, but no other countries had significant changes."
   ]
  },
  {
   "cell_type": "markdown",
   "metadata": {},
   "source": [
    "## 2. Did people become happier from 2012 to 2014? Compute results for each country in the sample.\n",
    "\n"
   ]
  },
  {
   "cell_type": "code",
   "execution_count": 100,
   "metadata": {},
   "outputs": [],
   "source": [
    "# Creating lists of each country's trust values\n",
    "es_happy = es.happy\n",
    "se_happy = se.happy\n",
    "ch_happy = ch.happy\n",
    "no_happy = no.happy\n",
    "cz_happy = cz.happy\n",
    "de_happy = de.happy"
   ]
  },
  {
   "cell_type": "code",
   "execution_count": 101,
   "metadata": {
    "scrolled": true
   },
   "outputs": [
    {
     "data": {
      "image/png": "[encoded data removed]",
      "text/plain": [
       "<Figure size 432x288 with 1 Axes>"
      ]
     },
     "metadata": {
      "needs_background": "light"
     },
     "output_type": "display_data"
    },
    {
     "name": "stdout",
     "output_type": "stream",
     "text": [
      "\n",
      "\n"
     ]
    },
    {
     "data": {
      "image/png": "[encoded data removed]",
      "text/plain": [
       "<Figure size 432x288 with 1 Axes>"
      ]
     },
     "metadata": {
      "needs_background": "light"
     },
     "output_type": "display_data"
    },
    {
     "name": "stdout",
     "output_type": "stream",
     "text": [
      "\n",
      "\n"
     ]
    },
    {
     "data": {
      "image/png": "[encoded data removed]",
      "text/plain": [
       "<Figure size 432x288 with 1 Axes>"
      ]
     },
     "metadata": {
      "needs_background": "light"
     },
     "output_type": "display_data"
    },
    {
     "name": "stdout",
     "output_type": "stream",
     "text": [
      "\n",
      "\n"
     ]
    },
    {
     "data": {
      "image/png": "[encoded data removed]",
      "text/plain": [
       "<Figure size 432x288 with 1 Axes>"
      ]
     },
     "metadata": {
      "needs_background": "light"
     },
     "output_type": "display_data"
    },
    {
     "name": "stdout",
     "output_type": "stream",
     "text": [
      "\n",
      "\n"
     ]
    },
    {
     "data": {
      "image/png": "[encoded data removed]",
      "text/plain": [
       "<Figure size 432x288 with 1 Axes>"
      ]
     },
     "metadata": {
      "needs_background": "light"
     },
     "output_type": "display_data"
    },
    {
     "name": "stdout",
     "output_type": "stream",
     "text": [
      "\n",
      "\n"
     ]
    },
    {
     "data": {
      "image/png": "[encoded data removed]",
      "text/plain": [
       "<Figure size 432x288 with 1 Axes>"
      ]
     },
     "metadata": {
      "needs_background": "light"
     },
     "output_type": "display_data"
    },
    {
     "name": "stdout",
     "output_type": "stream",
     "text": [
      "\n",
      "\n"
     ]
    }
   ],
   "source": [
    "# Looking at the distribution to decide which comparison test to use.\n",
    "for df in [es_happy, se_happy, ch_happy, no_happy, cz_happy, de_happy]:\n",
    "    df.hist()\n",
    "    plt.title('Happiness Distribution')\n",
    "    plt.show()\n",
    "    print('\\n')\n",
    "\n"
   ]
  },
  {
   "cell_type": "markdown",
   "metadata": {},
   "source": [
    "The distributions are mostly skewed to the left and do not appear to have mathematical properties, so I will use the Kruskal-Wallis test. "
   ]
  },
  {
   "cell_type": "code",
   "execution_count": 20,
   "metadata": {},
   "outputs": [],
   "source": [
    "def rank_kruskal_comparison_test(df, column_of_interest):\n",
    "#     print(df.head())\n",
    "#     print(df.info())\n",
    "    df_2012 = df[df['year'] == 6] \n",
    "#     print(df_2012.head())\n",
    "    df_2012 = df_2012[[column_of_interest]]\n",
    "#     print(df_2012.head())\n",
    "    df_2012_length = len(df_2012)\n",
    "#     print(df_2012_length)\n",
    "    df_2014 = df[df['year'] == 7]\n",
    "    df_2014 = df_2014[[column_of_interest]]\n",
    "#     print(df_2014.head())\n",
    "    df_2014_length = len(df_2014)\n",
    "#     print(df_2014_length)\n",
    "    ranks = stats.rankdata(df_2012 + df_2014)\n",
    "#     print('Ranks:', ranks[:10])\n",
    "    \n",
    "    # Create a new dataframe of ranks\n",
    "    new_df = pd.DataFrame()\n",
    "    new_df['Ranks_2012'] = ranks[0:df_2012_length]\n",
    "\n",
    "    new_df['Ranks_2014'] = ranks[df_2012_length:]\n",
    "    print(new_df.head())\n",
    "                       \n",
    "    # Average rank per group.\n",
    "    groups = ['Ranks_2012', 'Ranks_2014']\n",
    "    print(new_df[groups].apply(np.mean))\n",
    "\n",
    "    # Overall average rank.\n",
    "    print(np.mean(ranks))\n",
    "\n",
    "    # Print the test statistic followed by the probability of getting this result\n",
    "    # if the groups were not different.\n",
    "    print(stats.kruskal(\n",
    "        new_df['Ranks_2012'],\n",
    "        new_df['Ranks_2014']))"
   ]
  },
  {
   "cell_type": "markdown",
   "metadata": {},
   "source": [
    "I'll use the Kruskal-Wallis test as there are more than two groups with abnormal distributions, and while it's possible that all participants participated in both versions (each year), the data is not formatted in a way to allow us to confirm."
   ]
  },
  {
   "cell_type": "code",
   "execution_count": 102,
   "metadata": {},
   "outputs": [],
   "source": [
    "# As the distributions do not appear to have known mathematical properties, I'll use the Kruskal-Wallis test.\n",
    "\n",
    "def no_rank_kruskal_comparison_test(df, column_of_interest):\n",
    "    df_2012 = df[df['year'] == 6] # dataframe of just year 2012\n",
    "    df_2012 = df_2012[[column_of_interest]] # dataframe of column of interest in 2012\n",
    "    list_2012 = df_2012[column_of_interest].tolist() # converting column of interest to list\n",
    "\n",
    "    print(type(list_2012), list_2012[:5])\n",
    "    df_2014 = df[df['year'] == 7] # dataframe of just year 2014\n",
    "    df_2014 = df_2014[[column_of_interest]] # dataframe of column of interest in 2014\n",
    "    list_2014 = df_2014[column_of_interest].tolist() # converting column of interest to list\n",
    "    print(df_2014.head())\n",
    "\n",
    "    \n",
    "    \n",
    "    # Create a new dataframe of ranks\n",
    "    new_df = pd.DataFrame()\n",
    "    new_df['2012'] = list_2012\n",
    "    new_df['2014'] = list_2014\n",
    "    print('\\n New DataFrame Head: \\n', new_df.head())\n",
    "                       \n",
    "    # Average rank per group.\n",
    "    groups = ['2012', '2014']\n",
    "    print(new_df[groups].apply(np.mean))\n",
    "\n",
    "    # Overall average rank.\n",
    "#    print(np.mean(groups))\n",
    "\n",
    "    # Print the test statistic followed by the probability of getting this result\n",
    "    # if the groups were not different.\n",
    "    print(stats.kruskal(\n",
    "        new_df['2012'],\n",
    "        new_df['2014']))"
   ]
  },
  {
   "cell_type": "code",
   "execution_count": 103,
   "metadata": {
    "scrolled": false
   },
   "outputs": [
    {
     "name": "stdout",
     "output_type": "stream",
     "text": [
      "Happy Comparison test for ES\n",
      "<class 'list'> [9.0, 7.0, 9.0, 10.0, 6.0]\n",
      "      happy\n",
      "4910    6.0\n",
      "4914    8.0\n",
      "4913    9.0\n",
      "4912   10.0\n",
      "4911   10.0\n",
      "\n",
      " New DataFrame Head: \n",
      "    2012  2014\n",
      "0   9.0   6.0\n",
      "1   7.0   8.0\n",
      "2   9.0   9.0\n",
      "3  10.0  10.0\n",
      "4   6.0  10.0\n",
      "2012    7.548800\n",
      "2014    7.420193\n",
      "dtype: float64\n",
      "KruskalResult(statistic=4.086118020109992, pvalue=0.043236838117116295)\n",
      "\n",
      "\n",
      "Trust Comparison test for ES\n",
      "<class 'list'> [3.0, 3.0, 3.0, 5.0, 4.0]\n",
      "      ppltrst\n",
      "4910      1.0\n",
      "4914      1.0\n",
      "4913      8.0\n",
      "4912      8.0\n",
      "4911      7.0\n",
      "\n",
      " New DataFrame Head: \n",
      "    2012  2014\n",
      "0   3.0   1.0\n",
      "1   3.0   1.0\n",
      "2   3.0   8.0\n",
      "3   5.0   8.0\n",
      "4   4.0   7.0\n",
      "2012    5.114592\n",
      "2014    4.896224\n",
      "dtype: float64\n",
      "KruskalResult(statistic=8.149961651374431, pvalue=0.004306207168095373)\n"
     ]
    }
   ],
   "source": [
    "print('Happy Comparison test for ES')\n",
    "no_rank_kruskal_comparison_test(es, 'happy')\n",
    "\n",
    "print('\\n')\n",
    "\n",
    "print('Trust Comparison test for ES')\n",
    "no_rank_kruskal_comparison_test(es, 'ppltrst')"
   ]
  },
  {
   "cell_type": "code",
   "execution_count": 22,
   "metadata": {
    "scrolled": false
   },
   "outputs": [
    {
     "name": "stdout",
     "output_type": "stream",
     "text": [
      "Comparison test for ES\n",
      "   Ranks_2012  Ranks_2014\n",
      "0         1.0      1212.0\n",
      "1      1613.0      1060.0\n",
      "2      1614.0       399.0\n",
      "3      1615.0       400.0\n",
      "4      1616.0       401.0\n",
      "Ranks_2012    1817.501237\n",
      "Ranks_2014     609.498763\n",
      "dtype: float64\n",
      "1213.5\n",
      "KruskalResult(statistic=1803.7947778418402, pvalue=0.0)\n",
      "\n",
      " Comparison test for SE\n",
      "   Ranks_2012  Ranks_2014\n",
      "0         1.0       907.0\n",
      "1      1216.0       453.0\n",
      "2      1215.0       308.0\n",
      "3      1214.0       307.0\n",
      "4      1213.0       306.0\n",
      "Ranks_2012    1359.626652\n",
      "Ranks_2014     457.373348\n",
      "dtype: float64\n",
      "908.5\n",
      "KruskalResult(statistic=1344.0743387704806, pvalue=2.987938124745757e-294)\n",
      "\n",
      " Comparison test for CH\n",
      "   Ranks_2012  Ranks_2014\n",
      "0         1.0       772.0\n",
      "1      1035.0       675.0\n",
      "2      1034.0       262.0\n",
      "3      1033.0       261.0\n",
      "4      1032.0       260.0\n",
      "Ranks_2012    1157.50194\n",
      "Ranks_2014     389.49806\n",
      "dtype: float64\n",
      "773.5\n",
      "KruskalResult(statistic=1143.820222117447, pvalue=9.885006003713769e-251)\n",
      "\n",
      " Comparison test for NO\n",
      "   Ranks_2012  Ranks_2014\n",
      "0         1.0       730.0\n",
      "1       979.0       547.0\n",
      "2       978.0       247.0\n",
      "3       977.0       246.0\n",
      "4       976.0       245.0\n",
      "Ranks_2012    1094.502052\n",
      "Ranks_2014     368.497948\n",
      "dtype: float64\n",
      "731.5\n",
      "KruskalResult(statistic=1080.8242494405422, pvalue=4.860242169393342e-237)\n",
      "\n",
      " Comparison test for CZ\n",
      "   Ranks_2012  Ranks_2014\n",
      "0         1.0       657.0\n",
      "1       880.0       328.0\n",
      "2       879.0       222.0\n",
      "3       878.0       221.0\n",
      "4       877.0       220.0\n",
      "Ranks_2012    984.75228\n",
      "Ranks_2014    332.24772\n",
      "dtype: float64\n",
      "658.5\n",
      "KruskalResult(statistic=969.8455577877248, pvalue=6.439543764940963e-213)\n",
      "\n",
      " Comparison test for DE\n",
      "   Ranks_2012  Ranks_2014\n",
      "0         1.0        13.0\n",
      "1        26.0        12.0\n",
      "2        25.0        11.0\n",
      "3        24.0        10.0\n",
      "4        23.0         9.0\n",
      "Ranks_2012    18.642857\n",
      "Ranks_2014    10.357143\n",
      "dtype: float64\n",
      "14.5\n",
      "KruskalResult(statistic=7.102040816326536, pvalue=0.0076996234264309375)\n"
     ]
    }
   ],
   "source": [
    "print('Comparison test for ES')\n",
    "rank_kruskal_comparison_test(es, 'happy')\n",
    "print('\\n Comparison test for SE')\n",
    "rank_kruskal_comparison_test(se, 'happy')\n",
    "print('\\n Comparison test for CH')\n",
    "rank_kruskal_comparison_test(ch, 'happy')\n",
    "print('\\n Comparison test for NO')\n",
    "rank_kruskal_comparison_test(no, 'happy')\n",
    "print('\\n Comparison test for CZ')\n",
    "rank_kruskal_comparison_test(cz, 'happy')\n",
    "print('\\n Comparison test for DE')\n",
    "rank_kruskal_comparison_test(de, 'happy')"
   ]
  },
  {
   "cell_type": "markdown",
   "metadata": {},
   "source": [
    "## 3. Who reported watching more TV in 2012, men or women?"
   ]
  },
  {
   "cell_type": "code",
   "execution_count": 105,
   "metadata": {},
   "outputs": [
    {
     "data": {
      "text/html": [
       "<div>\n",
       "<style scoped>\n",
       "    .dataframe tbody tr th:only-of-type {\n",
       "        vertical-align: middle;\n",
       "    }\n",
       "\n",
       "    .dataframe tbody tr th {\n",
       "        vertical-align: top;\n",
       "    }\n",
       "\n",
       "    .dataframe thead th {\n",
       "        text-align: right;\n",
       "    }\n",
       "</style>\n",
       "<table border=\"1\" class=\"dataframe\">\n",
       "  <thead>\n",
       "    <tr style=\"text-align: right;\">\n",
       "      <th></th>\n",
       "      <th>cntry</th>\n",
       "      <th>idno</th>\n",
       "      <th>year</th>\n",
       "      <th>tvtot</th>\n",
       "      <th>ppltrst</th>\n",
       "      <th>pplfair</th>\n",
       "      <th>pplhlp</th>\n",
       "      <th>happy</th>\n",
       "      <th>sclmeet</th>\n",
       "      <th>sclact</th>\n",
       "      <th>gndr</th>\n",
       "      <th>agea</th>\n",
       "      <th>partner</th>\n",
       "    </tr>\n",
       "  </thead>\n",
       "  <tbody>\n",
       "    <tr>\n",
       "      <th>0</th>\n",
       "      <td>CH</td>\n",
       "      <td>5.0</td>\n",
       "      <td>6</td>\n",
       "      <td>3.0</td>\n",
       "      <td>3.0</td>\n",
       "      <td>10.0</td>\n",
       "      <td>5.0</td>\n",
       "      <td>8.0</td>\n",
       "      <td>5.0</td>\n",
       "      <td>4.0</td>\n",
       "      <td>2.0</td>\n",
       "      <td>60.0</td>\n",
       "      <td>1.0</td>\n",
       "    </tr>\n",
       "    <tr>\n",
       "      <th>1</th>\n",
       "      <td>CH</td>\n",
       "      <td>25.0</td>\n",
       "      <td>6</td>\n",
       "      <td>6.0</td>\n",
       "      <td>5.0</td>\n",
       "      <td>7.0</td>\n",
       "      <td>5.0</td>\n",
       "      <td>9.0</td>\n",
       "      <td>3.0</td>\n",
       "      <td>2.0</td>\n",
       "      <td>2.0</td>\n",
       "      <td>59.0</td>\n",
       "      <td>1.0</td>\n",
       "    </tr>\n",
       "    <tr>\n",
       "      <th>2</th>\n",
       "      <td>CH</td>\n",
       "      <td>26.0</td>\n",
       "      <td>6</td>\n",
       "      <td>1.0</td>\n",
       "      <td>8.0</td>\n",
       "      <td>8.0</td>\n",
       "      <td>8.0</td>\n",
       "      <td>7.0</td>\n",
       "      <td>6.0</td>\n",
       "      <td>3.0</td>\n",
       "      <td>1.0</td>\n",
       "      <td>24.0</td>\n",
       "      <td>2.0</td>\n",
       "    </tr>\n",
       "    <tr>\n",
       "      <th>3</th>\n",
       "      <td>CH</td>\n",
       "      <td>28.0</td>\n",
       "      <td>6</td>\n",
       "      <td>4.0</td>\n",
       "      <td>6.0</td>\n",
       "      <td>6.0</td>\n",
       "      <td>7.0</td>\n",
       "      <td>10.0</td>\n",
       "      <td>6.0</td>\n",
       "      <td>2.0</td>\n",
       "      <td>2.0</td>\n",
       "      <td>64.0</td>\n",
       "      <td>1.0</td>\n",
       "    </tr>\n",
       "    <tr>\n",
       "      <th>4</th>\n",
       "      <td>CH</td>\n",
       "      <td>29.0</td>\n",
       "      <td>6</td>\n",
       "      <td>5.0</td>\n",
       "      <td>6.0</td>\n",
       "      <td>7.0</td>\n",
       "      <td>5.0</td>\n",
       "      <td>8.0</td>\n",
       "      <td>7.0</td>\n",
       "      <td>2.0</td>\n",
       "      <td>2.0</td>\n",
       "      <td>55.0</td>\n",
       "      <td>1.0</td>\n",
       "    </tr>\n",
       "  </tbody>\n",
       "</table>\n",
       "</div>"
      ],
      "text/plain": [
       "  cntry  idno  year  tvtot  ppltrst  pplfair  pplhlp  happy  sclmeet  sclact  \\\n",
       "0    CH   5.0     6    3.0      3.0     10.0     5.0    8.0      5.0     4.0   \n",
       "1    CH  25.0     6    6.0      5.0      7.0     5.0    9.0      3.0     2.0   \n",
       "2    CH  26.0     6    1.0      8.0      8.0     8.0    7.0      6.0     3.0   \n",
       "3    CH  28.0     6    4.0      6.0      6.0     7.0   10.0      6.0     2.0   \n",
       "4    CH  29.0     6    5.0      6.0      7.0     5.0    8.0      7.0     2.0   \n",
       "\n",
       "   gndr  agea  partner  \n",
       "0   2.0  60.0      1.0  \n",
       "1   2.0  59.0      1.0  \n",
       "2   1.0  24.0      2.0  \n",
       "3   2.0  64.0      1.0  \n",
       "4   2.0  55.0      1.0  "
      ]
     },
     "execution_count": 105,
     "metadata": {},
     "output_type": "execute_result"
    }
   ],
   "source": [
    "ess.head()"
   ]
  },
  {
   "cell_type": "code",
   "execution_count": 106,
   "metadata": {},
   "outputs": [],
   "source": [
    "women = ess[ess['gndr'] == 2].dropna(how='all')\n",
    "women_2012 = women[women['year'] == 6]\n",
    "women_2012_tv = women_2012[['tvtot']]\n",
    "\n",
    "men = ess[ess['gndr'] == 1].dropna(how='all')\n",
    "men_2012 = men[men['year'] == 6]\n",
    "men_2012_tv = men_2012[['tvtot']]"
   ]
  },
  {
   "cell_type": "code",
   "execution_count": 107,
   "metadata": {},
   "outputs": [
    {
     "data": {
      "image/png": "[encoded data removed]",
      "text/plain": [
       "<Figure size 432x288 with 1 Axes>"
      ]
     },
     "metadata": {
      "needs_background": "light"
     },
     "output_type": "display_data"
    },
    {
     "data": {
      "image/png": "[encoded data removed]",
      "text/plain": [
       "<Figure size 432x288 with 1 Axes>"
      ]
     },
     "metadata": {
      "needs_background": "light"
     },
     "output_type": "display_data"
    }
   ],
   "source": [
    "women_2012_tv.hist()\n",
    "plt.title('Distribution of Women/TV')\n",
    "plt.show()\n",
    "\n",
    "\n",
    "men_2012_tv.hist()\n",
    "plt.title('Distribution of Men/TV')\n",
    "plt.show()"
   ]
  },
  {
   "cell_type": "markdown",
   "metadata": {},
   "source": [
    "\n",
    "The distributions don't appear to have any mathematical proprties, so I'll use Mood's Median test to compare the groups."
   ]
  },
  {
   "cell_type": "code",
   "execution_count": 108,
   "metadata": {
    "scrolled": true
   },
   "outputs": [
    {
     "name": "stdout",
     "output_type": "stream",
     "text": [
      "Women's TV:  [3.0, 6.0, 4.0, 5.0, 4.0]\n",
      "8452.585953878406\n",
      "Women's Average: 3.924134611828415\n",
      "Men' Average: 3.901850489265741\n",
      "Mood's Median Test:  (0.10426985208133409, 0.7467645942644672, 4.0, array([[ 853,  846],\n",
      "       [1290, 1308]], dtype=int64))\n",
      "Mann-Whitney U's Median Test:  MannwhitneyuResult(statistic=2277416.0, pvalue=0.22352009375447118)\n"
     ]
    }
   ],
   "source": [
    "# Converting the columns into arrays\n",
    "\n",
    "wtv = list(women_2012_tv['tvtot'])\n",
    "mtv = list(men_2012_tv['tvtot'])\n",
    "print('Women\\'s TV: ',wtv[:5])\n",
    "print(sum(wtv))\n",
    "print('Women\\'s Average:', sum(wtv)/len(mtv))\n",
    "print('Men\\' Average:', sum(mtv)/len(mtv))\n",
    "# Running Mood's Median Test\n",
    "print('Mood\\'s Median Test: ', stats.median_test(wtv, mtv))\n",
    "\n",
    "print('\\nMann-Whitney U\\'s Median Test: ', stats.mannwhitneyu(wtv, mtv))\n"
   ]
  },
  {
   "cell_type": "markdown",
   "metadata": {},
   "source": [
    "There is no significant difference between the amount of TV men and women reported watching. "
   ]
  },
  {
   "cell_type": "markdown",
   "metadata": {},
   "source": [
    "## 4. Who was more likely to believe people were fair in 2012, people living with a partner or people living alone?"
   ]
  },
  {
   "cell_type": "code",
   "execution_count": 116,
   "metadata": {},
   "outputs": [],
   "source": [
    "partners = ess[(ess['partner'] == 1)]\n",
    "partners_pplfair = partners['pplfair']\n",
    "\n",
    "no_partners = ess[(ess['partner'] == 2)]\n",
    "no_partners_pplfair = no_partners['pplfair']"
   ]
  },
  {
   "cell_type": "code",
   "execution_count": 117,
   "metadata": {},
   "outputs": [
    {
     "data": {
      "image/png": "[encoded data removed]",
      "text/plain": [
       "<Figure size 432x288 with 1 Axes>"
      ]
     },
     "metadata": {
      "needs_background": "light"
     },
     "output_type": "display_data"
    },
    {
     "data": {
      "image/png": "[encoded data removed]",
      "text/plain": [
       "<Figure size 432x288 with 1 Axes>"
      ]
     },
     "metadata": {
      "needs_background": "light"
     },
     "output_type": "display_data"
    }
   ],
   "source": [
    "partners_pplfair.hist()\n",
    "plt.title('Distribution of Perspective of Fairness of People with Partners')\n",
    "plt.show()\n",
    "\n",
    "no_partners_pplfair.hist()\n",
    "plt.title('Distribution of Perspective of Fairness of People without Partners')\n",
    "plt.show()"
   ]
  },
  {
   "cell_type": "markdown",
   "metadata": {},
   "source": [
    "Both sets of data are quite skewed to the left. These are two independent groups, so I will utilize non-parametric tests, Moody's Median Test and the Mann-Whitney U."
   ]
  },
  {
   "cell_type": "code",
   "execution_count": 118,
   "metadata": {},
   "outputs": [
    {
     "name": "stdout",
     "output_type": "stream",
     "text": [
      "Average Rating of Fairness for People with Partners: 6.063701181624142\n",
      "Average Rating of Fairness for People without Partners: 5.911877614969234\n",
      "\n",
      "Mood's Median Test:  (15.189533569289047, 9.724089842863612e-05, 6.0, array([[2654, 1517],\n",
      "       [2622, 1784]], dtype=int64))\n"
     ]
    },
    {
     "data": {
      "text/plain": [
       "MannwhitneyuResult(statistic=8299244.5, pvalue=0.00010298285775000211)"
      ]
     },
     "execution_count": 118,
     "metadata": {},
     "output_type": "execute_result"
    }
   ],
   "source": [
    "partners_pplfair = partners_pplfair.tolist()\n",
    "no_partners_pplfair = no_partners_pplfair.tolist()\n",
    "\n",
    "print('Average Rating of Fairness for People with Partners:', sum(partners_pplfair)/len(partners_pplfair))\n",
    "print('Average Rating of Fairness for People without Partners:', sum(no_partners_pplfair)/len(no_partners_pplfair))\n",
    "\n",
    "print('\\nMood\\'s Median Test: ', stats.median_test(partners_pplfair, no_partners_pplfair))\n",
    "stats.mannwhitneyu(partners_pplfair, no_partners_pplfair)"
   ]
  },
  {
   "cell_type": "markdown",
   "metadata": {},
   "source": [
    "The test statistic is high and the p-value is just under 0.0003, indicating there's a 0.03% chance for the difference in means if there was no difference between the groups.\n",
    "\n",
    "\n",
    "\n",
    "\n",
    "\n",
    "## 5. Pick three or four of the countries in the sample and compare how often people met socially in 2014. Are there differences, and if so, which countries stand out?"
   ]
  },
  {
   "cell_type": "code",
   "execution_count": 24,
   "metadata": {},
   "outputs": [
    {
     "data": {
      "text/html": [
       "<div>\n",
       "<style scoped>\n",
       "    .dataframe tbody tr th:only-of-type {\n",
       "        vertical-align: middle;\n",
       "    }\n",
       "\n",
       "    .dataframe tbody tr th {\n",
       "        vertical-align: top;\n",
       "    }\n",
       "\n",
       "    .dataframe thead th {\n",
       "        text-align: right;\n",
       "    }\n",
       "</style>\n",
       "<table border=\"1\" class=\"dataframe\">\n",
       "  <thead>\n",
       "    <tr style=\"text-align: right;\">\n",
       "      <th></th>\n",
       "      <th>cntry</th>\n",
       "      <th>idno</th>\n",
       "      <th>year</th>\n",
       "      <th>tvtot</th>\n",
       "      <th>ppltrst</th>\n",
       "      <th>pplfair</th>\n",
       "      <th>pplhlp</th>\n",
       "      <th>happy</th>\n",
       "      <th>sclmeet</th>\n",
       "      <th>sclact</th>\n",
       "      <th>gndr</th>\n",
       "      <th>agea</th>\n",
       "      <th>partner</th>\n",
       "    </tr>\n",
       "  </thead>\n",
       "  <tbody>\n",
       "    <tr>\n",
       "      <th>2204</th>\n",
       "      <td>CZ</td>\n",
       "      <td>1001.0</td>\n",
       "      <td>7</td>\n",
       "      <td>5.0</td>\n",
       "      <td>3.0</td>\n",
       "      <td>3.0</td>\n",
       "      <td>2.0</td>\n",
       "      <td>7.0</td>\n",
       "      <td>4.0</td>\n",
       "      <td>4.0</td>\n",
       "      <td>2.0</td>\n",
       "      <td>71.0</td>\n",
       "      <td>2.0</td>\n",
       "    </tr>\n",
       "    <tr>\n",
       "      <th>2205</th>\n",
       "      <td>CZ</td>\n",
       "      <td>1002.0</td>\n",
       "      <td>7</td>\n",
       "      <td>5.0</td>\n",
       "      <td>5.0</td>\n",
       "      <td>7.0</td>\n",
       "      <td>3.0</td>\n",
       "      <td>5.0</td>\n",
       "      <td>5.0</td>\n",
       "      <td>1.0</td>\n",
       "      <td>2.0</td>\n",
       "      <td>52.0</td>\n",
       "      <td>1.0</td>\n",
       "    </tr>\n",
       "    <tr>\n",
       "      <th>2206</th>\n",
       "      <td>CZ</td>\n",
       "      <td>1003.0</td>\n",
       "      <td>7</td>\n",
       "      <td>7.0</td>\n",
       "      <td>5.0</td>\n",
       "      <td>4.0</td>\n",
       "      <td>3.0</td>\n",
       "      <td>6.0</td>\n",
       "      <td>4.0</td>\n",
       "      <td>3.0</td>\n",
       "      <td>1.0</td>\n",
       "      <td>55.0</td>\n",
       "      <td>2.0</td>\n",
       "    </tr>\n",
       "    <tr>\n",
       "      <th>2207</th>\n",
       "      <td>CZ</td>\n",
       "      <td>1004.0</td>\n",
       "      <td>7</td>\n",
       "      <td>7.0</td>\n",
       "      <td>5.0</td>\n",
       "      <td>5.0</td>\n",
       "      <td>3.0</td>\n",
       "      <td>7.0</td>\n",
       "      <td>4.0</td>\n",
       "      <td>3.0</td>\n",
       "      <td>1.0</td>\n",
       "      <td>64.0</td>\n",
       "      <td>1.0</td>\n",
       "    </tr>\n",
       "    <tr>\n",
       "      <th>2208</th>\n",
       "      <td>CZ</td>\n",
       "      <td>1005.0</td>\n",
       "      <td>7</td>\n",
       "      <td>3.0</td>\n",
       "      <td>4.0</td>\n",
       "      <td>5.0</td>\n",
       "      <td>5.0</td>\n",
       "      <td>6.0</td>\n",
       "      <td>5.0</td>\n",
       "      <td>3.0</td>\n",
       "      <td>1.0</td>\n",
       "      <td>59.0</td>\n",
       "      <td>1.0</td>\n",
       "    </tr>\n",
       "  </tbody>\n",
       "</table>\n",
       "</div>"
      ],
      "text/plain": [
       "     cntry    idno  year  tvtot  ppltrst  pplfair  pplhlp  happy  sclmeet  \\\n",
       "2204    CZ  1001.0     7    5.0      3.0      3.0     2.0    7.0      4.0   \n",
       "2205    CZ  1002.0     7    5.0      5.0      7.0     3.0    5.0      5.0   \n",
       "2206    CZ  1003.0     7    7.0      5.0      4.0     3.0    6.0      4.0   \n",
       "2207    CZ  1004.0     7    7.0      5.0      5.0     3.0    7.0      4.0   \n",
       "2208    CZ  1005.0     7    3.0      4.0      5.0     5.0    6.0      5.0   \n",
       "\n",
       "      sclact  gndr  agea  partner  \n",
       "2204     4.0   2.0  71.0      2.0  \n",
       "2205     1.0   2.0  52.0      1.0  \n",
       "2206     3.0   1.0  55.0      2.0  \n",
       "2207     3.0   1.0  64.0      1.0  \n",
       "2208     3.0   1.0  59.0      1.0  "
      ]
     },
     "execution_count": 24,
     "metadata": {},
     "output_type": "execute_result"
    }
   ],
   "source": [
    "year_2014 = ess[ess['year'] == 7]\n",
    "countries = ['SE', 'ES', 'DE', 'CZ']\n",
    "year_2014_countries = year_2014[year_2014.cntry.isin(countries)]\n",
    "year_2014_countries.head()"
   ]
  },
  {
   "cell_type": "code",
   "execution_count": 25,
   "metadata": {},
   "outputs": [],
   "source": [
    "se = year_2014_countries[year_2014_countries['cntry'] =='SE']\n",
    "se_sclmeet = se.sclmeet\n",
    "se_sclmeet_list = se_sclmeet.tolist()\n",
    "\n",
    "es = year_2014_countries[year_2014_countries['cntry'] =='ES']\n",
    "es_sclmeet = es.sclmeet\n",
    "es_sclmeet_list = es_sclmeet.tolist()\n",
    "\n",
    "de = year_2014_countries[year_2014_countries['cntry'] =='DE']\n",
    "de_sclmeet = de.sclmeet\n",
    "de_sclmeet_list = de_sclmeet.tolist()\n",
    "\n",
    "cz = year_2014_countries[year_2014_countries['cntry'] =='CZ']\n",
    "cz_sclmeet = cz.sclmeet\n",
    "cz_sclmeet_list = cz_sclmeet.tolist()"
   ]
  },
  {
   "cell_type": "code",
   "execution_count": 26,
   "metadata": {
    "scrolled": true
   },
   "outputs": [
    {
     "data": {
      "image/png": "[encoded data removed]",
      "text/plain": [
       "<Figure size 432x288 with 1 Axes>"
      ]
     },
     "metadata": {
      "needs_background": "light"
     },
     "output_type": "display_data"
    },
    {
     "data": {
      "image/png": "[encoded data removed]",
      "text/plain": [
       "<Figure size 432x288 with 1 Axes>"
      ]
     },
     "metadata": {
      "needs_background": "light"
     },
     "output_type": "display_data"
    },
    {
     "data": {
      "image/png": "[encoded data removed]",
      "text/plain": [
       "<Figure size 432x288 with 1 Axes>"
      ]
     },
     "metadata": {
      "needs_background": "light"
     },
     "output_type": "display_data"
    },
    {
     "data": {
      "image/png": "[encoded data removed]",
      "text/plain": [
       "<Figure size 432x288 with 1 Axes>"
      ]
     },
     "metadata": {
      "needs_background": "light"
     },
     "output_type": "display_data"
    }
   ],
   "source": [
    "se_sclmeet.hist()\n",
    "plt.title('Sweden Social Meetings Distribution')\n",
    "plt.show()\n",
    "\n",
    "es_sclmeet.hist()\n",
    "plt.title('Spain Social Meetings Distribution')\n",
    "plt.show()\n",
    "\n",
    "de_sclmeet.hist()\n",
    "plt.title('Germany Social Meetings Distribution')\n",
    "plt.show()\n",
    "\n",
    "cz_sclmeet.hist()\n",
    "plt.title('Czech Social Meetings Distribution')\n",
    "plt.show()"
   ]
  },
  {
   "cell_type": "markdown",
   "metadata": {},
   "source": [
    "Definitely no distributions with mathematical properties, so I'll use Mood's Median test to compare the groups."
   ]
  },
  {
   "cell_type": "code",
   "execution_count": 125,
   "metadata": {
    "scrolled": true
   },
   "outputs": [
    {
     "name": "stdout",
     "output_type": "stream",
     "text": [
      "Average Social Meetings for Sweden:  5.426211453744493\n",
      "Average Social Meetings for Spain:  5.260004226275035\n",
      "Average Social Meetings for Germany:  4.428571428571429\n",
      "Average Social Meetings for Czech Republic:  4.449206215360829\n"
     ]
    },
    {
     "data": {
      "text/plain": [
       "(166.24815475981757, 8.214469362758782e-36, 5.0, array([[527, 631,   1, 180],\n",
       "        [381, 582,  13, 478]], dtype=int64))"
      ]
     },
     "execution_count": 125,
     "metadata": {},
     "output_type": "execute_result"
    }
   ],
   "source": [
    "sclmeet_df = pd.DataFrame()\n",
    "\n",
    "ranks = stats.rankdata(se_sclmeet_list + es_sclmeet_list + de_sclmeet_list + cz_sclmeet_list)\n",
    "print('Average Social Meetings for Sweden: ', (sum(se_sclmeet_list)/len(se_sclmeet_list)))\n",
    "print('Average Social Meetings for Spain: ', (sum(es_sclmeet_list)/len(es_sclmeet_list)))\n",
    "print('Average Social Meetings for Germany: ', (sum(de_sclmeet_list)/len(de_sclmeet_list)))\n",
    "print('Average Social Meetings for Czech Republic: ', (sum(cz_sclmeet_list)/len(cz_sclmeet_list)))\n",
    "\n",
    "\n",
    "stats.median_test(se_sclmeet_list, es_sclmeet_list, de_sclmeet_list, cz_sclmeet_list)"
   ]
  },
  {
   "cell_type": "markdown",
   "metadata": {},
   "source": [
    "While I'd like to use Tukey's HSD to show a comparison table, my understanding is that all groups need to be equal sizes."
   ]
  },
  {
   "cell_type": "code",
   "execution_count": 134,
   "metadata": {
    "scrolled": true
   },
   "outputs": [
    {
     "name": "stdout",
     "output_type": "stream",
     "text": [
      "ES    1213\n",
      "SE     908\n",
      "CZ     658\n",
      "DE      14\n",
      "Name: cntry, dtype: int64\n"
     ]
    }
   ],
   "source": [
    "print(year_2014_countries.cntry.value_counts())"
   ]
  },
  {
   "cell_type": "code",
   "execution_count": 27,
   "metadata": {},
   "outputs": [
    {
     "name": "stdout",
     "output_type": "stream",
     "text": [
      "Stats Tests Between Germany and Czech Republic:\n",
      "\n",
      "\n",
      "Mood's Median Test:  (0.003176316777097285, 0.9550559603549307, 4.0, array([[  6, 311],\n",
      "       [  8, 347]], dtype=int64))\n"
     ]
    },
    {
     "data": {
      "text/plain": [
       "MannwhitneyuResult(statistic=4483.0, pvalue=0.43084410418984737)"
      ]
     },
     "execution_count": 27,
     "metadata": {},
     "output_type": "execute_result"
    }
   ],
   "source": [
    "print('Stats Tests Between Germany and Czech Republic:\\n')\n",
    "print('\\nMood\\'s Median Test: ', stats.median_test(de_sclmeet_list, cz_sclmeet_list))\n",
    "\n",
    "stats.mannwhitneyu(de_sclmeet_list, cz_sclmeet_list)"
   ]
  },
  {
   "cell_type": "code",
   "execution_count": 28,
   "metadata": {},
   "outputs": [
    {
     "name": "stdout",
     "output_type": "stream",
     "text": [
      "Stats Tests Between Spain and Sweden:\n",
      "\n",
      "\n",
      "Mood's Median Test:  (6.051826198427396, 0.013891921873646297, 6.0, array([[229, 250],\n",
      "       [679, 963]], dtype=int64))\n"
     ]
    },
    {
     "data": {
      "text/plain": [
       "MannwhitneyuResult(statistic=518030.0, pvalue=0.008017007567433962)"
      ]
     },
     "execution_count": 28,
     "metadata": {},
     "output_type": "execute_result"
    }
   ],
   "source": [
    "print('Stats Tests Between Spain and Sweden:\\n')\n",
    "print('\\nMood\\'s Median Test: ', stats.median_test(se_sclmeet_list, es_sclmeet_list))\n",
    "\n",
    "stats.mannwhitneyu(se_sclmeet_list, es_sclmeet_list)"
   ]
  },
  {
   "cell_type": "markdown",
   "metadata": {},
   "source": [
    "There are definitely differences - the only pair without a significant difference is Germany and Czech Republic. All other countries are significantly different in the number of social meetings."
   ]
  },
  {
   "cell_type": "markdown",
   "metadata": {},
   "source": [
    "## 6. Pick three or four of the countries in the sample and compare how often people took part in social activities, relative to others their age, in 2014. Are there differences, and if so, which countries stand out?"
   ]
  },
  {
   "cell_type": "code",
   "execution_count": 51,
   "metadata": {},
   "outputs": [
    {
     "data": {
      "text/html": [
       "<div>\n",
       "<style scoped>\n",
       "    .dataframe tbody tr th:only-of-type {\n",
       "        vertical-align: middle;\n",
       "    }\n",
       "\n",
       "    .dataframe tbody tr th {\n",
       "        vertical-align: top;\n",
       "    }\n",
       "\n",
       "    .dataframe thead th {\n",
       "        text-align: right;\n",
       "    }\n",
       "</style>\n",
       "<table border=\"1\" class=\"dataframe\">\n",
       "  <thead>\n",
       "    <tr style=\"text-align: right;\">\n",
       "      <th></th>\n",
       "      <th>cntry</th>\n",
       "      <th>idno</th>\n",
       "      <th>year</th>\n",
       "      <th>tvtot</th>\n",
       "      <th>ppltrst</th>\n",
       "      <th>pplfair</th>\n",
       "      <th>pplhlp</th>\n",
       "      <th>happy</th>\n",
       "      <th>sclmeet</th>\n",
       "      <th>sclact</th>\n",
       "      <th>gndr</th>\n",
       "      <th>agea</th>\n",
       "      <th>partner</th>\n",
       "    </tr>\n",
       "  </thead>\n",
       "  <tbody>\n",
       "    <tr>\n",
       "      <th>2204</th>\n",
       "      <td>CZ</td>\n",
       "      <td>1001.0</td>\n",
       "      <td>7</td>\n",
       "      <td>5.0</td>\n",
       "      <td>3.0</td>\n",
       "      <td>3.0</td>\n",
       "      <td>2.0</td>\n",
       "      <td>7.0</td>\n",
       "      <td>4.0</td>\n",
       "      <td>4.0</td>\n",
       "      <td>2.0</td>\n",
       "      <td>71.0</td>\n",
       "      <td>2.0</td>\n",
       "    </tr>\n",
       "    <tr>\n",
       "      <th>2205</th>\n",
       "      <td>CZ</td>\n",
       "      <td>1002.0</td>\n",
       "      <td>7</td>\n",
       "      <td>5.0</td>\n",
       "      <td>5.0</td>\n",
       "      <td>7.0</td>\n",
       "      <td>3.0</td>\n",
       "      <td>5.0</td>\n",
       "      <td>5.0</td>\n",
       "      <td>1.0</td>\n",
       "      <td>2.0</td>\n",
       "      <td>52.0</td>\n",
       "      <td>1.0</td>\n",
       "    </tr>\n",
       "    <tr>\n",
       "      <th>2206</th>\n",
       "      <td>CZ</td>\n",
       "      <td>1003.0</td>\n",
       "      <td>7</td>\n",
       "      <td>7.0</td>\n",
       "      <td>5.0</td>\n",
       "      <td>4.0</td>\n",
       "      <td>3.0</td>\n",
       "      <td>6.0</td>\n",
       "      <td>4.0</td>\n",
       "      <td>3.0</td>\n",
       "      <td>1.0</td>\n",
       "      <td>55.0</td>\n",
       "      <td>2.0</td>\n",
       "    </tr>\n",
       "    <tr>\n",
       "      <th>2207</th>\n",
       "      <td>CZ</td>\n",
       "      <td>1004.0</td>\n",
       "      <td>7</td>\n",
       "      <td>7.0</td>\n",
       "      <td>5.0</td>\n",
       "      <td>5.0</td>\n",
       "      <td>3.0</td>\n",
       "      <td>7.0</td>\n",
       "      <td>4.0</td>\n",
       "      <td>3.0</td>\n",
       "      <td>1.0</td>\n",
       "      <td>64.0</td>\n",
       "      <td>1.0</td>\n",
       "    </tr>\n",
       "    <tr>\n",
       "      <th>2208</th>\n",
       "      <td>CZ</td>\n",
       "      <td>1005.0</td>\n",
       "      <td>7</td>\n",
       "      <td>3.0</td>\n",
       "      <td>4.0</td>\n",
       "      <td>5.0</td>\n",
       "      <td>5.0</td>\n",
       "      <td>6.0</td>\n",
       "      <td>5.0</td>\n",
       "      <td>3.0</td>\n",
       "      <td>1.0</td>\n",
       "      <td>59.0</td>\n",
       "      <td>1.0</td>\n",
       "    </tr>\n",
       "  </tbody>\n",
       "</table>\n",
       "</div>"
      ],
      "text/plain": [
       "     cntry    idno  year  tvtot  ppltrst  pplfair  pplhlp  happy  sclmeet  \\\n",
       "2204    CZ  1001.0     7    5.0      3.0      3.0     2.0    7.0      4.0   \n",
       "2205    CZ  1002.0     7    5.0      5.0      7.0     3.0    5.0      5.0   \n",
       "2206    CZ  1003.0     7    7.0      5.0      4.0     3.0    6.0      4.0   \n",
       "2207    CZ  1004.0     7    7.0      5.0      5.0     3.0    7.0      4.0   \n",
       "2208    CZ  1005.0     7    3.0      4.0      5.0     5.0    6.0      5.0   \n",
       "\n",
       "      sclact  gndr  agea  partner  \n",
       "2204     4.0   2.0  71.0      2.0  \n",
       "2205     1.0   2.0  52.0      1.0  \n",
       "2206     3.0   1.0  55.0      2.0  \n",
       "2207     3.0   1.0  64.0      1.0  \n",
       "2208     3.0   1.0  59.0      1.0  "
      ]
     },
     "execution_count": 51,
     "metadata": {},
     "output_type": "execute_result"
    }
   ],
   "source": [
    "year_2014_countries.head()"
   ]
  },
  {
   "cell_type": "code",
   "execution_count": 52,
   "metadata": {},
   "outputs": [],
   "source": [
    "se = year_2014_countries[year_2014_countries['cntry'] =='SE']\n",
    "se_sclmeet = se.sclmeet\n",
    "se_sclmeet_list = se_sclmeet.tolist()\n",
    "\n",
    "es = year_2014_countries[year_2014_countries['cntry'] =='ES']\n",
    "es_sclmeet = es.sclmeet\n",
    "es_sclmeet_list = es_sclmeet.tolist()\n",
    "\n",
    "cz = year_2014_countries[year_2014_countries['cntry'] =='CZ']\n",
    "cz_sclmeet = cz.sclmeet\n",
    "cz_sclmeet_list = cz_sclmeet.tolist()"
   ]
  },
  {
   "cell_type": "code",
   "execution_count": 58,
   "metadata": {
    "scrolled": true
   },
   "outputs": [
    {
     "data": {
      "image/png": "[encoded data removed]",
      "text/plain": [
       "<Figure size 432x288 with 1 Axes>"
      ]
     },
     "metadata": {
      "needs_background": "light"
     },
     "output_type": "display_data"
    },
    {
     "data": {
      "image/png": "[encoded data removed]",
      "text/plain": [
       "<Figure size 432x288 with 1 Axes>"
      ]
     },
     "metadata": {
      "needs_background": "light"
     },
     "output_type": "display_data"
    },
    {
     "data": {
      "image/png": "[encoded data removed]",
      "text/plain": [
       "<Figure size 432x288 with 1 Axes>"
      ]
     },
     "metadata": {
      "needs_background": "light"
     },
     "output_type": "display_data"
    }
   ],
   "source": [
    "sns.regplot(x='agea', y='sclmeet', data=se)\n",
    "plt.title('Sweden Age vs. Social Meetings')\n",
    "plt.show()\n",
    "\n",
    "sns.regplot(x='agea', y='sclmeet', data=es)\n",
    "plt.title('Spain Age vs. Social Meetings')\n",
    "plt.show()\n",
    "\n",
    "sns.regplot(x='agea', y='sclmeet', data=cz)\n",
    "plt.title('Czech Age vs. Social Meetings')\n",
    "plt.show()"
   ]
  },
  {
   "cell_type": "code",
   "execution_count": 61,
   "metadata": {},
   "outputs": [],
   "source": [
    "sclmeet = year_2014_countries[['cntry', 'agea', 'sclmeet']]\n",
    "sclmeet = pd.concat([sclmeet, pd.get_dummies(sclmeet['sclmeet'])], axis=1)"
   ]
  },
  {
   "cell_type": "code",
   "execution_count": null,
   "metadata": {},
   "outputs": [],
   "source": []
  }
 ],
 "metadata": {
  "kernelspec": {
   "display_name": "Python 3",
   "language": "python",
   "name": "python3"
  },
  "language_info": {
   "codemirror_mode": {
    "name": "ipython",
    "version": 3
   },
   "file_extension": ".py",
   "mimetype": "text/x-python",
   "name": "python",
   "nbconvert_exporter": "python",
   "pygments_lexer": "ipython3",
   "version": "3.7.3"
  }
 },
 "nbformat": 4,
 "nbformat_minor": 4
}
