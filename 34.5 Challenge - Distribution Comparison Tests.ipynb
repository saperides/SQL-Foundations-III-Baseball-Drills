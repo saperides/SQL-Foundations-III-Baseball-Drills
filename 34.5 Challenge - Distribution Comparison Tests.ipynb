{
 "cells": [
  {
   "cell_type": "markdown",
   "metadata": {},
   "source": [
    "## Questions\n",
    "Did people become less trusting from 2012 to 2014? Compute results for each country in the sample.\n",
    "\n",
    "Did people become happier from 2012 to 2014? Compute results for each country in the sample.\n",
    "\n",
    "Who reported watching more TV in 2012, men or women?\n",
    "\n",
    "Who was more likely to believe people were fair in 2012, people living with a partner or people living alone?\n",
    "\n",
    "Pick three or four of the countries in the sample and compare how often people met socially in 2014. Are there differences, and if so, which countries stand out?\n",
    "\n",
    "Pick three or four of the countries in the sample and compare how often people took part in social activities, relative to others their age, in 2014. Are there differences, and if so, which countries stand out?"
   ]
  },
  {
   "cell_type": "code",
   "execution_count": 1,
   "metadata": {},
   "outputs": [],
   "source": [
    "import os\n",
    "os.chdir('C:\\\\Users\\\\M246047\\\\Documents\\\\Python')\n",
    "import pandas as pd\n",
    "import numpy as np\n",
    "import seaborn as sns\n",
    "from matplotlib import pyplot as plt\n",
    "%matplotlib inline\n",
    "import scipy.stats as stats\n",
    "\n",
    "import warnings\n",
    "warnings.filterwarnings(action=\"ignore\")"
   ]
  },
  {
   "cell_type": "code",
   "execution_count": 2,
   "metadata": {
    "scrolled": true
   },
   "outputs": [
    {
     "name": "stdout",
     "output_type": "stream",
     "text": [
      "<class 'pandas.core.frame.DataFrame'>\n",
      "RangeIndex: 8594 entries, 0 to 8593\n",
      "Data columns (total 13 columns):\n",
      "cntry      8594 non-null object\n",
      "idno       8594 non-null float64\n",
      "year       8594 non-null int64\n",
      "tvtot      8586 non-null float64\n",
      "ppltrst    8580 non-null float64\n",
      "pplfair    8555 non-null float64\n",
      "pplhlp     8569 non-null float64\n",
      "happy      8563 non-null float64\n",
      "sclmeet    8579 non-null float64\n",
      "sclact     8500 non-null float64\n",
      "gndr       8584 non-null float64\n",
      "agea       8355 non-null float64\n",
      "partner    8577 non-null float64\n",
      "dtypes: float64(11), int64(1), object(1)\n",
      "memory usage: 839.3+ KB\n",
      "None\n"
     ]
    },
    {
     "data": {
      "text/html": [
       "<div>\n",
       "<style scoped>\n",
       "    .dataframe tbody tr th:only-of-type {\n",
       "        vertical-align: middle;\n",
       "    }\n",
       "\n",
       "    .dataframe tbody tr th {\n",
       "        vertical-align: top;\n",
       "    }\n",
       "\n",
       "    .dataframe thead th {\n",
       "        text-align: right;\n",
       "    }\n",
       "</style>\n",
       "<table border=\"1\" class=\"dataframe\">\n",
       "  <thead>\n",
       "    <tr style=\"text-align: right;\">\n",
       "      <th></th>\n",
       "      <th>cntry</th>\n",
       "      <th>idno</th>\n",
       "      <th>year</th>\n",
       "      <th>tvtot</th>\n",
       "      <th>ppltrst</th>\n",
       "      <th>pplfair</th>\n",
       "      <th>pplhlp</th>\n",
       "      <th>happy</th>\n",
       "      <th>sclmeet</th>\n",
       "      <th>sclact</th>\n",
       "      <th>gndr</th>\n",
       "      <th>agea</th>\n",
       "      <th>partner</th>\n",
       "    </tr>\n",
       "  </thead>\n",
       "  <tbody>\n",
       "    <tr>\n",
       "      <th>0</th>\n",
       "      <td>CH</td>\n",
       "      <td>5.0</td>\n",
       "      <td>6</td>\n",
       "      <td>3.0</td>\n",
       "      <td>3.0</td>\n",
       "      <td>10.0</td>\n",
       "      <td>5.0</td>\n",
       "      <td>8.0</td>\n",
       "      <td>5.0</td>\n",
       "      <td>4.0</td>\n",
       "      <td>2.0</td>\n",
       "      <td>60.0</td>\n",
       "      <td>1.0</td>\n",
       "    </tr>\n",
       "    <tr>\n",
       "      <th>1</th>\n",
       "      <td>CH</td>\n",
       "      <td>25.0</td>\n",
       "      <td>6</td>\n",
       "      <td>6.0</td>\n",
       "      <td>5.0</td>\n",
       "      <td>7.0</td>\n",
       "      <td>5.0</td>\n",
       "      <td>9.0</td>\n",
       "      <td>3.0</td>\n",
       "      <td>2.0</td>\n",
       "      <td>2.0</td>\n",
       "      <td>59.0</td>\n",
       "      <td>1.0</td>\n",
       "    </tr>\n",
       "    <tr>\n",
       "      <th>2</th>\n",
       "      <td>CH</td>\n",
       "      <td>26.0</td>\n",
       "      <td>6</td>\n",
       "      <td>1.0</td>\n",
       "      <td>8.0</td>\n",
       "      <td>8.0</td>\n",
       "      <td>8.0</td>\n",
       "      <td>7.0</td>\n",
       "      <td>6.0</td>\n",
       "      <td>3.0</td>\n",
       "      <td>1.0</td>\n",
       "      <td>24.0</td>\n",
       "      <td>2.0</td>\n",
       "    </tr>\n",
       "    <tr>\n",
       "      <th>3</th>\n",
       "      <td>CH</td>\n",
       "      <td>28.0</td>\n",
       "      <td>6</td>\n",
       "      <td>4.0</td>\n",
       "      <td>6.0</td>\n",
       "      <td>6.0</td>\n",
       "      <td>7.0</td>\n",
       "      <td>10.0</td>\n",
       "      <td>6.0</td>\n",
       "      <td>2.0</td>\n",
       "      <td>2.0</td>\n",
       "      <td>64.0</td>\n",
       "      <td>1.0</td>\n",
       "    </tr>\n",
       "    <tr>\n",
       "      <th>4</th>\n",
       "      <td>CH</td>\n",
       "      <td>29.0</td>\n",
       "      <td>6</td>\n",
       "      <td>5.0</td>\n",
       "      <td>6.0</td>\n",
       "      <td>7.0</td>\n",
       "      <td>5.0</td>\n",
       "      <td>8.0</td>\n",
       "      <td>7.0</td>\n",
       "      <td>2.0</td>\n",
       "      <td>2.0</td>\n",
       "      <td>55.0</td>\n",
       "      <td>1.0</td>\n",
       "    </tr>\n",
       "  </tbody>\n",
       "</table>\n",
       "</div>"
      ],
      "text/plain": [
       "  cntry  idno  year  tvtot  ppltrst  pplfair  pplhlp  happy  sclmeet  sclact  \\\n",
       "0    CH   5.0     6    3.0      3.0     10.0     5.0    8.0      5.0     4.0   \n",
       "1    CH  25.0     6    6.0      5.0      7.0     5.0    9.0      3.0     2.0   \n",
       "2    CH  26.0     6    1.0      8.0      8.0     8.0    7.0      6.0     3.0   \n",
       "3    CH  28.0     6    4.0      6.0      6.0     7.0   10.0      6.0     2.0   \n",
       "4    CH  29.0     6    5.0      6.0      7.0     5.0    8.0      7.0     2.0   \n",
       "\n",
       "   gndr  agea  partner  \n",
       "0   2.0  60.0      1.0  \n",
       "1   2.0  59.0      1.0  \n",
       "2   1.0  24.0      2.0  \n",
       "3   2.0  64.0      1.0  \n",
       "4   2.0  55.0      1.0  "
      ]
     },
     "execution_count": 2,
     "metadata": {},
     "output_type": "execute_result"
    }
   ],
   "source": [
    "ess = pd.read_csv('ESSdata.csv')\n",
    "print(ess.info())\n",
    "ess.head()"
   ]
  },
  {
   "cell_type": "markdown",
   "metadata": {},
   "source": [
    "## Did people become less trusting from 2012 to 2014? Compute results for each country in the sample."
   ]
  },
  {
   "cell_type": "code",
   "execution_count": 3,
   "metadata": {},
   "outputs": [],
   "source": [
    "# Creating dataframes for each country\n",
    "\n",
    "es = ess[ess['cntry'] == 'ES'].sort_values(by=['year'])\n",
    "se = ess[ess['cntry'] == 'SE'].sort_values(by=['year'])\n",
    "ch = ess[ess['cntry'] == 'CH'].sort_values(by=['year']) \n",
    "no = ess[ess['cntry'] == 'NO'].sort_values(by=['year'])\n",
    "cz = ess[ess['cntry'] == 'CZ'].sort_values(by=['year'])\n",
    "de = ess[ess['cntry'] == 'DE'].sort_values(by=['year'])\n",
    "\n",
    "# Creating lists of each country's trust values\n",
    "es_trust = es.ppltrst\n",
    "se_trust = se.ppltrst\n",
    "ch_trust = ch.ppltrst\n",
    "no_trust = no.ppltrst\n",
    "cz_trust = cz.ppltrst\n",
    "de_trust = de.ppltrst"
   ]
  },
  {
   "cell_type": "code",
   "execution_count": 4,
   "metadata": {
    "scrolled": true
   },
   "outputs": [
    {
     "data": {
      "image/png": "[encoded data removed]",
      "text/plain": [
       "<Figure size 432x288 with 6 Axes>"
      ]
     },
     "metadata": {
      "needs_background": "light"
     },
     "output_type": "display_data"
    },
    {
     "data": {
      "image/png": "[encoded data removed]",
      "text/plain": [
       "<Figure size 432x288 with 1 Axes>"
      ]
     },
     "metadata": {
      "needs_background": "light"
     },
     "output_type": "display_data"
    }
   ],
   "source": [
    "# Looking at the distribution to decide which comparison test to use.\n",
    "es_trust.hist()\n",
    "plt.tight_layout(pad=1.08, h_pad=None)\n",
    "plt.subplot(2, 3, 1)\n",
    "plt.title('ES Trust')\n",
    "\n",
    "se_trust.hist()\n",
    "plt.tight_layout(pad=1.08, h_pad=None)\n",
    "\n",
    "plt.subplot(2, 3, 2)\n",
    "plt.title('SE Trust')\n",
    "\n",
    "ch_trust.hist()\n",
    "plt.tight_layout(pad=1.08, h_pad=None)\n",
    "plt.subplot(2, 3, 3)\n",
    "plt.title('CH Trust')\n",
    "\n",
    "no_trust.hist()\n",
    "plt.tight_layout(pad=1.08, h_pad=None)\n",
    "plt.subplot(2, 3, 4)\n",
    "plt.title('NO Trust')\n",
    "\n",
    "cz_trust.hist()\n",
    "plt.tight_layout(pad=1.08, h_pad=None)\n",
    "plt.subplot(2, 3, 5)\n",
    "plt.title('CZ Trust')\n",
    "\n",
    "de_trust.hist()\n",
    "plt.subplot(2, 3, 6)\n",
    "plt.title('DE Trust')\n",
    "plt.show()\n",
    "\n",
    "de_trust.hist()\n",
    "plt.title('DE Trust')\n",
    "plt.show()"
   ]
  },
  {
   "cell_type": "code",
   "execution_count": 41,
   "metadata": {},
   "outputs": [],
   "source": [
    "# As the distributions do not appear to have known mathematical properties, I'll use the Kruskal-Wallis test.\n",
    "\n",
    "def trust_kruskal_comparison_test(df):\n",
    "    df_2012 = df[df['year'] == 6] \n",
    "    df_2012 = df_2012[['ppltrst']]\n",
    "    df_2012_length = len(df_2012)\n",
    "    df_2014 = df[df['year'] == 7]\n",
    "    df_2014 = df_2014[['ppltrst']]\n",
    "    df_2014_length = len(df_2014)\n",
    "    ranks = stats.rankdata(df_2012 + df_2014)\n",
    "    \n",
    "    # Create a new dataframe of ranks\n",
    "    new_df = pd.DataFrame()\n",
    "    new_df['Ranks_2012'] = ranks[0:df_2012_length]\n",
    "    new_df['Ranks_2014'] = ranks[df_2012_length:]\n",
    "                       \n",
    "    # Average rank per group.\n",
    "    groups = ['Ranks_2012', 'Ranks_2014']\n",
    "    print(new_df[groups].apply(np.mean))\n",
    "\n",
    "    # Overall average rank.\n",
    "    print(np.mean(ranks))\n",
    "\n",
    "    # Print the test statistic followed by the probability of getting this result\n",
    "    # if the groups were not different.\n",
    "    print(stats.kruskal(\n",
    "        new_df['Ranks_2012'],\n",
    "        new_df['Ranks_2014']))"
   ]
  },
  {
   "cell_type": "code",
   "execution_count": null,
   "metadata": {},
   "outputs": [],
   "source": []
  },
  {
   "cell_type": "code",
   "execution_count": 68,
   "metadata": {},
   "outputs": [
    {
     "name": "stdout",
     "output_type": "stream",
     "text": [
      "Comparison test for ES\n",
      "      ppltrst\n",
      "2890      3.0\n",
      "3702      3.0\n",
      "3701      3.0\n",
      "3700      5.0\n",
      "3699      4.0\n",
      "      ppltrst\n",
      "4910      1.0\n",
      "4914      1.0\n",
      "4913      8.0\n",
      "4912      8.0\n",
      "4911      7.0\n",
      "Ranks_2012    1817.501237\n",
      "Ranks_2014     609.498763\n",
      "dtype: float64\n",
      "1213.5\n",
      "KruskalResult(statistic=1803.7947778418402, pvalue=0.0)\n",
      "\n",
      " Comparison test for SE\n",
      "      ppltrst\n",
      "6778      7.0\n",
      "7376      5.0\n",
      "7377      7.0\n",
      "7378      7.0\n",
      "7379      8.0\n",
      "      ppltrst\n",
      "8292      8.0\n",
      "8291      8.0\n",
      "8290      8.0\n",
      "8289      6.0\n",
      "8283      1.0\n",
      "Ranks_2012    1359.626652\n",
      "Ranks_2014     457.373348\n",
      "dtype: float64\n",
      "908.5\n",
      "KruskalResult(statistic=1344.0743387704806, pvalue=2.987938124745757e-294)\n",
      "\n",
      " Comparison test for CH\n",
      "     ppltrst\n",
      "0        3.0\n",
      "510      5.0\n",
      "511      4.0\n",
      "512      5.0\n",
      "513      6.0\n",
      "      ppltrst\n",
      "1289      4.0\n",
      "1288      5.0\n",
      "1287      7.0\n",
      "1282      9.0\n",
      "1285      8.0\n",
      "Ranks_2012    1157.50194\n",
      "Ranks_2014     389.49806\n",
      "dtype: float64\n",
      "773.5\n",
      "KruskalResult(statistic=1143.820222117447, pvalue=9.885006003713769e-251)\n",
      "\n",
      " Comparison test for NO\n",
      "      ppltrst\n",
      "5316      7.0\n",
      "5799      7.0\n",
      "5800      4.0\n",
      "5801      9.0\n",
      "5802      7.0\n",
      "      ppltrst\n",
      "6537      5.0\n",
      "6531      4.0\n",
      "6532      8.0\n",
      "6533      7.0\n",
      "6534      7.0\n",
      "Ranks_2012    1094.502052\n",
      "Ranks_2014     368.497948\n",
      "dtype: float64\n",
      "731.5\n",
      "KruskalResult(statistic=1080.8242494405422, pvalue=4.860242169393342e-237)\n",
      "\n",
      " Comparison test for CZ\n",
      "      ppltrst\n",
      "1546     10.0\n",
      "1981      0.0\n",
      "1982      6.0\n",
      "1983      5.0\n",
      "1984      5.0\n",
      "      ppltrst\n",
      "2642      2.0\n",
      "2637      4.0\n",
      "2638      5.0\n",
      "2639      6.0\n",
      "2640      3.0\n",
      "Ranks_2012    984.75228\n",
      "Ranks_2014    332.24772\n",
      "dtype: float64\n",
      "658.5\n",
      "KruskalResult(statistic=969.8455577877248, pvalue=6.439543764940963e-213)\n",
      "\n",
      " Comparison test for DE\n",
      "      ppltrst\n",
      "2862      3.0\n",
      "2874      5.0\n",
      "2873      5.0\n",
      "2872      3.0\n",
      "2871      7.0\n",
      "      ppltrst\n",
      "2887      8.0\n",
      "2886      5.0\n",
      "2885      5.0\n",
      "2884      6.0\n",
      "2883     10.0\n",
      "Ranks_2012    18.642857\n",
      "Ranks_2014    10.357143\n",
      "dtype: float64\n",
      "14.5\n",
      "KruskalResult(statistic=7.102040816326536, pvalue=0.0076996234264309375)\n"
     ]
    }
   ],
   "source": [
    "print('Comparison test for ES')\n",
    "kruskal_comparison_test(es, 'ppltrst')\n",
    "print('\\n Comparison test for SE')\n",
    "kruskal_comparison_test(se, 'ppltrst')\n",
    "print('\\n Comparison test for CH')\n",
    "kruskal_comparison_test(ch, 'ppltrst')\n",
    "print('\\n Comparison test for NO')\n",
    "kruskal_comparison_test(no, 'ppltrst')\n",
    "print('\\n Comparison test for CZ')\n",
    "kruskal_comparison_test(cz, 'ppltrst')\n",
    "print('\\n Comparison test for DE')\n",
    "kruskal_comparison_test(de, 'ppltrst')"
   ]
  },
  {
   "cell_type": "code",
   "execution_count": 43,
   "metadata": {},
   "outputs": [
    {
     "name": "stdout",
     "output_type": "stream",
     "text": [
      "Comparison test for ES\n",
      "1213 1213\n",
      "1213\n",
      "Ranks_2012    1817.501237\n",
      "Ranks_2014     609.498763\n",
      "dtype: float64\n",
      "1213.5\n",
      "KruskalResult(statistic=1803.7947778418402, pvalue=0.0)\n",
      "\n",
      " Comparison test for SE\n",
      "908 908\n",
      "908\n",
      "Ranks_2012    1359.626652\n",
      "Ranks_2014     457.373348\n",
      "dtype: float64\n",
      "908.5\n",
      "KruskalResult(statistic=1344.0743387704806, pvalue=2.987938124745757e-294)\n",
      "\n",
      " Comparison test for CH\n",
      "773 773\n",
      "773\n",
      "Ranks_2012    1157.50194\n",
      "Ranks_2014     389.49806\n",
      "dtype: float64\n",
      "773.5\n",
      "KruskalResult(statistic=1143.820222117447, pvalue=9.885006003713769e-251)\n",
      "\n",
      " Comparison test for NO\n",
      "731 731\n",
      "731\n",
      "Ranks_2012    1094.502052\n",
      "Ranks_2014     368.497948\n",
      "dtype: float64\n",
      "731.5\n",
      "KruskalResult(statistic=1080.8242494405422, pvalue=4.860242169393342e-237)\n",
      "\n",
      " Comparison test for CZ\n",
      "658 658\n",
      "658\n",
      "Ranks_2012    984.75228\n",
      "Ranks_2014    332.24772\n",
      "dtype: float64\n",
      "658.5\n",
      "KruskalResult(statistic=969.8455577877248, pvalue=6.439543764940963e-213)\n",
      "\n",
      " Comparison test for DE\n",
      "14 14\n",
      "14\n",
      "Ranks_2012    18.642857\n",
      "Ranks_2014    10.357143\n",
      "dtype: float64\n",
      "14.5\n",
      "KruskalResult(statistic=7.102040816326536, pvalue=0.0076996234264309375)\n"
     ]
    }
   ],
   "source": [
    "print('Comparison test for ES')\n",
    "trust_kruskal_comparison_test(es)\n",
    "print('\\n Comparison test for SE')\n",
    "trust_kruskal_comparison_test(se)\n",
    "print('\\n Comparison test for CH')\n",
    "trust_kruskal_comparison_test(ch)\n",
    "print('\\n Comparison test for NO')\n",
    "trust_kruskal_comparison_test(no)\n",
    "print('\\n Comparison test for CZ')\n",
    "trust_kruskal_comparison_test(cz)\n",
    "print('\\n Comparison test for DE')\n",
    "trust_kruskal_comparison_test(de)"
   ]
  },
  {
   "cell_type": "markdown",
   "metadata": {},
   "source": [
    "According to the Kruskal-Wallis test and pvalue, there is a significant difference between levels of trust in 2012 and 2014. It appears that people were more trusting in 2012 (as the mean of Ranks_2012 is greater than Ranks_2014?)."
   ]
  },
  {
   "cell_type": "markdown",
   "metadata": {},
   "source": [
    "## 2. Did people become happier from 2012 to 2014? Compute results for each country in the sample.\n",
    "\n",
    "The distributions are mostly skewed to the left and do not appear to have mathematical properties, so I will use the Kruskal-Wallis test. "
   ]
  },
  {
   "cell_type": "code",
   "execution_count": 52,
   "metadata": {},
   "outputs": [],
   "source": [
    "# Creating lists of each country's trust values\n",
    "es_happy = es.happy\n",
    "se_happy = se.happy\n",
    "ch_happy = ch.happy\n",
    "no_happy = no.happy\n",
    "cz_happy = cz.happy\n",
    "de_happy = de.happy"
   ]
  },
  {
   "cell_type": "code",
   "execution_count": 57,
   "metadata": {
    "scrolled": true
   },
   "outputs": [
    {
     "data": {
      "image/png": "[encoded data removed]",
      "text/plain": [
       "<Figure size 432x288 with 1 Axes>"
      ]
     },
     "metadata": {
      "needs_background": "light"
     },
     "output_type": "display_data"
    },
    {
     "name": "stdout",
     "output_type": "stream",
     "text": [
      "\n",
      "\n"
     ]
    },
    {
     "data": {
      "image/png": "[encoded data removed]",
      "text/plain": [
       "<Figure size 432x288 with 1 Axes>"
      ]
     },
     "metadata": {
      "needs_background": "light"
     },
     "output_type": "display_data"
    },
    {
     "name": "stdout",
     "output_type": "stream",
     "text": [
      "\n",
      "\n"
     ]
    },
    {
     "data": {
      "image/png": "[encoded data removed]",
      "text/plain": [
       "<Figure size 432x288 with 1 Axes>"
      ]
     },
     "metadata": {
      "needs_background": "light"
     },
     "output_type": "display_data"
    },
    {
     "name": "stdout",
     "output_type": "stream",
     "text": [
      "\n",
      "\n"
     ]
    },
    {
     "data": {
      "image/png": "[encoded data removed]",
      "text/plain": [
       "<Figure size 432x288 with 1 Axes>"
      ]
     },
     "metadata": {
      "needs_background": "light"
     },
     "output_type": "display_data"
    },
    {
     "name": "stdout",
     "output_type": "stream",
     "text": [
      "\n",
      "\n"
     ]
    },
    {
     "data": {
      "image/png": "[encoded data removed]",
      "text/plain": [
       "<Figure size 432x288 with 1 Axes>"
      ]
     },
     "metadata": {
      "needs_background": "light"
     },
     "output_type": "display_data"
    },
    {
     "name": "stdout",
     "output_type": "stream",
     "text": [
      "\n",
      "\n"
     ]
    },
    {
     "data": {
      "image/png": "[encoded data removed]",
      "text/plain": [
       "<Figure size 432x288 with 1 Axes>"
      ]
     },
     "metadata": {
      "needs_background": "light"
     },
     "output_type": "display_data"
    },
    {
     "name": "stdout",
     "output_type": "stream",
     "text": [
      "\n",
      "\n"
     ]
    }
   ],
   "source": [
    "# Looking at the distribution to decide which comparison test to use.\n",
    "for df in [es_happy, se_happy, ch_happy, no_happy, cz_happy, de_happy]:\n",
    "    df.hist()\n",
    "    plt.title('Happiness Distribution')\n",
    "    plt.show()\n",
    "    print('\\n')\n",
    "\n"
   ]
  },
  {
   "cell_type": "code",
   "execution_count": 81,
   "metadata": {},
   "outputs": [],
   "source": [
    "# As the distributions do not appear to have known mathematical properties, I'll use the Kruskal-Wallis test.\n",
    "\n",
    "def rank_kruskal_comparison_test(df, column_of_interest):\n",
    "    df_2012 = df[df['year'] == 6] \n",
    "    df_2012 = df_2012[[column_of_interest]]\n",
    "    print(df_2012.head())\n",
    "    df_2012_length = len(df_2012)\n",
    "    print(df_2012_length)\n",
    "    df_2014 = df[df['year'] == 7]\n",
    "    df_2014 = df_2014[[column_of_interest]]\n",
    "    print(df_2014.head())\n",
    "    df_2014_length = len(df_2014)\n",
    "    print(df_2014_length)\n",
    "    ranks = stats.rankdata(df_2012 + df_2014)\n",
    "    print('Ranks:', ranks[:10])\n",
    "    \n",
    "    # Create a new dataframe of ranks\n",
    "    new_df = pd.DataFrame()\n",
    "    new_df['Ranks_2012'] = ranks[0:df_2012_length]\n",
    "    new_df['Ranks_2014'] = ranks[df_2012_length:]\n",
    "    print(new_df.head())\n",
    "                       \n",
    "    # Average rank per group.\n",
    "    groups = ['Ranks_2012', 'Ranks_2014']\n",
    "    print(new_df[groups].apply(np.mean))\n",
    "\n",
    "    # Overall average rank.\n",
    "    print(np.mean(ranks))\n",
    "\n",
    "    # Print the test statistic followed by the probability of getting this result\n",
    "    # if the groups were not different.\n",
    "    print(stats.kruskal(\n",
    "        new_df['Ranks_2012'],\n",
    "        new_df['Ranks_2014']))"
   ]
  },
  {
   "cell_type": "code",
   "execution_count": null,
   "metadata": {},
   "outputs": [],
   "source": []
  },
  {
   "cell_type": "code",
   "execution_count": null,
   "metadata": {},
   "outputs": [],
   "source": []
  },
  {
   "cell_type": "code",
   "execution_count": null,
   "metadata": {},
   "outputs": [],
   "source": []
  },
  {
   "cell_type": "code",
   "execution_count": null,
   "metadata": {},
   "outputs": [],
   "source": []
  },
  {
   "cell_type": "code",
   "execution_count": 113,
   "metadata": {},
   "outputs": [],
   "source": [
    "# As the distributions do not appear to have known mathematical properties, I'll use the Kruskal-Wallis test.\n",
    "\n",
    "def no_rank_kruskal_comparison_test(df, column_of_interest):\n",
    "    df_2012 = df[df['year'] == 6] \n",
    "    df_2012 = df_2012[[column_of_interest]]\n",
    "    print(type(df_2012), df_2012.head())\n",
    "    print(df_2012.iloc[:,1])\n",
    "    df_2014 = df[df['year'] == 7]\n",
    "    df_2014 = df_2014[[column_of_interest]]\n",
    "    print(df_2014.head())\n",
    "\n",
    "#     data_list = list(df_2012 + df_2014)\n",
    "#     print('List: ', data_list[:10])\n",
    "    \n",
    "    \n",
    "    # Create a new dataframe of ranks\n",
    "    new_df = pd.DataFrame()\n",
    "    new_df['2012'] = df_2012.iloc[1]\n",
    "    new_df['2014'] = df_2014.iloc[1]\n",
    "    print('\\n New DataFrame Head: \\n', new_df.head())\n",
    "                       \n",
    "    # Average rank per group.\n",
    "    groups = ['2012', '2014']\n",
    "    print(new_df[groups].apply(np.mean))\n",
    "\n",
    "    # Overall average rank.\n",
    "    print(np.mean(ranks))\n",
    "\n",
    "    # Print the test statistic followed by the probability of getting this result\n",
    "    # if the groups were not different.\n",
    "    print(stats.kruskal(\n",
    "        new_df['2012'],\n",
    "        new_df['2014']))"
   ]
  },
  {
   "cell_type": "code",
   "execution_count": 114,
   "metadata": {
    "scrolled": false
   },
   "outputs": [
    {
     "name": "stdout",
     "output_type": "stream",
     "text": [
      "Happy Comparison test for ES\n",
      "<class 'pandas.core.frame.DataFrame'>       happy\n",
      "2890    9.0\n",
      "3702    7.0\n",
      "3701    9.0\n",
      "3700   10.0\n",
      "3699    6.0\n"
     ]
    },
    {
     "ename": "IndexError",
     "evalue": "single positional indexer is out-of-bounds",
     "output_type": "error",
     "traceback": [
      "\u001b[1;31m---------------------------------------------------------------------------\u001b[0m",
      "\u001b[1;31mIndexError\u001b[0m                                Traceback (most recent call last)",
      "\u001b[1;32m<ipython-input-114-a1b8a86a8ee8>\u001b[0m in \u001b[0;36m<module>\u001b[1;34m\u001b[0m\n\u001b[0;32m      1\u001b[0m \u001b[0mprint\u001b[0m\u001b[1;33m(\u001b[0m\u001b[1;34m'Happy Comparison test for ES'\u001b[0m\u001b[1;33m)\u001b[0m\u001b[1;33m\u001b[0m\u001b[1;33m\u001b[0m\u001b[0m\n\u001b[1;32m----> 2\u001b[1;33m \u001b[0mno_rank_kruskal_comparison_test\u001b[0m\u001b[1;33m(\u001b[0m\u001b[0mes\u001b[0m\u001b[1;33m,\u001b[0m \u001b[1;34m'happy'\u001b[0m\u001b[1;33m)\u001b[0m\u001b[1;33m\u001b[0m\u001b[1;33m\u001b[0m\u001b[0m\n\u001b[0m\u001b[0;32m      3\u001b[0m \u001b[1;33m\u001b[0m\u001b[0m\n\u001b[0;32m      4\u001b[0m \u001b[0mprint\u001b[0m\u001b[1;33m(\u001b[0m\u001b[1;34m'\\n'\u001b[0m\u001b[1;33m)\u001b[0m\u001b[1;33m\u001b[0m\u001b[1;33m\u001b[0m\u001b[0m\n\u001b[0;32m      5\u001b[0m \u001b[1;33m\u001b[0m\u001b[0m\n",
      "\u001b[1;32m<ipython-input-113-9ea439fafaa7>\u001b[0m in \u001b[0;36mno_rank_kruskal_comparison_test\u001b[1;34m(df, column_of_interest)\u001b[0m\n\u001b[0;32m      5\u001b[0m     \u001b[0mdf_2012\u001b[0m \u001b[1;33m=\u001b[0m \u001b[0mdf_2012\u001b[0m\u001b[1;33m[\u001b[0m\u001b[1;33m[\u001b[0m\u001b[0mcolumn_of_interest\u001b[0m\u001b[1;33m]\u001b[0m\u001b[1;33m]\u001b[0m\u001b[1;33m\u001b[0m\u001b[1;33m\u001b[0m\u001b[0m\n\u001b[0;32m      6\u001b[0m     \u001b[0mprint\u001b[0m\u001b[1;33m(\u001b[0m\u001b[0mtype\u001b[0m\u001b[1;33m(\u001b[0m\u001b[0mdf_2012\u001b[0m\u001b[1;33m)\u001b[0m\u001b[1;33m,\u001b[0m \u001b[0mdf_2012\u001b[0m\u001b[1;33m.\u001b[0m\u001b[0mhead\u001b[0m\u001b[1;33m(\u001b[0m\u001b[1;33m)\u001b[0m\u001b[1;33m)\u001b[0m\u001b[1;33m\u001b[0m\u001b[1;33m\u001b[0m\u001b[0m\n\u001b[1;32m----> 7\u001b[1;33m     \u001b[0mprint\u001b[0m\u001b[1;33m(\u001b[0m\u001b[0mdf_2012\u001b[0m\u001b[1;33m.\u001b[0m\u001b[0miloc\u001b[0m\u001b[1;33m[\u001b[0m\u001b[1;33m:\u001b[0m\u001b[1;33m,\u001b[0m\u001b[1;36m1\u001b[0m\u001b[1;33m]\u001b[0m\u001b[1;33m)\u001b[0m\u001b[1;33m\u001b[0m\u001b[1;33m\u001b[0m\u001b[0m\n\u001b[0m\u001b[0;32m      8\u001b[0m     \u001b[0mdf_2014\u001b[0m \u001b[1;33m=\u001b[0m \u001b[0mdf\u001b[0m\u001b[1;33m[\u001b[0m\u001b[0mdf\u001b[0m\u001b[1;33m[\u001b[0m\u001b[1;34m'year'\u001b[0m\u001b[1;33m]\u001b[0m \u001b[1;33m==\u001b[0m \u001b[1;36m7\u001b[0m\u001b[1;33m]\u001b[0m\u001b[1;33m\u001b[0m\u001b[1;33m\u001b[0m\u001b[0m\n\u001b[0;32m      9\u001b[0m     \u001b[0mdf_2014\u001b[0m \u001b[1;33m=\u001b[0m \u001b[0mdf_2014\u001b[0m\u001b[1;33m[\u001b[0m\u001b[1;33m[\u001b[0m\u001b[0mcolumn_of_interest\u001b[0m\u001b[1;33m]\u001b[0m\u001b[1;33m]\u001b[0m\u001b[1;33m\u001b[0m\u001b[1;33m\u001b[0m\u001b[0m\n",
      "\u001b[1;32m~\\AppData\\Local\\Continuum\\miniconda3\\lib\\site-packages\\pandas\\core\\indexing.py\u001b[0m in \u001b[0;36m__getitem__\u001b[1;34m(self, key)\u001b[0m\n\u001b[0;32m   1492\u001b[0m             \u001b[1;32mexcept\u001b[0m \u001b[1;33m(\u001b[0m\u001b[0mKeyError\u001b[0m\u001b[1;33m,\u001b[0m \u001b[0mIndexError\u001b[0m\u001b[1;33m,\u001b[0m \u001b[0mAttributeError\u001b[0m\u001b[1;33m)\u001b[0m\u001b[1;33m:\u001b[0m\u001b[1;33m\u001b[0m\u001b[1;33m\u001b[0m\u001b[0m\n\u001b[0;32m   1493\u001b[0m                 \u001b[1;32mpass\u001b[0m\u001b[1;33m\u001b[0m\u001b[1;33m\u001b[0m\u001b[0m\n\u001b[1;32m-> 1494\u001b[1;33m             \u001b[1;32mreturn\u001b[0m \u001b[0mself\u001b[0m\u001b[1;33m.\u001b[0m\u001b[0m_getitem_tuple\u001b[0m\u001b[1;33m(\u001b[0m\u001b[0mkey\u001b[0m\u001b[1;33m)\u001b[0m\u001b[1;33m\u001b[0m\u001b[1;33m\u001b[0m\u001b[0m\n\u001b[0m\u001b[0;32m   1495\u001b[0m         \u001b[1;32melse\u001b[0m\u001b[1;33m:\u001b[0m\u001b[1;33m\u001b[0m\u001b[1;33m\u001b[0m\u001b[0m\n\u001b[0;32m   1496\u001b[0m             \u001b[1;31m# we by definition only have the 0th axis\u001b[0m\u001b[1;33m\u001b[0m\u001b[1;33m\u001b[0m\u001b[1;33m\u001b[0m\u001b[0m\n",
      "\u001b[1;32m~\\AppData\\Local\\Continuum\\miniconda3\\lib\\site-packages\\pandas\\core\\indexing.py\u001b[0m in \u001b[0;36m_getitem_tuple\u001b[1;34m(self, tup)\u001b[0m\n\u001b[0;32m   2141\u001b[0m     \u001b[1;32mdef\u001b[0m \u001b[0m_getitem_tuple\u001b[0m\u001b[1;33m(\u001b[0m\u001b[0mself\u001b[0m\u001b[1;33m,\u001b[0m \u001b[0mtup\u001b[0m\u001b[1;33m)\u001b[0m\u001b[1;33m:\u001b[0m\u001b[1;33m\u001b[0m\u001b[1;33m\u001b[0m\u001b[0m\n\u001b[0;32m   2142\u001b[0m \u001b[1;33m\u001b[0m\u001b[0m\n\u001b[1;32m-> 2143\u001b[1;33m         \u001b[0mself\u001b[0m\u001b[1;33m.\u001b[0m\u001b[0m_has_valid_tuple\u001b[0m\u001b[1;33m(\u001b[0m\u001b[0mtup\u001b[0m\u001b[1;33m)\u001b[0m\u001b[1;33m\u001b[0m\u001b[1;33m\u001b[0m\u001b[0m\n\u001b[0m\u001b[0;32m   2144\u001b[0m         \u001b[1;32mtry\u001b[0m\u001b[1;33m:\u001b[0m\u001b[1;33m\u001b[0m\u001b[1;33m\u001b[0m\u001b[0m\n\u001b[0;32m   2145\u001b[0m             \u001b[1;32mreturn\u001b[0m \u001b[0mself\u001b[0m\u001b[1;33m.\u001b[0m\u001b[0m_getitem_lowerdim\u001b[0m\u001b[1;33m(\u001b[0m\u001b[0mtup\u001b[0m\u001b[1;33m)\u001b[0m\u001b[1;33m\u001b[0m\u001b[1;33m\u001b[0m\u001b[0m\n",
      "\u001b[1;32m~\\AppData\\Local\\Continuum\\miniconda3\\lib\\site-packages\\pandas\\core\\indexing.py\u001b[0m in \u001b[0;36m_has_valid_tuple\u001b[1;34m(self, key)\u001b[0m\n\u001b[0;32m    221\u001b[0m                 \u001b[1;32mraise\u001b[0m \u001b[0mIndexingError\u001b[0m\u001b[1;33m(\u001b[0m\u001b[1;34m'Too many indexers'\u001b[0m\u001b[1;33m)\u001b[0m\u001b[1;33m\u001b[0m\u001b[1;33m\u001b[0m\u001b[0m\n\u001b[0;32m    222\u001b[0m             \u001b[1;32mtry\u001b[0m\u001b[1;33m:\u001b[0m\u001b[1;33m\u001b[0m\u001b[1;33m\u001b[0m\u001b[0m\n\u001b[1;32m--> 223\u001b[1;33m                 \u001b[0mself\u001b[0m\u001b[1;33m.\u001b[0m\u001b[0m_validate_key\u001b[0m\u001b[1;33m(\u001b[0m\u001b[0mk\u001b[0m\u001b[1;33m,\u001b[0m \u001b[0mi\u001b[0m\u001b[1;33m)\u001b[0m\u001b[1;33m\u001b[0m\u001b[1;33m\u001b[0m\u001b[0m\n\u001b[0m\u001b[0;32m    224\u001b[0m             \u001b[1;32mexcept\u001b[0m \u001b[0mValueError\u001b[0m\u001b[1;33m:\u001b[0m\u001b[1;33m\u001b[0m\u001b[1;33m\u001b[0m\u001b[0m\n\u001b[0;32m    225\u001b[0m                 raise ValueError(\"Location based indexing can only have \"\n",
      "\u001b[1;32m~\\AppData\\Local\\Continuum\\miniconda3\\lib\\site-packages\\pandas\\core\\indexing.py\u001b[0m in \u001b[0;36m_validate_key\u001b[1;34m(self, key, axis)\u001b[0m\n\u001b[0;32m   2068\u001b[0m             \u001b[1;32mreturn\u001b[0m\u001b[1;33m\u001b[0m\u001b[1;33m\u001b[0m\u001b[0m\n\u001b[0;32m   2069\u001b[0m         \u001b[1;32melif\u001b[0m \u001b[0mis_integer\u001b[0m\u001b[1;33m(\u001b[0m\u001b[0mkey\u001b[0m\u001b[1;33m)\u001b[0m\u001b[1;33m:\u001b[0m\u001b[1;33m\u001b[0m\u001b[1;33m\u001b[0m\u001b[0m\n\u001b[1;32m-> 2070\u001b[1;33m             \u001b[0mself\u001b[0m\u001b[1;33m.\u001b[0m\u001b[0m_validate_integer\u001b[0m\u001b[1;33m(\u001b[0m\u001b[0mkey\u001b[0m\u001b[1;33m,\u001b[0m \u001b[0maxis\u001b[0m\u001b[1;33m)\u001b[0m\u001b[1;33m\u001b[0m\u001b[1;33m\u001b[0m\u001b[0m\n\u001b[0m\u001b[0;32m   2071\u001b[0m         \u001b[1;32melif\u001b[0m \u001b[0misinstance\u001b[0m\u001b[1;33m(\u001b[0m\u001b[0mkey\u001b[0m\u001b[1;33m,\u001b[0m \u001b[0mtuple\u001b[0m\u001b[1;33m)\u001b[0m\u001b[1;33m:\u001b[0m\u001b[1;33m\u001b[0m\u001b[1;33m\u001b[0m\u001b[0m\n\u001b[0;32m   2072\u001b[0m             \u001b[1;31m# a tuple should already have been caught by this point\u001b[0m\u001b[1;33m\u001b[0m\u001b[1;33m\u001b[0m\u001b[1;33m\u001b[0m\u001b[0m\n",
      "\u001b[1;32m~\\AppData\\Local\\Continuum\\miniconda3\\lib\\site-packages\\pandas\\core\\indexing.py\u001b[0m in \u001b[0;36m_validate_integer\u001b[1;34m(self, key, axis)\u001b[0m\n\u001b[0;32m   2137\u001b[0m         \u001b[0mlen_axis\u001b[0m \u001b[1;33m=\u001b[0m \u001b[0mlen\u001b[0m\u001b[1;33m(\u001b[0m\u001b[0mself\u001b[0m\u001b[1;33m.\u001b[0m\u001b[0mobj\u001b[0m\u001b[1;33m.\u001b[0m\u001b[0m_get_axis\u001b[0m\u001b[1;33m(\u001b[0m\u001b[0maxis\u001b[0m\u001b[1;33m)\u001b[0m\u001b[1;33m)\u001b[0m\u001b[1;33m\u001b[0m\u001b[1;33m\u001b[0m\u001b[0m\n\u001b[0;32m   2138\u001b[0m         \u001b[1;32mif\u001b[0m \u001b[0mkey\u001b[0m \u001b[1;33m>=\u001b[0m \u001b[0mlen_axis\u001b[0m \u001b[1;32mor\u001b[0m \u001b[0mkey\u001b[0m \u001b[1;33m<\u001b[0m \u001b[1;33m-\u001b[0m\u001b[0mlen_axis\u001b[0m\u001b[1;33m:\u001b[0m\u001b[1;33m\u001b[0m\u001b[1;33m\u001b[0m\u001b[0m\n\u001b[1;32m-> 2139\u001b[1;33m             \u001b[1;32mraise\u001b[0m \u001b[0mIndexError\u001b[0m\u001b[1;33m(\u001b[0m\u001b[1;34m\"single positional indexer is out-of-bounds\"\u001b[0m\u001b[1;33m)\u001b[0m\u001b[1;33m\u001b[0m\u001b[1;33m\u001b[0m\u001b[0m\n\u001b[0m\u001b[0;32m   2140\u001b[0m \u001b[1;33m\u001b[0m\u001b[0m\n\u001b[0;32m   2141\u001b[0m     \u001b[1;32mdef\u001b[0m \u001b[0m_getitem_tuple\u001b[0m\u001b[1;33m(\u001b[0m\u001b[0mself\u001b[0m\u001b[1;33m,\u001b[0m \u001b[0mtup\u001b[0m\u001b[1;33m)\u001b[0m\u001b[1;33m:\u001b[0m\u001b[1;33m\u001b[0m\u001b[1;33m\u001b[0m\u001b[0m\n",
      "\u001b[1;31mIndexError\u001b[0m: single positional indexer is out-of-bounds"
     ]
    }
   ],
   "source": [
    "print('Happy Comparison test for ES')\n",
    "no_rank_kruskal_comparison_test(es, 'happy')\n",
    "\n",
    "print('\\n')\n",
    "\n",
    "print('Trust Comparison test for ES')\n",
    "no_rank_kruskal_comparison_test(es, 'ppltrst')"
   ]
  },
  {
   "cell_type": "code",
   "execution_count": 66,
   "metadata": {
    "scrolled": false
   },
   "outputs": [
    {
     "name": "stdout",
     "output_type": "stream",
     "text": [
      "Comparison test for ES\n",
      "      happy\n",
      "2890    9.0\n",
      "3702    7.0\n",
      "3701    9.0\n",
      "3700   10.0\n",
      "3699    6.0\n",
      "      happy\n",
      "4910    6.0\n",
      "4914    8.0\n",
      "4913    9.0\n",
      "4912   10.0\n",
      "4911   10.0\n",
      "Ranks_2012    1817.501237\n",
      "Ranks_2014     609.498763\n",
      "dtype: float64\n",
      "1213.5\n",
      "KruskalResult(statistic=1803.7947778418402, pvalue=0.0)\n",
      "\n",
      " Comparison test for SE\n",
      "      happy\n",
      "6778    5.0\n",
      "7376    7.0\n",
      "7377    9.0\n",
      "7378    8.0\n",
      "7379    9.0\n",
      "      happy\n",
      "8292    8.0\n",
      "8291    9.0\n",
      "8290    9.0\n",
      "8289    5.0\n",
      "8283   10.0\n",
      "Ranks_2012    1359.626652\n",
      "Ranks_2014     457.373348\n",
      "dtype: float64\n",
      "908.5\n",
      "KruskalResult(statistic=1344.0743387704806, pvalue=2.987938124745757e-294)\n",
      "\n",
      " Comparison test for CH\n",
      "     happy\n",
      "0      8.0\n",
      "510    8.0\n",
      "511    7.0\n",
      "512    8.0\n",
      "513    9.0\n",
      "      happy\n",
      "1289    9.0\n",
      "1288    9.0\n",
      "1287    8.0\n",
      "1282   10.0\n",
      "1285    9.0\n",
      "Ranks_2012    1157.50194\n",
      "Ranks_2014     389.49806\n",
      "dtype: float64\n",
      "773.5\n",
      "KruskalResult(statistic=1143.820222117447, pvalue=9.885006003713769e-251)\n",
      "\n",
      " Comparison test for NO\n",
      "      happy\n",
      "5316    8.0\n",
      "5799   10.0\n",
      "5800    8.0\n",
      "5801    9.0\n",
      "5802    9.0\n",
      "      happy\n",
      "6537    8.0\n",
      "6531    6.0\n",
      "6532    8.0\n",
      "6533    9.0\n",
      "6534    9.0\n",
      "Ranks_2012    1094.502052\n",
      "Ranks_2014     368.497948\n",
      "dtype: float64\n",
      "731.5\n",
      "KruskalResult(statistic=1080.8242494405422, pvalue=4.860242169393342e-237)\n",
      "\n",
      " Comparison test for CZ\n",
      "      happy\n",
      "1546    9.0\n",
      "1981    4.0\n",
      "1982    7.0\n",
      "1983    7.0\n",
      "1984    6.0\n",
      "      happy\n",
      "2642    8.0\n",
      "2637    7.0\n",
      "2638    8.0\n",
      "2639    9.0\n",
      "2640    8.0\n",
      "Ranks_2012    984.75228\n",
      "Ranks_2014    332.24772\n",
      "dtype: float64\n",
      "658.5\n",
      "KruskalResult(statistic=969.8455577877248, pvalue=6.439543764940963e-213)\n",
      "\n",
      " Comparison test for DE\n",
      "      happy\n",
      "2862    8.0\n",
      "2874    4.0\n",
      "2873    8.0\n",
      "2872    5.0\n",
      "2871    8.0\n",
      "      happy\n",
      "2887   10.0\n",
      "2886    9.0\n",
      "2885    5.0\n",
      "2884    8.0\n",
      "2883    8.0\n",
      "Ranks_2012    18.642857\n",
      "Ranks_2014    10.357143\n",
      "dtype: float64\n",
      "14.5\n",
      "KruskalResult(statistic=7.102040816326536, pvalue=0.0076996234264309375)\n"
     ]
    }
   ],
   "source": [
    "print('Comparison test for ES')\n",
    "kruskal_comparison_test(es, 'happy')\n",
    "print('\\n Comparison test for SE')\n",
    "kruskal_comparison_test(se, 'happy')\n",
    "print('\\n Comparison test for CH')\n",
    "kruskal_comparison_test(ch, 'happy')\n",
    "print('\\n Comparison test for NO')\n",
    "kruskal_comparison_test(no, 'happy')\n",
    "print('\\n Comparison test for CZ')\n",
    "kruskal_comparison_test(cz, 'happy')\n",
    "print('\\n Comparison test for DE')\n",
    "kruskal_comparison_test(de, 'happy')"
   ]
  },
  {
   "cell_type": "code",
   "execution_count": null,
   "metadata": {},
   "outputs": [],
   "source": []
  }
 ],
 "metadata": {
  "kernelspec": {
   "display_name": "Python 3",
   "language": "python",
   "name": "python3"
  },
  "language_info": {
   "codemirror_mode": {
    "name": "ipython",
    "version": 3
   },
   "file_extension": ".py",
   "mimetype": "text/x-python",
   "name": "python",
   "nbconvert_exporter": "python",
   "pygments_lexer": "ipython3",
   "version": "3.7.3"
  }
 },
 "nbformat": 4,
 "nbformat_minor": 4
}
