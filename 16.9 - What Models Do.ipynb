{
 "cells": [
  {
   "cell_type": "code",
   "execution_count": 2,
   "metadata": {},
   "outputs": [],
   "source": [
    "import random"
   ]
  },
  {
   "cell_type": "markdown",
   "metadata": {},
   "source": [
    "1. Try to model the result of a coin toss. In your model, include any features that you think important in explaining the result. Discuss with your mentor about the pros and cons of adding too many features into your model."
   ]
  },
  {
   "cell_type": "code",
   "execution_count": null,
   "metadata": {},
   "outputs": [],
   "source": [
    "def coin_toss():\n",
    "    side = random.randint(0, 1)\n",
    "    if side == 1:\n",
    "        print('heads')\n",
    "    else:\n",
    "        print('tails')\n",
    "        \n",
    "coin_toss()"
   ]
  },
  {
   "cell_type": "markdown",
   "metadata": {},
   "source": [
    "2. If you ever used Netflix, you should already have realized that it provides some recommendations for you to watch. In data science, this is an example of the so-called recommendations systems. Read this nontechnical blog post of Netflix about how they model their recommendations systems. Then, derive the features they use in their recommendations engines and discuss what else can be incorporated into this model."
   ]
  },
  {
   "cell_type": "markdown",
   "metadata": {},
   "source": [
    "# Features Netflix Utilizes in their Recommendations\n",
    "\n",
    "- interactions with the service (viewing history, how you've rated other titles)\n",
    "- other members with similar tastes and preferences\n",
    "- information about the titles (genre, categories, actors, year, etc)\n",
    "- time of day you watch\n",
    "- the devices you're watching on\n",
    "- how long you watch\n",
    "- choose a few titles you like (optional)\n",
    "    - if forgo this step, start with diverse and popular titles\n",
    "- anything you watch will supercede initial preferences and titles you watched more recently will outweigh titles you watched in the past <br>\n",
    "** does not include demographic information \n",
    "\n",
    "\n",
    "# Fruition\n",
    "\n",
    "- provides ranked titles within each row\n",
    "- each row has three layers (choice of row, titles which appear, ranking of those titles)\n",
    "    - most strongly recommended rows at the top, most strongly recommended titles at the start\n",
    "    \n"
   ]
  },
  {
   "cell_type": "markdown",
   "metadata": {},
   "source": [
    "# Other Aspects to Incorporate\n",
    "\n",
    "- movies that were started but not completed\n",
    "- optional demographics\n",
    "- what you search for\n",
    "- shows vs movies\n",
    "- lengths of episodes\n",
    "- type of animation"
   ]
  },
  {
   "cell_type": "code",
   "execution_count": null,
   "metadata": {},
   "outputs": [],
   "source": []
  }
 ],
 "metadata": {
  "kernelspec": {
   "display_name": "Python 3",
   "language": "python",
   "name": "python3"
  },
  "language_info": {
   "codemirror_mode": {
    "name": "ipython",
    "version": 3
   },
   "file_extension": ".py",
   "mimetype": "text/x-python",
   "name": "python",
   "nbconvert_exporter": "python",
   "pygments_lexer": "ipython3",
   "version": "3.7.3"
  }
 },
 "nbformat": 4,
 "nbformat_minor": 2
}
