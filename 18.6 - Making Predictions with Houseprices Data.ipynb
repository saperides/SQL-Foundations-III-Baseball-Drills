{
 "cells": [
  {
   "cell_type": "markdown",
   "metadata": {},
   "source": [
    "* Load the **houseprices** data from Thinkful's database.\n",
    "* Split your data into train and test sets.\n",
    "* Estimate your model from the previous checkpoint in the train set. Assess the goodness of fit of your model.\n",
    "\n",
    "\n",
    "* Predict the house prices in the test set, and evaluate the performance of your model using the metrics we mentioned in this checkpoint.\n",
    "* Is the performance of your model satisfactory? Why?\n",
    "* Try to improve your model in terms of predictive performance by adding or removing some variables."
   ]
  },
  {
   "cell_type": "code",
   "execution_count": 117,
   "metadata": {},
   "outputs": [],
   "source": [
    "import matplotlib.pyplot as plt\n",
    "import numpy as np\n",
    "import pandas as pd\n",
    "from sklearn import linear_model\n",
    "from sklearn.model_selection import train_test_split\n",
    "import statsmodels.formula.api as smf\n",
    "from sqlalchemy import create_engine\n",
    "from scipy.stats import bartlett\n",
    "from scipy.stats import levene\n",
    "from statsmodels.tsa.stattools import acf\n",
    "import statsmodels.api as sm\n",
    "import seaborn as sns\n",
    "from statsmodels.tools.eval_measures import mse, rmse\n",
    "from sklearn.metrics import mean_absolute_error\n",
    "from sklearn.metrics import mean_squared_error\n",
    "from math import sqrt\n",
    "\n",
    "\n",
    "\n",
    "# Display preferences.\n",
    "%matplotlib inline\n",
    "pd.options.display.float_format = '{:.3f}'.format\n",
    "\n",
    "import warnings\n",
    "warnings.filterwarnings(action=\"ignore\")\n",
    "\n",
    "postgres_user = 'dsbc_student'\n",
    "postgres_pw = '7*.8G9QH21'\n",
    "postgres_host = '142.93.121.174'\n",
    "postgres_port = '5432'\n",
    "postgres_db = 'houseprices'\n",
    "\n",
    "engine = create_engine('postgresql://{}:{}@{}:{}/{}'.format(\n",
    "    postgres_user, postgres_pw, postgres_host, postgres_port, postgres_db))\n",
    "houseprices = pd.read_sql_query('select * from houseprices',con=engine)\n",
    "\n",
    "# no need for an open connection, as we're only doing a single query\n",
    "engine.dispose()\n",
    "\n",
    "# houseprices.columns\n",
    "# print(houseprices.info())\n",
    "# pd.set_option('display.max_columns', None)\n",
    "# houseprices.head(10)"
   ]
  },
  {
   "cell_type": "code",
   "execution_count": 118,
   "metadata": {},
   "outputs": [],
   "source": [
    "houseprices[\"lotfrontage\"].fillna(houseprices[\"lotfrontage\"].mean(), inplace=True)\n",
    "houseprices[\"masvnrarea\"].fillna(houseprices[\"masvnrarea\"].mean(), inplace=True)\n",
    "houseprices = pd.concat([houseprices, pd.get_dummies(houseprices[\"kitchenqual\"])], axis=1)\n",
    "houseprices['garage_cars_area'] = houseprices['garagecars'] + houseprices['garagearea']\n",
    "houseprices = pd.concat([houseprices, pd.get_dummies(houseprices[\"fence\"])], axis=1)\n",
    "houseprices['baths'] = houseprices.fullbath * houseprices.halfbath # 0.395\n",
    "houseprices['sold_remodeled'] = houseprices.yearbuilt * houseprices.yearremodadd # 0.577\n",
    "houseprices['sold_garage'] = houseprices.yearbuilt * houseprices.garageyrblt # 0.522\n",
    "houseprices['bsm_first_sf'] = houseprices.totalbsmtsf * houseprices.firstflrsf # 0.54\n",
    "houseprices['grade_living_area'] = houseprices.totrmsabvgrd  * houseprices.grlivarea # 0.648\n",
    "houseprices['basement'] = houseprices.bsmtfullbath  * houseprices.bsmtfinsf1 # 0.346\n",
    "\n",
    "# houseprices.corr()"
   ]
  },
  {
   "cell_type": "markdown",
   "metadata": {},
   "source": [
    "* Split your data into train and test sets.\n",
    "* Estimate your model from the previous checkpoint in the train set. Assess the goodness of fit of your model.\n",
    "\n",
    "The model is a good fit for the training set with R-squared/adjusted values greater than 0.76. \n",
    "\n"
   ]
  },
  {
   "cell_type": "code",
   "execution_count": 119,
   "metadata": {},
   "outputs": [
    {
     "name": "stdout",
     "output_type": "stream",
     "text": [
      "The number of observations in training set is 1168\n",
      "The number of observations in test set is 292\n",
      "                            OLS Regression Results                            \n",
      "==============================================================================\n",
      "Dep. Variable:              saleprice   R-squared:                       0.765\n",
      "Model:                            OLS   Adj. R-squared:                  0.764\n",
      "Method:                 Least Squares   F-statistic:                     630.2\n",
      "Date:                Fri, 01 Nov 2019   Prob (F-statistic):               0.00\n",
      "Time:                        19:00:35   Log-Likelihood:                -13980.\n",
      "No. Observations:                1168   AIC:                         2.797e+04\n",
      "Df Residuals:                    1161   BIC:                         2.801e+04\n",
      "Df Model:                           6                                         \n",
      "Covariance Type:            nonrobust                                         \n",
      "=====================================================================================\n",
      "                        coef    std err          t      P>|t|      [0.025      0.975]\n",
      "-------------------------------------------------------------------------------------\n",
      "const             -4.502e+05   6.81e+04     -6.610      0.000   -5.84e+05   -3.17e+05\n",
      "overallqual        2.181e+04   1338.683     16.291      0.000    1.92e+04    2.44e+04\n",
      "totalbsmtsf          25.0559      3.092      8.104      0.000      18.990      31.122\n",
      "grade_living_area     3.5543      0.217     16.405      0.000       3.129       3.979\n",
      "garage_cars_area     53.0764      6.720      7.898      0.000      39.892      66.261\n",
      "TA                -9030.9603   2860.646     -3.157      0.002   -1.46e+04   -3418.346\n",
      "sold_remodeled        0.1056      0.018      5.830      0.000       0.070       0.141\n",
      "==============================================================================\n",
      "Omnibus:                      552.856   Durbin-Watson:                   1.870\n",
      "Prob(Omnibus):                  0.000   Jarque-Bera (JB):            60709.921\n",
      "Skew:                          -1.195   Prob(JB):                         0.00\n",
      "Kurtosis:                      38.239   Cond. No.                     2.38e+08\n",
      "==============================================================================\n",
      "\n",
      "Warnings:\n",
      "[1] Standard Errors assume that the covariance matrix of the errors is correctly specified.\n",
      "[2] The condition number is large, 2.38e+08. This might indicate that there are\n",
      "strong multicollinearity or other numerical problems.\n"
     ]
    }
   ],
   "source": [
    "\n",
    "features = houseprices[['overallqual', 'totalbsmtsf', 'grade_living_area', 'garage_cars_area', 'TA', 'sold_remodeled']]\n",
    "target = houseprices[['saleprice']]\n",
    "\n",
    "features_train, features_test, target_train, target_test = train_test_split(features, target, test_size = 0.2, random_state = 465)\n",
    "print(\"The number of observations in training set is {}\".format(features_train.shape[0]))\n",
    "print(\"The number of observations in test set is {}\".format(features_test.shape[0]))\n",
    "\n",
    "features_train = sm.add_constant(features_train)\n",
    "\n",
    "# We fit an OLS model using statsmodels\n",
    "results = sm.OLS(target_train, features_train).fit()\n",
    "\n",
    "# We print the summary results\n",
    "print(results.summary())\n"
   ]
  },
  {
   "cell_type": "markdown",
   "metadata": {},
   "source": [
    "* Predict the house prices in the test set, and evaluate the performance of your model using the metrics we mentioned in this checkpoint.\n",
    "* Is the performance of your model satisfactory? Why?\n",
    "\n",
    "Yes and no - the model fits the lower values of the target really well but strays quite a bit from the higher values. The performance metrics are all very large with the exception of the MAPE. Why is this? My plot seems to fit the datapoints better than the example in the module, whose evaluation metrics are much lower, other than the MAPE.\n",
    "\n",
    "Additionally, the code for the metrics in the module didn't work for me and I'm not sure why. The MSE, RMSE, and MAPE kept printing as arrays, with MAPE printing an array of nans. I received assistance from Technical Coaching for the MAPE metric and from my mentor for the other two, but why did the code not work for my data?\n",
    "\n"
   ]
  },
  {
   "cell_type": "code",
   "execution_count": 120,
   "metadata": {},
   "outputs": [],
   "source": [
    "# print(target_test.shape)\n",
    "# target_preds.shape\n",
    "\n",
    "# mse(target_test, target_preds)"
   ]
  },
  {
   "cell_type": "code",
   "execution_count": 121,
   "metadata": {},
   "outputs": [
    {
     "data": {
      "image/png": "[encoded data removed]",
      "text/plain": [
       "<Figure size 432x288 with 1 Axes>"
      ]
     },
     "metadata": {
      "needs_background": "light"
     },
     "output_type": "display_data"
    },
    {
     "name": "stdout",
     "output_type": "stream",
     "text": [
      "Mean absolute error of the prediction is: 25281.842280486766\n",
      "Mean squared error of the prediction is: 1512466667.9751637\n",
      "Root mean squared error of the prediction is: 38890.44443015744\n",
      "Mean absolute percentage error of the prediction is: 15.023300987638367\n"
     ]
    }
   ],
   "source": [
    "features_test = sm.add_constant(features_test)\n",
    "\n",
    "# We are making predictions here\n",
    "target_preds = results.predict(features_test)\n",
    "\n",
    "\n",
    "plt.scatter(target_test, target_preds)\n",
    "plt.plot(target_test, target_test, color=\"red\")\n",
    "plt.xlabel(\"true values\")\n",
    "plt.ylabel(\"predicted values\")\n",
    "plt.title(\"Charges: true and predicted values\")\n",
    "plt.show()\n",
    "\n",
    "print(\"Mean absolute error of the prediction is: {}\".format(mean_absolute_error(target_test, target_preds)))\n",
    "# print(\"Mean squared error of the prediction is: {}\".format(mse(target_test, target_preds, axis=1)))\n",
    "print(\"Mean squared error of the prediction is: {}\".format(mean_squared_error(target_test, target_preds)))\n",
    "print(\"Root mean squared error of the prediction is: {}\".format(sqrt(mean_squared_error(target_test, target_preds))))\n",
    "print(\"Mean absolute percentage error of the prediction is: {}\".format(np.mean(np.abs((target_test['saleprice'] - target_preds)/target_test['saleprice']) * 100)))\n",
    "# print(\"Mean absolute percentage error of the prediction is: {}\".format(np.mean(np.abs((target_test - target_preds) / target_test)) * 100))"
   ]
  },
  {
   "cell_type": "code",
   "execution_count": 122,
   "metadata": {},
   "outputs": [
    {
     "data": {
      "text/plain": [
       "False"
      ]
     },
     "execution_count": 122,
     "metadata": {},
     "output_type": "execute_result"
    }
   ],
   "source": [
    "target_test.isnull()\n",
    "target_test.isnull().values.any()"
   ]
  },
  {
   "cell_type": "markdown",
   "metadata": {},
   "source": [
    "* Try to improve your model in terms of predictive performance by adding or removing some variables.\n",
    "\n",
    "I'm going to remove total basement square feet and add full bath.  This new model is worse - the R-squared/adjusted values are lower and all of the evaluation metrics are higher. However, adding the total basement square feet back into the model brings the metrics lower than the original model. \n",
    "\n",
    "I've been having a problem with multicollinearity, so I removed overall quality as this feature is positively correlated with most of the other feature. This did not help - the R-squared/adjusted values decreased, the AIC and BIC values increased as did the majority of our prediction metrics. The only measurement that improved was the MAPE, but I don't imagine this makes up for the decrease in quality of the model."
   ]
  },
  {
   "cell_type": "code",
   "execution_count": 126,
   "metadata": {},
   "outputs": [],
   "source": [
    "# houseprices = pd.concat([houseprices, pd.get_dummies(houseprices[\"lotconfig\"])], axis=1)\n",
    "# houseprices = pd.concat([houseprices, pd.get_dummies(houseprices[\"condition1\"])], axis=1)\n",
    "# houseprices = pd.concat([houseprices, pd.get_dummies(houseprices[\"condition2\"])], axis=1)\n",
    "# houseprices = pd.concat([houseprices, pd.get_dummies(houseprices[\"roofstyle\"])], axis=1)\n",
    "# houseprices = pd.concat([houseprices, pd.get_dummies(houseprices[\"exterior1st\"])], axis=1)\n",
    "# houseprices = pd.concat([houseprices, pd.get_dummies(houseprices[\"heating\"])], axis=1)\n",
    "# houseprices = pd.concat([houseprices, pd.get_dummies(houseprices[\"electrical\"])], axis=1)\n",
    "\n",
    "# houseprices = pd.concat([houseprices, pd.get_dummies(houseprices[\"mszoning\"])], axis=1)\n",
    "# houseprices = pd.concat([houseprices, pd.get_dummies(houseprices[\"street\"])], axis=1)\n",
    "# houseprices = pd.concat([houseprices, pd.get_dummies(houseprices[\"landcontour\"])], axis=1)\n",
    "# houseprices = pd.concat([houseprices, pd.get_dummies(houseprices[\"landslope\"])], axis=1)\n",
    "# houseprices = pd.concat([houseprices, pd.get_dummies(houseprices[\"housestyle\"])], axis=1)\n",
    "# houseprices = pd.concat([houseprices, pd.get_dummies(houseprices[\"heating\"])], axis=1)\n",
    "# houseprices = pd.concat([houseprices, pd.get_dummies(houseprices[\"exterqual\"])], axis=1)\n",
    "\n",
    "houseprices = pd.concat([houseprices, pd.get_dummies(houseprices[\"paveddrive\"])], axis=1)\n",
    "houseprices = pd.concat([houseprices, pd.get_dummies(houseprices[\"poolqc\"])], axis=1)\n",
    "houseprices = pd.concat([houseprices, pd.get_dummies(houseprices[\"saletype\"])], axis=1)\n",
    "houseprices = pd.concat([houseprices, pd.get_dummies(houseprices[\"salecondition\"])], axis=1)\n",
    "\n",
    "# pd.set_option('display.max_columns', None)\n",
    "# houseprices.corr()"
   ]
  },
  {
   "cell_type": "code",
   "execution_count": 128,
   "metadata": {
    "scrolled": false
   },
   "outputs": [
    {
     "name": "stdout",
     "output_type": "stream",
     "text": [
      "The number of observations in training set is 1168\n",
      "The number of observations in test set is 292\n",
      "                            OLS Regression Results                            \n",
      "==============================================================================\n",
      "Dep. Variable:              saleprice   R-squared:                       0.752\n",
      "Model:                            OLS   Adj. R-squared:                  0.751\n",
      "Method:                 Least Squares   F-statistic:                     587.0\n",
      "Date:                Fri, 01 Nov 2019   Prob (F-statistic):               0.00\n",
      "Time:                        19:04:16   Log-Likelihood:                -14011.\n",
      "No. Observations:                1168   AIC:                         2.804e+04\n",
      "Df Residuals:                    1161   BIC:                         2.807e+04\n",
      "Df Model:                           6                                         \n",
      "Covariance Type:            nonrobust                                         \n",
      "=====================================================================================\n",
      "                        coef    std err          t      P>|t|      [0.025      0.975]\n",
      "-------------------------------------------------------------------------------------\n",
      "const              -5.16e+05   7.35e+04     -7.019      0.000    -6.6e+05   -3.72e+05\n",
      "overallqual        2.417e+04   1345.786     17.961      0.000    2.15e+04    2.68e+04\n",
      "grade_living_area     3.9883      0.251     15.884      0.000       3.496       4.481\n",
      "garage_cars_area     64.3886      6.749      9.540      0.000      51.146      77.631\n",
      "TA                -8808.8714   2944.098     -2.992      0.003   -1.46e+04   -3032.524\n",
      "sold_remodeled        0.1243      0.020      6.302      0.000       0.086       0.163\n",
      "fullbath          -3506.7407   2978.261     -1.177      0.239   -9350.116    2336.635\n",
      "==============================================================================\n",
      "Omnibus:                      303.093   Durbin-Watson:                   1.881\n",
      "Prob(Omnibus):                  0.000   Jarque-Bera (JB):            19657.688\n",
      "Skew:                          -0.068   Prob(JB):                         0.00\n",
      "Kurtosis:                      23.097   Cond. No.                     2.50e+08\n",
      "==============================================================================\n",
      "\n",
      "Warnings:\n",
      "[1] Standard Errors assume that the covariance matrix of the errors is correctly specified.\n",
      "[2] The condition number is large, 2.5e+08. This might indicate that there are\n",
      "strong multicollinearity or other numerical problems.\n"
     ]
    },
    {
     "data": {
      "image/png": "[encoded data removed]",
      "text/plain": [
       "<Figure size 432x288 with 1 Axes>"
      ]
     },
     "metadata": {
      "needs_background": "light"
     },
     "output_type": "display_data"
    },
    {
     "name": "stdout",
     "output_type": "stream",
     "text": [
      "Mean absolute error of the prediction is: 27719.93999706251\n",
      "Mean squared error of the prediction is: 1720347361.593593\n",
      "Root mean squared error of the prediction is: 41477.070311120005\n",
      "Mean absolute percentage error of the prediction is: 16.478824372510935\n"
     ]
    }
   ],
   "source": [
    "features = houseprices[['overallqual','grade_living_area', 'garage_cars_area', 'TA', 'sold_remodeled', 'fullbath']]\n",
    "target = houseprices[['saleprice']]\n",
    "\n",
    "features_train, features_test, target_train, target_test = train_test_split(features, target, test_size = 0.2, random_state = 465)\n",
    "print(\"The number of observations in training set is {}\".format(features_train.shape[0]))\n",
    "print(\"The number of observations in test set is {}\".format(features_test.shape[0]))\n",
    "\n",
    "features_train = sm.add_constant(features_train)\n",
    "\n",
    "# We fit an OLS model using statsmodels\n",
    "results = sm.OLS(target_train, features_train).fit()\n",
    "\n",
    "# We print the summary results\n",
    "print(results.summary())\n",
    "\n",
    "features_test = sm.add_constant(features_test)\n",
    "\n",
    "# We are making predictions here\n",
    "target_preds = results.predict(features_test)\n",
    "\n",
    "plt.scatter(target_test, target_preds)\n",
    "plt.plot(target_test, target_test, color=\"red\")\n",
    "plt.xlabel(\"true values\")\n",
    "plt.ylabel(\"predicted values\")\n",
    "plt.title(\"Charges: true and predicted values\")\n",
    "plt.show()\n",
    "\n",
    "print(\"Mean absolute error of the prediction is: {}\".format(mean_absolute_error(target_test, target_preds)))\n",
    "print(\"Mean squared error of the prediction is: {}\".format(mean_squared_error(target_test, target_preds)))\n",
    "print(\"Root mean squared error of the prediction is: {}\".format(sqrt(mean_squared_error(target_test, target_preds))))\n",
    "print(\"Mean absolute percentage error of the prediction is: {}\".format(np.mean(np.abs((target_test['saleprice'] - target_preds)/target_test['saleprice']) * 100)))\n",
    "\n"
   ]
  },
  {
   "cell_type": "code",
   "execution_count": 129,
   "metadata": {},
   "outputs": [
    {
     "name": "stdout",
     "output_type": "stream",
     "text": [
      "The number of observations in training set is 1168\n",
      "The number of observations in test set is 292\n",
      "                            OLS Regression Results                            \n",
      "==============================================================================\n",
      "Dep. Variable:              saleprice   R-squared:                       0.765\n",
      "Model:                            OLS   Adj. R-squared:                  0.764\n",
      "Method:                 Least Squares   F-statistic:                     539.9\n",
      "Date:                Fri, 01 Nov 2019   Prob (F-statistic):               0.00\n",
      "Time:                        19:06:14   Log-Likelihood:                -13979.\n",
      "No. Observations:                1168   AIC:                         2.797e+04\n",
      "Df Residuals:                    1160   BIC:                         2.802e+04\n",
      "Df Model:                           7                                         \n",
      "Covariance Type:            nonrobust                                         \n",
      "=====================================================================================\n",
      "                        coef    std err          t      P>|t|      [0.025      0.975]\n",
      "-------------------------------------------------------------------------------------\n",
      "const             -4.622e+05   7.19e+04     -6.430      0.000   -6.03e+05   -3.21e+05\n",
      "overallqual        2.185e+04   1341.892     16.286      0.000    1.92e+04    2.45e+04\n",
      "totalbsmtsf          24.9179      3.104      8.028      0.000      18.828      31.008\n",
      "grade_living_area     3.6184      0.249     14.543      0.000       3.130       4.107\n",
      "garage_cars_area     53.0188      6.723      7.886      0.000      39.828      66.209\n",
      "TA                -9124.3238   2867.077     -3.182      0.001   -1.47e+04   -3499.087\n",
      "sold_remodeled        0.1091      0.019      5.651      0.000       0.071       0.147\n",
      "fullbath          -1525.7771   2910.553     -0.524      0.600   -7236.315    4184.760\n",
      "==============================================================================\n",
      "Omnibus:                      563.052   Durbin-Watson:                   1.870\n",
      "Prob(Omnibus):                  0.000   Jarque-Bera (JB):            62937.585\n",
      "Skew:                          -1.232   Prob(JB):                         0.00\n",
      "Kurtosis:                      38.877   Cond. No.                     2.51e+08\n",
      "==============================================================================\n",
      "\n",
      "Warnings:\n",
      "[1] Standard Errors assume that the covariance matrix of the errors is correctly specified.\n",
      "[2] The condition number is large, 2.51e+08. This might indicate that there are\n",
      "strong multicollinearity or other numerical problems.\n"
     ]
    },
    {
     "data": {
      "image/png": "[encoded data removed]",
      "text/plain": [
       "<Figure size 432x288 with 1 Axes>"
      ]
     },
     "metadata": {
      "needs_background": "light"
     },
     "output_type": "display_data"
    },
    {
     "name": "stdout",
     "output_type": "stream",
     "text": [
      "Mean absolute error of the prediction is: 25262.778083118355\n",
      "Mean squared error of the prediction is: 1507740649.5486124\n",
      "Root mean squared error of the prediction is: 38829.636227353614\n",
      "Mean absolute percentage error of the prediction is: 15.01381270301065\n"
     ]
    }
   ],
   "source": [
    "features = houseprices[['overallqual','totalbsmtsf','grade_living_area', 'garage_cars_area', 'TA', 'sold_remodeled', 'fullbath']]\n",
    "target = houseprices[['saleprice']]\n",
    "\n",
    "features_train, features_test, target_train, target_test = train_test_split(features, target, test_size = 0.2, random_state = 465)\n",
    "print(\"The number of observations in training set is {}\".format(features_train.shape[0]))\n",
    "print(\"The number of observations in test set is {}\".format(features_test.shape[0]))\n",
    "\n",
    "features_train = sm.add_constant(features_train)\n",
    "\n",
    "# We fit an OLS model using statsmodels\n",
    "results = sm.OLS(target_train, features_train).fit()\n",
    "\n",
    "# We print the summary results\n",
    "print(results.summary())\n",
    "\n",
    "features_test = sm.add_constant(features_test)\n",
    "\n",
    "# We are making predictions here\n",
    "target_preds = results.predict(features_test)\n",
    "\n",
    "plt.scatter(target_test, target_preds)\n",
    "plt.plot(target_test, target_test, color=\"red\")\n",
    "plt.xlabel(\"true values\")\n",
    "plt.ylabel(\"predicted values\")\n",
    "plt.title(\"Charges: true and predicted values\")\n",
    "plt.show()\n",
    "\n",
    "print(\"Mean absolute error of the prediction is: {}\".format(mean_absolute_error(target_test, target_preds)))\n",
    "print(\"Mean squared error of the prediction is: {}\".format(mean_squared_error(target_test, target_preds)))\n",
    "print(\"Root mean squared error of the prediction is: {}\".format(sqrt(mean_squared_error(target_test, target_preds))))\n",
    "print(\"Mean absolute percentage error of the prediction is: {}\".format(np.mean(np.abs((target_test['saleprice'] - target_preds)/target_test['saleprice']) * 100)))\n",
    "\n"
   ]
  },
  {
   "cell_type": "code",
   "execution_count": 139,
   "metadata": {},
   "outputs": [
    {
     "data": {
      "text/html": [
       "<div>\n",
       "<style scoped>\n",
       "    .dataframe tbody tr th:only-of-type {\n",
       "        vertical-align: middle;\n",
       "    }\n",
       "\n",
       "    .dataframe tbody tr th {\n",
       "        vertical-align: top;\n",
       "    }\n",
       "\n",
       "    .dataframe thead th {\n",
       "        text-align: right;\n",
       "    }\n",
       "</style>\n",
       "<table border=\"1\" class=\"dataframe\">\n",
       "  <thead>\n",
       "    <tr style=\"text-align: right;\">\n",
       "      <th></th>\n",
       "      <th>overallqual</th>\n",
       "      <th>totalbsmtsf</th>\n",
       "      <th>grade_living_area</th>\n",
       "      <th>garage_cars_area</th>\n",
       "      <th>TA</th>\n",
       "      <th>sold_remodeled</th>\n",
       "    </tr>\n",
       "  </thead>\n",
       "  <tbody>\n",
       "    <tr>\n",
       "      <th>overallqual</th>\n",
       "      <td>1.000</td>\n",
       "      <td>0.538</td>\n",
       "      <td>0.514</td>\n",
       "      <td>0.562</td>\n",
       "      <td>-0.554</td>\n",
       "      <td>0.630</td>\n",
       "    </tr>\n",
       "    <tr>\n",
       "      <th>totalbsmtsf</th>\n",
       "      <td>0.538</td>\n",
       "      <td>1.000</td>\n",
       "      <td>0.401</td>\n",
       "      <td>0.487</td>\n",
       "      <td>-0.311</td>\n",
       "      <td>0.392</td>\n",
       "    </tr>\n",
       "    <tr>\n",
       "      <th>grade_living_area</th>\n",
       "      <td>0.514</td>\n",
       "      <td>0.401</td>\n",
       "      <td>1.000</td>\n",
       "      <td>0.413</td>\n",
       "      <td>-0.287</td>\n",
       "      <td>0.195</td>\n",
       "    </tr>\n",
       "    <tr>\n",
       "      <th>garage_cars_area</th>\n",
       "      <td>0.562</td>\n",
       "      <td>0.487</td>\n",
       "      <td>0.413</td>\n",
       "      <td>1.000</td>\n",
       "      <td>-0.371</td>\n",
       "      <td>0.487</td>\n",
       "    </tr>\n",
       "    <tr>\n",
       "      <th>TA</th>\n",
       "      <td>-0.554</td>\n",
       "      <td>-0.311</td>\n",
       "      <td>-0.287</td>\n",
       "      <td>-0.371</td>\n",
       "      <td>1.000</td>\n",
       "      <td>-0.567</td>\n",
       "    </tr>\n",
       "    <tr>\n",
       "      <th>sold_remodeled</th>\n",
       "      <td>0.630</td>\n",
       "      <td>0.392</td>\n",
       "      <td>0.195</td>\n",
       "      <td>0.487</td>\n",
       "      <td>-0.567</td>\n",
       "      <td>1.000</td>\n",
       "    </tr>\n",
       "  </tbody>\n",
       "</table>\n",
       "</div>"
      ],
      "text/plain": [
       "                   overallqual  totalbsmtsf  grade_living_area  \\\n",
       "overallqual              1.000        0.538              0.514   \n",
       "totalbsmtsf              0.538        1.000              0.401   \n",
       "grade_living_area        0.514        0.401              1.000   \n",
       "garage_cars_area         0.562        0.487              0.413   \n",
       "TA                      -0.554       -0.311             -0.287   \n",
       "sold_remodeled           0.630        0.392              0.195   \n",
       "\n",
       "                   garage_cars_area     TA  sold_remodeled  \n",
       "overallqual                   0.562 -0.554           0.630  \n",
       "totalbsmtsf                   0.487 -0.311           0.392  \n",
       "grade_living_area             0.413 -0.287           0.195  \n",
       "garage_cars_area              1.000 -0.371           0.487  \n",
       "TA                           -0.371  1.000          -0.567  \n",
       "sold_remodeled                0.487 -0.567           1.000  "
      ]
     },
     "execution_count": 139,
     "metadata": {},
     "output_type": "execute_result"
    }
   ],
   "source": [
    "houseprices[['overallqual', 'totalbsmtsf', 'grade_living_area', 'garage_cars_area', 'TA', 'sold_remodeled']].corr()"
   ]
  },
  {
   "cell_type": "code",
   "execution_count": 140,
   "metadata": {},
   "outputs": [
    {
     "name": "stdout",
     "output_type": "stream",
     "text": [
      "The number of observations in training set is 1168\n",
      "The number of observations in test set is 292\n",
      "                            OLS Regression Results                            \n",
      "==============================================================================\n",
      "Dep. Variable:              saleprice   R-squared:                       0.711\n",
      "Model:                            OLS   Adj. R-squared:                  0.710\n",
      "Method:                 Least Squares   F-statistic:                     477.1\n",
      "Date:                Fri, 01 Nov 2019   Prob (F-statistic):          3.95e-309\n",
      "Time:                        19:14:29   Log-Likelihood:                -14100.\n",
      "No. Observations:                1168   AIC:                         2.821e+04\n",
      "Df Residuals:                    1161   BIC:                         2.825e+04\n",
      "Df Model:                           6                                         \n",
      "Covariance Type:            nonrobust                                         \n",
      "=====================================================================================\n",
      "                        coef    std err          t      P>|t|      [0.025      0.975]\n",
      "-------------------------------------------------------------------------------------\n",
      "const             -7.949e+05   7.64e+04    -10.408      0.000   -9.45e+05   -6.45e+05\n",
      "totalbsmtsf          35.7956      3.359     10.658      0.000      29.206      42.385\n",
      "grade_living_area     4.8283      0.263     18.352      0.000       4.312       5.344\n",
      "garage_cars_area     70.7614      7.350      9.627      0.000      56.340      85.183\n",
      "TA                -1.898e+04   3105.057     -6.113      0.000   -2.51e+04   -1.29e+04\n",
      "sold_remodeled        0.2198      0.020     10.979      0.000       0.180       0.259\n",
      "fullbath           1529.5835   3218.093      0.475      0.635   -4784.346    7843.513\n",
      "==============================================================================\n",
      "Omnibus:                      626.202   Durbin-Watson:                   1.917\n",
      "Prob(Omnibus):                  0.000   Jarque-Bera (JB):            69682.055\n",
      "Skew:                          -1.499   Prob(JB):                         0.00\n",
      "Kurtosis:                      40.720   Cond. No.                     2.41e+08\n",
      "==============================================================================\n",
      "\n",
      "Warnings:\n",
      "[1] Standard Errors assume that the covariance matrix of the errors is correctly specified.\n",
      "[2] The condition number is large, 2.41e+08. This might indicate that there are\n",
      "strong multicollinearity or other numerical problems.\n"
     ]
    },
    {
     "data": {
      "image/png": "[encoded data removed]",
      "text/plain": [
       "<Figure size 432x288 with 1 Axes>"
      ]
     },
     "metadata": {
      "needs_background": "light"
     },
     "output_type": "display_data"
    },
    {
     "name": "stdout",
     "output_type": "stream",
     "text": [
      "Mean absolute error of the prediction is: 25868.317526857565\n",
      "Mean squared error of the prediction is: 1718051546.4801052\n",
      "Root mean squared error of the prediction is: 41449.38535708467\n",
      "Mean absolute percentage error of the prediction is: 14.375431450057828\n"
     ]
    }
   ],
   "source": [
    "features = houseprices[['totalbsmtsf','grade_living_area', 'garage_cars_area', 'TA', 'sold_remodeled', 'fullbath']]\n",
    "target = houseprices[['saleprice']]\n",
    "\n",
    "features_train, features_test, target_train, target_test = train_test_split(features, target, test_size = 0.2, random_state = 465)\n",
    "print(\"The number of observations in training set is {}\".format(features_train.shape[0]))\n",
    "print(\"The number of observations in test set is {}\".format(features_test.shape[0]))\n",
    "\n",
    "features_train = sm.add_constant(features_train)\n",
    "\n",
    "# We fit an OLS model using statsmodels\n",
    "results = sm.OLS(target_train, features_train).fit()\n",
    "\n",
    "# We print the summary results\n",
    "print(results.summary())\n",
    "\n",
    "features_test = sm.add_constant(features_test)\n",
    "\n",
    "# We are making predictions here\n",
    "target_preds = results.predict(features_test)\n",
    "\n",
    "plt.scatter(target_test, target_preds)\n",
    "plt.plot(target_test, target_test, color=\"red\")\n",
    "plt.xlabel(\"true values\")\n",
    "plt.ylabel(\"predicted values\")\n",
    "plt.title(\"Charges: true and predicted values\")\n",
    "plt.show()\n",
    "\n",
    "print(\"Mean absolute error of the prediction is: {}\".format(mean_absolute_error(target_test, target_preds)))\n",
    "print(\"Mean squared error of the prediction is: {}\".format(mean_squared_error(target_test, target_preds)))\n",
    "print(\"Root mean squared error of the prediction is: {}\".format(sqrt(mean_squared_error(target_test, target_preds))))\n",
    "print(\"Mean absolute percentage error of the prediction is: {}\".format(np.mean(np.abs((target_test['saleprice'] - target_preds)/target_test['saleprice']) * 100)))\n"
   ]
  },
  {
   "cell_type": "code",
   "execution_count": null,
   "metadata": {},
   "outputs": [],
   "source": []
  }
 ],
 "metadata": {
  "kernelspec": {
   "display_name": "Python 3",
   "language": "python",
   "name": "python3"
  },
  "language_info": {
   "codemirror_mode": {
    "name": "ipython",
    "version": 3
   },
   "file_extension": ".py",
   "mimetype": "text/x-python",
   "name": "python",
   "nbconvert_exporter": "python",
   "pygments_lexer": "ipython3",
   "version": "3.7.3"
  }
 },
 "nbformat": 4,
 "nbformat_minor": 2
}
