{
 "cells": [
  {
   "cell_type": "code",
   "execution_count": 174,
   "metadata": {
    "scrolled": true
   },
   "outputs": [
    {
     "name": "stdout",
     "output_type": "stream",
     "text": [
      "Collecting pillow\n",
      "  Downloading https://files.pythonhosted.org/packages/4b/88/0a35f7ae1e436309a97c92fec81c1ab7d70b4a0646f39b420cbcecfb2de6/Pillow-6.2.1-cp37-cp37m-win32.whl (1.8MB)\n",
      "Installing collected packages: pillow\n",
      "Successfully installed pillow-6.2.1\n",
      "Note: you may need to restart the kernel to use updated packages.\n"
     ]
    }
   ],
   "source": [
    "pip install pillow"
   ]
  },
  {
   "cell_type": "code",
   "execution_count": 26,
   "metadata": {},
   "outputs": [],
   "source": [
    "%matplotlib inline\n",
    "import numpy as np\n",
    "import pandas as pd\n",
    "import scipy\n",
    "import sklearn\n",
    "import matplotlib.pyplot as plt\n",
    "import seaborn as sns\n",
    "from sklearn.metrics import confusion_matrix\n",
    "from sklearn.model_selection import train_test_split\n",
    "from sklearn.model_selection import cross_val_score\n",
    "import os\n",
    "os.chdir('C:\\\\Users\\\\M246047\\\\Documents\\\\Python')"
   ]
  },
  {
   "cell_type": "code",
   "execution_count": 27,
   "metadata": {
    "scrolled": false
   },
   "outputs": [],
   "source": [
    "# Grab and process the raw data.\n",
    "\n",
    "amazon = pd.read_csv('amazon_cells_labelled.txt', delimiter= '\\t', header=None)\n",
    "amazon.columns = ['review', 'tone']\n",
    "amazon.head()\n",
    "amazon_neg = amazon"
   ]
  },
  {
   "cell_type": "code",
   "execution_count": 28,
   "metadata": {},
   "outputs": [
    {
     "data": {
      "text/html": [
       "<div>\n",
       "<style scoped>\n",
       "    .dataframe tbody tr th:only-of-type {\n",
       "        vertical-align: middle;\n",
       "    }\n",
       "\n",
       "    .dataframe tbody tr th {\n",
       "        vertical-align: top;\n",
       "    }\n",
       "\n",
       "    .dataframe thead th {\n",
       "        text-align: right;\n",
       "    }\n",
       "</style>\n",
       "<table border=\"1\" class=\"dataframe\">\n",
       "  <thead>\n",
       "    <tr style=\"text-align: right;\">\n",
       "      <th></th>\n",
       "      <th>review</th>\n",
       "      <th>tone</th>\n",
       "    </tr>\n",
       "  </thead>\n",
       "  <tbody>\n",
       "    <tr>\n",
       "      <th>0</th>\n",
       "      <td>so there is no way for me to plug it in here i...</td>\n",
       "      <td>0</td>\n",
       "    </tr>\n",
       "    <tr>\n",
       "      <th>1</th>\n",
       "      <td>good case, excellent value.</td>\n",
       "      <td>1</td>\n",
       "    </tr>\n",
       "    <tr>\n",
       "      <th>2</th>\n",
       "      <td>great for the jawbone.</td>\n",
       "      <td>1</td>\n",
       "    </tr>\n",
       "    <tr>\n",
       "      <th>3</th>\n",
       "      <td>tied to charger for conversations lasting more...</td>\n",
       "      <td>0</td>\n",
       "    </tr>\n",
       "    <tr>\n",
       "      <th>4</th>\n",
       "      <td>the mic is great.</td>\n",
       "      <td>1</td>\n",
       "    </tr>\n",
       "  </tbody>\n",
       "</table>\n",
       "</div>"
      ],
      "text/plain": [
       "                                              review  tone\n",
       "0  so there is no way for me to plug it in here i...     0\n",
       "1                        good case, excellent value.     1\n",
       "2                             great for the jawbone.     1\n",
       "3  tied to charger for conversations lasting more...     0\n",
       "4                                  the mic is great.     1"
      ]
     },
     "execution_count": 28,
     "metadata": {},
     "output_type": "execute_result"
    }
   ],
   "source": [
    "amazon['review'] = amazon['review'].str.lower()\n",
    "amazon.head()"
   ]
  },
  {
   "cell_type": "markdown",
   "metadata": {},
   "source": [
    "## First, we'll create a model based on positive reviews.\n",
    "\n",
    "keywords = 'great', 'good', 'highly', 'love', 'like', 'nice', 'beautiful', 'brilliant', 'happy', 'excellent', 'perfect', 'would recommend', 'five star', 'well'"
   ]
  },
  {
   "cell_type": "code",
   "execution_count": 29,
   "metadata": {},
   "outputs": [],
   "source": [
    "keywords = ['great', 'good', 'highly', 'love', 'like', 'nice', 'beautiful', 'brilliant', 'happy', \n",
    "            'excellent', 'perfect', 'would recommend', 'five star', 'well', 'quality']\n",
    "\n",
    "for key in keywords:\n",
    "    # Note that we add spaces around the key so that we're getting the word,\n",
    "    # not just pattern matching.\n",
    "#    amazon[str(key)] = amazon.review.str.contains(' ' + str(key) + ' ', case=False)\n",
    "    amazon[str(key)] = amazon.review.str.contains(str(key), case=False)\n"
   ]
  },
  {
   "cell_type": "code",
   "execution_count": 30,
   "metadata": {
    "scrolled": false
   },
   "outputs": [
    {
     "name": "stdout",
     "output_type": "stream",
     "text": [
      "Top positive words: \n",
      " great        62\n",
      "good         53\n",
      "works        43\n",
      "headset      24\n",
      "sound        22\n",
      "one          22\n",
      "quality      21\n",
      "excellent    20\n",
      "love         20\n",
      "phone.       20\n",
      "battery      20\n",
      "best         19\n",
      "i've         19\n",
      "nice         19\n",
      "like         18\n",
      "recommend    18\n",
      "well         17\n",
      "it's         16\n",
      "would        16\n",
      "from         16\n",
      "dtype: int64\n",
      "\n",
      " Top negative words: \n",
      " not        101\n",
      "don't       23\n",
      "after       21\n",
      "battery     19\n",
      "it.         18\n",
      "from        17\n",
      "only        17\n",
      "would       16\n",
      "does        16\n",
      "work        15\n",
      "then        15\n",
      "or          15\n",
      "do          15\n",
      "when        15\n",
      "out         15\n",
      "no          14\n",
      "use         14\n",
      "me          14\n",
      "get         14\n",
      "doesn't     14\n",
      "dtype: int64\n"
     ]
    }
   ],
   "source": [
    "# Looking at frequency of words used in positive and negative reviews\n",
    "positive = amazon.loc[amazon['tone'] == 1]\n",
    "negative = amazon.loc[amazon['tone'] == 0]\n",
    "\n",
    "positive_words = pd.Series(np.concatenate([x.split() for x in positive.review])).value_counts()\n",
    "positive_words = positive_words.drop(['but', 'on', 'it', 'in', 'so', 'are', 'the', 'and', 'i', 'is', 'a', \n",
    "                                      'to', 'it', 'this', 'my', 'for', 'with', 'of', 'it', 'was', 'have',\n",
    "                                     'that', 'has', 'as', 'you', 'than', 'if', 'your', 'at', 'be', 'all', \n",
    "                                      'had', 'very', 'phone'])\n",
    "top_pos = positive_words.iloc[:20]\n",
    "print('Top positive words: \\n', top_pos)\n",
    "\n",
    "negative_words = pd.Series(np.concatenate([x.split() for x in negative.review])).value_counts()\n",
    "negative_words = negative_words.drop(['but', 'on', 'it', 'in', 'so', 'are', 'the', 'and', 'i', 'is', 'a', \n",
    "                                      'to', 'it', 'this', 'my', 'for', 'with', 'of', 'it', 'was', 'have',\n",
    "                                    'that', 'has', 'as', 'you', 'than', 'if', 'your', 'at', 'be', 'all', \n",
    "                                      'had', 'very', 'phone'])\n",
    "top_neg = negative_words.iloc[:20]\n",
    "print('\\n Top negative words: \\n', top_neg)\n",
    "\n"
   ]
  },
  {
   "cell_type": "code",
   "execution_count": 31,
   "metadata": {},
   "outputs": [],
   "source": [
    "# keywords = ['not', 'worst', 'horrible', 'poor', 'never', 'waste', 'useless', 'terrible', 'awful', 'bad', 'return',\n",
    "#            'cheap', 'don\\'t', 'beware', 'sucks', 'disappoint', 'displease', 'not recommend', 'junk', 'broke',\n",
    "#            'no', 'don\\'t', 'doesn\\'t', 'after', 'battery', 'only', 'when', 'work', 'does', 'use']\n",
    "\n",
    "\n",
    "amazon['tone'] = (amazon['tone'] == 1) # turns tone into a boolean column\n",
    "# Note that if you run this cell a second time everything will become false.\n",
    "# So... Don't."
   ]
  },
  {
   "cell_type": "markdown",
   "metadata": {},
   "source": [
    "Our variables are quite independent!"
   ]
  },
  {
   "cell_type": "code",
   "execution_count": 32,
   "metadata": {},
   "outputs": [
    {
     "data": {
      "text/plain": [
       "<matplotlib.axes._subplots.AxesSubplot at 0x10ff250>"
      ]
     },
     "execution_count": 32,
     "metadata": {},
     "output_type": "execute_result"
    },
    {
     "data": {
      "image/png": "[encoded data removed]",
      "text/plain": [
       "<Figure size 432x288 with 2 Axes>"
      ]
     },
     "metadata": {
      "needs_background": "light"
     },
     "output_type": "display_data"
    }
   ],
   "source": [
    "sns.heatmap(amazon.corr())"
   ]
  },
  {
   "cell_type": "code",
   "execution_count": 33,
   "metadata": {},
   "outputs": [],
   "source": [
    "data = amazon[keywords]\n",
    "target = amazon['tone']"
   ]
  },
  {
   "cell_type": "code",
   "execution_count": 34,
   "metadata": {
    "scrolled": true
   },
   "outputs": [
    {
     "name": "stdout",
     "output_type": "stream",
     "text": [
      "Number of mislabeled points out of a total 1000 points : 264\n",
      "Confusion Matrix:\n",
      "[[467  33]\n",
      " [231 269]]\n",
      "\n",
      "\n",
      "With 30% Holdout: 0.72\n",
      "Testing on Sample: 0.736\n",
      "With Cross Validation:\n"
     ]
    },
    {
     "data": {
      "text/plain": [
       "array([0.84, 0.74, 0.78, 0.72, 0.74, 0.71, 0.68, 0.66, 0.76, 0.67])"
      ]
     },
     "execution_count": 34,
     "metadata": {},
     "output_type": "execute_result"
    }
   ],
   "source": [
    "# Our data is binary / boolean, so we're importing the Bernoulli classifier.\n",
    "from sklearn.naive_bayes import BernoulliNB\n",
    "\n",
    "# Instantiate our model and store it in a new variable.\n",
    "bnb = BernoulliNB()\n",
    "\n",
    "# Fit our model to the data.\n",
    "bnb.fit(data, target)\n",
    "\n",
    "# Classify, storing the result in a new variable.\n",
    "y_pred = bnb.predict(data)\n",
    "\n",
    "# Display our results.\n",
    "print(\"Number of mislabeled points out of a total {} points : {}\".format(\n",
    "    data.shape[0],\n",
    "    (target != y_pred).sum()\n",
    "))\n",
    "\n",
    "print('Confusion Matrix:')\n",
    "print(confusion_matrix(target, y_pred))\n",
    "print('\\n')\n",
    "\n",
    "X_train, X_test, y_train, y_test = train_test_split(data, target, test_size=0.3, random_state=20)\n",
    "print('With 30% Holdout: ' + str(bnb.fit(X_train, y_train).score(X_test, y_test)))\n",
    "print('Testing on Sample: ' + str(bnb.fit(data, target).score(data, target)))\n",
    "\n",
    "print('With Cross Validation:')\n",
    "cross_val_score(bnb, data, target, cv=10)"
   ]
  },
  {
   "cell_type": "markdown",
   "metadata": {},
   "source": [
    "While our holdout test was quite close, the cross validation, with a range of 15%-20%, indicates our model could use some work in that there is overfitting. The Confusion Matrix tells us that the we're marking positive reviews correctly for the most part and that our main problem is with the false positives - we're incorrectly marking many negative reviews as positive. "
   ]
  },
  {
   "cell_type": "markdown",
   "metadata": {},
   "source": [
    "## All Positive Terms\n",
    "\n",
    "I'm now going to create a model with the positive terms I chose above in addition to the terms that show up in my top positive terms after I've removed generic terms like 'I' and 'the'. This will include words like 'phone' and 'headset', so I imagine this model will be less accurae in addition to having more overfitting."
   ]
  },
  {
   "cell_type": "code",
   "execution_count": 14,
   "metadata": {},
   "outputs": [],
   "source": [
    "amazon = pd.read_csv('amazon_cells_labelled.txt', delimiter= '\\t', header=None)\n",
    "amazon.columns = ['review', 'tone']\n",
    "amazon.head()\n",
    "amazon_neg = amazon"
   ]
  },
  {
   "cell_type": "code",
   "execution_count": 15,
   "metadata": {
    "scrolled": true
   },
   "outputs": [
    {
     "data": {
      "text/plain": [
       "<matplotlib.axes._subplots.AxesSubplot at 0x14024c30>"
      ]
     },
     "execution_count": 15,
     "metadata": {},
     "output_type": "execute_result"
    },
    {
     "data": {
      "image/png": "[encoded data removed]",
      "text/plain": [
       "<Figure size 432x288 with 2 Axes>"
      ]
     },
     "metadata": {
      "needs_background": "light"
     },
     "output_type": "display_data"
    }
   ],
   "source": [
    "keywords = ['great', 'good', 'highly', 'love', 'like', 'nice', 'beautiful', 'brilliant', 'happy', \n",
    "            'excellent', 'perfect', 'would recommend', 'five star', 'well', 'quality',\n",
    "            'works', 'headset', 'sound', 'battery', 'best']\n",
    "\n",
    "for key in keywords:\n",
    "    # Note that we add spaces around the key so that we're getting the word,\n",
    "    # not just pattern matching.\n",
    "#    amazon[str(key)] = amazon.review.str.contains(' ' + str(key) + ' ', case=False)\n",
    "    amazon[str(key)] = amazon.review.str.contains(str(key), case=False)\n",
    "amazon.head()\n",
    "\n",
    "amazon['tone'] = (amazon['tone'] == 1) # turns tone into a boolean column\n",
    "\n",
    "sns.heatmap(amazon.corr())"
   ]
  },
  {
   "cell_type": "code",
   "execution_count": 16,
   "metadata": {},
   "outputs": [
    {
     "name": "stdout",
     "output_type": "stream",
     "text": [
      "Number of mislabeled points out of a total 1000 points : 239\n",
      "Confusion Matrix:\n",
      "[[456  44]\n",
      " [195 305]]\n",
      "\n",
      "\n",
      "With 30% Holdout: 0.7566666666666667\n",
      "Testing on Sample: 0.761\n",
      "With Cross Validation:\n"
     ]
    },
    {
     "data": {
      "text/plain": [
       "array([0.84, 0.76, 0.83, 0.73, 0.79, 0.72, 0.7 , 0.72, 0.81, 0.69])"
      ]
     },
     "execution_count": 16,
     "metadata": {},
     "output_type": "execute_result"
    }
   ],
   "source": [
    "data = amazon[keywords]\n",
    "target = amazon['tone']\n",
    "\n",
    "# Our data is binary / boolean, so we're importing the Bernoulli classifier.\n",
    "from sklearn.naive_bayes import BernoulliNB\n",
    "\n",
    "# Instantiate our model and store it in a new variable.\n",
    "bnb = BernoulliNB()\n",
    "\n",
    "# Fit our model to the data.\n",
    "bnb.fit(data, target)\n",
    "\n",
    "# Classify, storing the result in a new variable.\n",
    "y_pred = bnb.predict(data)\n",
    "\n",
    "# Display our results.\n",
    "print(\"Number of mislabeled points out of a total {} points : {}\".format(\n",
    "    data.shape[0],\n",
    "    (target != y_pred).sum()\n",
    "))\n",
    "\n",
    "print('Confusion Matrix:')\n",
    "print(confusion_matrix(target, y_pred))\n",
    "print('\\n')\n",
    "\n",
    "X_train, X_test, y_train, y_test = train_test_split(data, target, test_size=0.3, random_state=20)\n",
    "print('With 30% Holdout: ' + str(bnb.fit(X_train, y_train).score(X_test, y_test)))\n",
    "print('Testing on Sample: ' + str(bnb.fit(data, target).score(data, target)))\n",
    "\n",
    "print('With Cross Validation:')\n",
    "cross_val_score(bnb, data, target, cv=10)"
   ]
  },
  {
   "cell_type": "markdown",
   "metadata": {},
   "source": [
    "Similarly to our first model, the holdout test is very close but the cross validation has quite a large range which indicates this model could be improved. This model correctly labeled more negative reviews than the original, but the Confusion Matrix tells us that we still have a problem catching the false positives - we're incorrectly marking many negative reviews as positive. "
   ]
  },
  {
   "cell_type": "markdown",
   "metadata": {},
   "source": [
    "## Now we'll create a model based on negative reviews.\n",
    "\n",
    "keywords = 'not', 'worst', 'horrible', 'poor', 'never', 'waste', 'useless', 'terrible', 'awful', 'bad', 'return', 'cheap', 'don't', 'beware', 'sucks', 'disappoint', 'displease', 'not recommend', 'junk', 'broke', 'no', 'doesn't'"
   ]
  },
  {
   "cell_type": "code",
   "execution_count": 17,
   "metadata": {
    "scrolled": true
   },
   "outputs": [],
   "source": [
    "amazon = pd.read_csv('amazon_cells_labelled.txt', delimiter= '\\t', header=None)\n",
    "amazon.columns = ['review', 'tone']\n",
    "\n",
    "keywords = ['not', 'worst', 'horrible', 'poor', 'never', 'waste', 'useless', 'terrible', 'awful', 'bad', 'return',\n",
    "           'cheap', 'don\\'t', 'beware', 'sucks', 'disappoint', 'displease', 'not recommend', 'junk', 'broke',\n",
    "           'no', 'don\\'t', 'doesn\\'t']\n",
    "\n",
    "\n",
    "for key in keywords:\n",
    "    # Note that we add spaces around the key so that we're getting the word,\n",
    "    # not just pattern matching.\n",
    "#    amazon[str(key)] = amazon.review.str.contains(' ' + str(key) + ' ', case=False)\n",
    "    amazon[str(key)] = amazon.review.str.contains(str(key), case=False)"
   ]
  },
  {
   "cell_type": "code",
   "execution_count": 18,
   "metadata": {},
   "outputs": [
    {
     "data": {
      "image/png": "[encoded data removed]",
      "text/plain": [
       "<Figure size 432x288 with 2 Axes>"
      ]
     },
     "metadata": {
      "needs_background": "light"
     },
     "output_type": "display_data"
    }
   ],
   "source": [
    "amazon['tone'] = (amazon['tone'] == 0) # turns tone into a boolean column\n",
    "# Note that if you run this cell a second time everything will become false.\n",
    "# So... Don't.\n",
    "sns.heatmap(amazon.corr())\n",
    "\n",
    "data = amazon[keywords]\n",
    "target = amazon['tone']"
   ]
  },
  {
   "cell_type": "markdown",
   "metadata": {},
   "source": [
    "Our variables/features appear to be quite independent from one another."
   ]
  },
  {
   "cell_type": "code",
   "execution_count": 19,
   "metadata": {},
   "outputs": [
    {
     "name": "stdout",
     "output_type": "stream",
     "text": [
      "Number of mislabeled points out of a total 1000 points : 268\n",
      "Confusion Matrix:\n",
      "[[446  54]\n",
      " [214 286]]\n",
      "With 30% Holdout: 0.7233333333333334\n",
      "Testing on Sample: 0.732\n",
      "With Cross Validation:\n"
     ]
    },
    {
     "data": {
      "text/plain": [
       "array([0.69, 0.76, 0.78, 0.68, 0.81, 0.66, 0.68, 0.73, 0.77, 0.71])"
      ]
     },
     "execution_count": 19,
     "metadata": {},
     "output_type": "execute_result"
    }
   ],
   "source": [
    "# Our data is binary / boolean, so we're importing the Bernoulli classifier.\n",
    "from sklearn.naive_bayes import BernoulliNB\n",
    "\n",
    "# Instantiate our model and store it in a new variable.\n",
    "bnb = BernoulliNB()\n",
    "\n",
    "# Fit our model to the data.\n",
    "bnb.fit(data, target)\n",
    "\n",
    "# Classify, storing the result in a new variable.\n",
    "y_pred = bnb.predict(data)\n",
    "\n",
    "# Display our results.\n",
    "print(\"Number of mislabeled points out of a total {} points : {}\".format(\n",
    "    data.shape[0],\n",
    "    (target != y_pred).sum()\n",
    "))\n",
    "\n",
    "print('Confusion Matrix:')\n",
    "print(confusion_matrix(target, y_pred))\n",
    "\n",
    "# Use train_test_split to create the necessary training and test groups\n",
    "X_train, X_test, y_train, y_test = train_test_split(data, target, test_size=0.3, random_state=20)\n",
    "print('With 30% Holdout: ' + str(bnb.fit(X_train, y_train).score(X_test, y_test)))\n",
    "print('Testing on Sample: ' + str(bnb.fit(data, target).score(data, target)))\n",
    "\n",
    "print('With Cross Validation:')\n",
    "cross_val_score(bnb, data, target, cv=10)"
   ]
  },
  {
   "cell_type": "markdown",
   "metadata": {},
   "source": [
    "While this model mislabeled more reviews than our first two, the Cross Validation is the best we've seen so far, indicating that it's the most precise, if not the most accurate, model.  --> Is this a true statement?\n",
    "\n",
    "However, overfitting is still present. "
   ]
  },
  {
   "cell_type": "markdown",
   "metadata": {},
   "source": [
    "I created two models, one for positive reviews and one for negative, for this data. I created both models using keywords that were present in the reviews - I'd love to add features other than keywords, but was not able to think of any. "
   ]
  },
  {
   "cell_type": "markdown",
   "metadata": {},
   "source": [
    "## All Negative Terms\n",
    "\n",
    "I'm now going to create a model with the negative terms I chose above in addition to the terms that show up in my top positive terms after I've removed generic terms like 'I' and 'the'. This will include words like 'only' and 'battery', so I imagine this model will be less accurae in addition to having more overfitting."
   ]
  },
  {
   "cell_type": "code",
   "execution_count": 20,
   "metadata": {},
   "outputs": [],
   "source": [
    "amazon = pd.read_csv('amazon_cells_labelled.txt', delimiter= '\\t', header=None)\n",
    "amazon.columns = ['review', 'tone']\n",
    "\n",
    "keywords = ['not', 'worst', 'horrible', 'poor', 'never', 'waste', 'useless', 'terrible', 'awful', 'bad', 'return',\n",
    "           'cheap', 'don\\'t', 'beware', 'sucks', 'disappoint', 'displease', 'not recommend', 'junk', 'broke',\n",
    "           'no', 'don\\'t', 'doesn\\'t', 'after', 'battery', 'only', 'when', 'work', 'does', 'use']\n",
    "\n",
    "\n",
    "for key in keywords:\n",
    "    # Note that we add spaces around the key so that we're getting the word,\n",
    "    # not just pattern matching.\n",
    "#    amazon[str(key)] = amazon.review.str.contains(' ' + str(key) + ' ', case=False)\n",
    "    amazon[str(key)] = amazon.review.str.contains(str(key), case=False)"
   ]
  },
  {
   "cell_type": "code",
   "execution_count": 21,
   "metadata": {},
   "outputs": [
    {
     "data": {
      "image/png": "[encoded data removed]",
      "text/plain": [
       "<Figure size 432x288 with 2 Axes>"
      ]
     },
     "metadata": {
      "needs_background": "light"
     },
     "output_type": "display_data"
    }
   ],
   "source": [
    "amazon['tone'] = (amazon['tone'] == 0) # turns tone into a boolean column\n",
    "# Note that if you run this cell a second time everything will become false.\n",
    "# So... Don't.\n",
    "sns.heatmap(amazon.corr())\n",
    "\n",
    "data = amazon[keywords]\n",
    "target = amazon['tone']"
   ]
  },
  {
   "cell_type": "code",
   "execution_count": 22,
   "metadata": {},
   "outputs": [
    {
     "name": "stdout",
     "output_type": "stream",
     "text": [
      "Number of mislabeled points out of a total 1000 points : 254\n",
      "Confusion Matrix:\n",
      "[[445  55]\n",
      " [199 301]]\n",
      "With 30% Holdout: 0.73\n",
      "Testing on Sample: 0.746\n",
      "With Cross Validation:\n"
     ]
    },
    {
     "data": {
      "text/plain": [
       "array([0.71, 0.78, 0.8 , 0.72, 0.81, 0.66, 0.67, 0.76, 0.74, 0.73])"
      ]
     },
     "execution_count": 22,
     "metadata": {},
     "output_type": "execute_result"
    }
   ],
   "source": [
    "# Our data is binary / boolean, so we're importing the Bernoulli classifier.\n",
    "from sklearn.naive_bayes import BernoulliNB\n",
    "\n",
    "# Instantiate our model and store it in a new variable.\n",
    "bnb = BernoulliNB()\n",
    "\n",
    "# Fit our model to the data.\n",
    "bnb.fit(data, target)\n",
    "\n",
    "# Classify, storing the result in a new variable.\n",
    "y_pred = bnb.predict(data)\n",
    "\n",
    "# Display our results.\n",
    "print(\"Number of mislabeled points out of a total {} points : {}\".format(\n",
    "    data.shape[0],\n",
    "    (target != y_pred).sum()\n",
    "))\n",
    "\n",
    "print('Confusion Matrix:')\n",
    "print(confusion_matrix(target, y_pred))\n",
    "\n",
    "# Use train_test_split to create the necessary training and test groups\n",
    "X_train, X_test, y_train, y_test = train_test_split(data, target, test_size=0.3, random_state=20)\n",
    "print('With 30% Holdout: ' + str(bnb.fit(X_train, y_train).score(X_test, y_test)))\n",
    "print('Testing on Sample: ' + str(bnb.fit(data, target).score(data, target)))\n",
    "\n",
    "print('With Cross Validation:')\n",
    "cross_val_score(bnb, data, target, cv=10)"
   ]
  },
  {
   "cell_type": "markdown",
   "metadata": {},
   "source": [
    "Adding the extra terms/features did not make much of a difference at all. Ideally, I'd combine the positive and negative into one model. I'm going to try that next."
   ]
  },
  {
   "cell_type": "markdown",
   "metadata": {},
   "source": [
    "## Note to Self: Looking at Positive and Negative Terms\n",
    "\n",
    "I'd like to create a model that marks positive terms as True and negative terms as False. Come back and try to figure this out!"
   ]
  },
  {
   "cell_type": "code",
   "execution_count": 25,
   "metadata": {},
   "outputs": [
    {
     "ename": "KeyError",
     "evalue": "\"None of [Index(['not', 'worst', 'horrible', 'poor', 'never', 'waste', 'useless',\\n       'terrible', 'awful', 'bad', 'return', 'cheap', 'beware', 'sucks',\\n       'disappoint', 'displease', 'not recommend', 'junk', 'broke', 'no'],\\n      dtype='object')] are in the [columns]\"",
     "output_type": "error",
     "traceback": [
      "\u001b[1;31m---------------------------------------------------------------------------\u001b[0m",
      "\u001b[1;31mKeyError\u001b[0m                                  Traceback (most recent call last)",
      "\u001b[1;32m<ipython-input-25-27d41b04ed09>\u001b[0m in \u001b[0;36m<module>\u001b[1;34m\u001b[0m\n\u001b[0;32m     19\u001b[0m \u001b[1;33m\u001b[0m\u001b[0m\n\u001b[0;32m     20\u001b[0m \u001b[0mamazon\u001b[0m\u001b[1;33m.\u001b[0m\u001b[0mhead\u001b[0m\u001b[1;33m(\u001b[0m\u001b[1;36m20\u001b[0m\u001b[1;33m)\u001b[0m\u001b[1;33m\u001b[0m\u001b[1;33m\u001b[0m\u001b[0m\n\u001b[1;32m---> 21\u001b[1;33m \u001b[0mamazon\u001b[0m\u001b[1;33m[\u001b[0m\u001b[0mneg_keywords\u001b[0m\u001b[1;33m]\u001b[0m\u001b[1;33m\u001b[0m\u001b[1;33m\u001b[0m\u001b[0m\n\u001b[0m",
      "\u001b[1;32m~\\AppData\\Local\\Continuum\\miniconda3\\lib\\site-packages\\pandas\\core\\frame.py\u001b[0m in \u001b[0;36m__getitem__\u001b[1;34m(self, key)\u001b[0m\n\u001b[0;32m   2932\u001b[0m                 \u001b[0mkey\u001b[0m \u001b[1;33m=\u001b[0m \u001b[0mlist\u001b[0m\u001b[1;33m(\u001b[0m\u001b[0mkey\u001b[0m\u001b[1;33m)\u001b[0m\u001b[1;33m\u001b[0m\u001b[1;33m\u001b[0m\u001b[0m\n\u001b[0;32m   2933\u001b[0m             indexer = self.loc._convert_to_indexer(key, axis=1,\n\u001b[1;32m-> 2934\u001b[1;33m                                                    raise_missing=True)\n\u001b[0m\u001b[0;32m   2935\u001b[0m \u001b[1;33m\u001b[0m\u001b[0m\n\u001b[0;32m   2936\u001b[0m         \u001b[1;31m# take() does not accept boolean indexers\u001b[0m\u001b[1;33m\u001b[0m\u001b[1;33m\u001b[0m\u001b[1;33m\u001b[0m\u001b[0m\n",
      "\u001b[1;32m~\\AppData\\Local\\Continuum\\miniconda3\\lib\\site-packages\\pandas\\core\\indexing.py\u001b[0m in \u001b[0;36m_convert_to_indexer\u001b[1;34m(self, obj, axis, is_setter, raise_missing)\u001b[0m\n\u001b[0;32m   1352\u001b[0m                 kwargs = {'raise_missing': True if is_setter else\n\u001b[0;32m   1353\u001b[0m                           raise_missing}\n\u001b[1;32m-> 1354\u001b[1;33m                 \u001b[1;32mreturn\u001b[0m \u001b[0mself\u001b[0m\u001b[1;33m.\u001b[0m\u001b[0m_get_listlike_indexer\u001b[0m\u001b[1;33m(\u001b[0m\u001b[0mobj\u001b[0m\u001b[1;33m,\u001b[0m \u001b[0maxis\u001b[0m\u001b[1;33m,\u001b[0m \u001b[1;33m**\u001b[0m\u001b[0mkwargs\u001b[0m\u001b[1;33m)\u001b[0m\u001b[1;33m[\u001b[0m\u001b[1;36m1\u001b[0m\u001b[1;33m]\u001b[0m\u001b[1;33m\u001b[0m\u001b[1;33m\u001b[0m\u001b[0m\n\u001b[0m\u001b[0;32m   1355\u001b[0m         \u001b[1;32melse\u001b[0m\u001b[1;33m:\u001b[0m\u001b[1;33m\u001b[0m\u001b[1;33m\u001b[0m\u001b[0m\n\u001b[0;32m   1356\u001b[0m             \u001b[1;32mtry\u001b[0m\u001b[1;33m:\u001b[0m\u001b[1;33m\u001b[0m\u001b[1;33m\u001b[0m\u001b[0m\n",
      "\u001b[1;32m~\\AppData\\Local\\Continuum\\miniconda3\\lib\\site-packages\\pandas\\core\\indexing.py\u001b[0m in \u001b[0;36m_get_listlike_indexer\u001b[1;34m(self, key, axis, raise_missing)\u001b[0m\n\u001b[0;32m   1159\u001b[0m         self._validate_read_indexer(keyarr, indexer,\n\u001b[0;32m   1160\u001b[0m                                     \u001b[0mo\u001b[0m\u001b[1;33m.\u001b[0m\u001b[0m_get_axis_number\u001b[0m\u001b[1;33m(\u001b[0m\u001b[0maxis\u001b[0m\u001b[1;33m)\u001b[0m\u001b[1;33m,\u001b[0m\u001b[1;33m\u001b[0m\u001b[1;33m\u001b[0m\u001b[0m\n\u001b[1;32m-> 1161\u001b[1;33m                                     raise_missing=raise_missing)\n\u001b[0m\u001b[0;32m   1162\u001b[0m         \u001b[1;32mreturn\u001b[0m \u001b[0mkeyarr\u001b[0m\u001b[1;33m,\u001b[0m \u001b[0mindexer\u001b[0m\u001b[1;33m\u001b[0m\u001b[1;33m\u001b[0m\u001b[0m\n\u001b[0;32m   1163\u001b[0m \u001b[1;33m\u001b[0m\u001b[0m\n",
      "\u001b[1;32m~\\AppData\\Local\\Continuum\\miniconda3\\lib\\site-packages\\pandas\\core\\indexing.py\u001b[0m in \u001b[0;36m_validate_read_indexer\u001b[1;34m(self, key, indexer, axis, raise_missing)\u001b[0m\n\u001b[0;32m   1244\u001b[0m                 raise KeyError(\n\u001b[0;32m   1245\u001b[0m                     u\"None of [{key}] are in the [{axis}]\".format(\n\u001b[1;32m-> 1246\u001b[1;33m                         key=key, axis=self.obj._get_axis_name(axis)))\n\u001b[0m\u001b[0;32m   1247\u001b[0m \u001b[1;33m\u001b[0m\u001b[0m\n\u001b[0;32m   1248\u001b[0m             \u001b[1;31m# We (temporarily) allow for some missing keys with .loc, except in\u001b[0m\u001b[1;33m\u001b[0m\u001b[1;33m\u001b[0m\u001b[1;33m\u001b[0m\u001b[0m\n",
      "\u001b[1;31mKeyError\u001b[0m: \"None of [Index(['not', 'worst', 'horrible', 'poor', 'never', 'waste', 'useless',\\n       'terrible', 'awful', 'bad', 'return', 'cheap', 'beware', 'sucks',\\n       'disappoint', 'displease', 'not recommend', 'junk', 'broke', 'no'],\\n      dtype='object')] are in the [columns]\""
     ]
    }
   ],
   "source": [
    "amazon = pd.read_csv('amazon_cells_labelled.txt', delimiter= '\\t', header=None)\n",
    "amazon.columns = ['review', 'tone']\n",
    "\n",
    "pos_keywords = ['great', 'good', 'highly', 'love', 'like', 'nice', 'beautiful', 'brilliant', 'happy', \n",
    "            'excellent', 'perfect', 'would recommend', 'five star', 'well', 'quality']\n",
    "\n",
    "neg_keywords = ['not', 'worst', 'horrible', 'poor', 'never', 'waste', 'useless', 'terrible', 'awful', 'bad', 'return',\n",
    "           'cheap', 'beware', 'sucks', 'disappoint', 'displease', 'not recommend', 'junk', 'broke', 'no']\n",
    "# 'don\\'t', 'doesn\\'t'\n",
    "\n",
    "for key in pos_keywords:\n",
    "    # Note that we add spaces around the key so that we're getting the word,\n",
    "    # not just pattern matching.\n",
    "#    amazon[str(key)] = amazon.review.str.contains(' ' + str(key) + ' ', case=False)\n",
    "    amazon[str(key)] = amazon.review.str.contains(str(key), case=False)\n",
    "    \n",
    "for key in neg_keywords:\n",
    "    amazon['not ' + str(key)] = ~amazon.review.str.contains(str(key), case=False)\n",
    "    \n",
    "amazon.head(20)\n",
    "amazon[neg_keywords]"
   ]
  },
  {
   "cell_type": "code",
   "execution_count": 141,
   "metadata": {},
   "outputs": [
    {
     "ename": "SyntaxError",
     "evalue": "invalid syntax (<ipython-input-141-9f0803b72298>, line 6)",
     "output_type": "error",
     "traceback": [
      "\u001b[1;36m  File \u001b[1;32m\"<ipython-input-141-9f0803b72298>\"\u001b[1;36m, line \u001b[1;32m6\u001b[0m\n\u001b[1;33m    data = pd.concat([amazon[pos_keywords], amazon[neg_keywords], axis=1, sort=False)\u001b[0m\n\u001b[1;37m                                                                      ^\u001b[0m\n\u001b[1;31mSyntaxError\u001b[0m\u001b[1;31m:\u001b[0m invalid syntax\n"
     ]
    }
   ],
   "source": [
    "amazon['tone'] = (amazon['tone'] == 1) # turns tone into a boolean column\n",
    "# Note that if you run this cell a second time everything will become false.\n",
    "# So... Don't.\n",
    "sns.heatmap(amazon.corr())\n",
    "\n",
    "data = pd.concat([amazon[pos_keywords], amazon[neg_keywords], axis=1, sort=False)\n",
    "target = amazon['tone']"
   ]
  },
  {
   "cell_type": "code",
   "execution_count": 147,
   "metadata": {},
   "outputs": [
    {
     "data": {
      "text/plain": [
       "<matplotlib.axes._subplots.AxesSubplot at 0x13325bb0>"
      ]
     },
     "execution_count": 147,
     "metadata": {},
     "output_type": "execute_result"
    },
    {
     "data": {
      "image/png": "[encoded data removed]",
      "text/plain": [
       "<Figure size 432x288 with 2 Axes>"
      ]
     },
     "metadata": {
      "needs_background": "light"
     },
     "output_type": "display_data"
    }
   ],
   "source": [
    "amazon['tone'] = (amazon['tone'] == 1) # turns tone into a boolean column\n",
    "# Note that if you run this cell a second time everything will become false.\n",
    "# So... Don't.\n",
    "sns.heatmap(amazon.corr())"
   ]
  },
  {
   "cell_type": "code",
   "execution_count": null,
   "metadata": {},
   "outputs": [],
   "source": []
  }
 ],
 "metadata": {
  "kernelspec": {
   "display_name": "Python 3",
   "language": "python",
   "name": "python3"
  },
  "language_info": {
   "codemirror_mode": {
    "name": "ipython",
    "version": 3
   },
   "file_extension": ".py",
   "mimetype": "text/x-python",
   "name": "python",
   "nbconvert_exporter": "python",
   "pygments_lexer": "ipython3",
   "version": "3.7.3"
  }
 },
 "nbformat": 4,
 "nbformat_minor": 2
}
