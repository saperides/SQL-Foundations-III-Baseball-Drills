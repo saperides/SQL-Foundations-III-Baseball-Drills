{
 "cells": [
  {
   "cell_type": "markdown",
   "metadata": {},
   "source": [
    "# Module: Other Talkpoints and Data Structures\n",
    "    \n",
    "## Checkpoint 1: Intro\n",
    "We're now going to spend some time explicitly talking about algorithms and data structures. We've already introduced these ideas throughout the course, with things such as the machine learning techniques we've used or the data structures we've put data into (like lists, dictionaries, arrays, data frames and so on), but now we're going to cover them in a more formal and rudimentary fashion.\n",
    "\n",
    "Instead of focusing on the most sophisticated algorithms we can implement or the most complex data structures we can use, we're going to break these concepts down to their core, with two specific goals in mind.\n",
    "\n",
    "Firstly, understanding these essentials will make you a better data scientist. It will help you understand the tools we've already started using and how to use them in the most efficient way. Secondly, algorithms and data structures are a core and frequent topic of a lot of data science interviews. Data structures and algorithms are rightly considered part of the backbone of programming, so employers frequently like to see how well you understand these fundamentals.\n",
    "\n",
    "You should come out of this lesson better understanding of, and able to answer interview question on, a few key topics:\n",
    "\n",
    "The differences between lists, linked lists, stacks, and queues and their relative efficiencies with fundamental operations like adding and removing terms\n",
    "What is a fundamental step and how does that relate to \"Big O\" notation\n",
    "How to program a few variations of a rudimentary sorting algorithms\n",
    "Why and how to use tree based data structures\n",
    "As a note before we get started, this is a notoriously difficult subject, and plenty of data scientists working in the field are not masters of these topics. However, being exposed to these topics will make you a better and more efficient data scientist. Don't be surprised if it feels more abstract than a lot of what we've covered thus far, and remember you can always ask your mentor any questions you run into.\n",
    "\n",
    "Let's get started!"
   ]
  },
  {
   "cell_type": "markdown",
   "metadata": {},
   "source": [
    "## Checkpoint 2: Algorithms and data structures\n",
    "__Basic Data Structures__ <br>\n",
    "As we've said before, there are plenty of times where we've used an algorithm or data structure in this course. In fact, it's been the vast majority of the course thus far. We've simply taken them for granted, assuming someone else has optimized the algorithm or forcing us to use the right kind of data structure for the job.\n",
    "\n",
    "So why is it worth spending the time on the specifics?\n",
    "\n",
    "Simply put, we won't always be able to use someone else's framework to solve our problems. Further more, some situations may also need to be highly optimized, and we can't rely on others to do that for us. When we're dealing with a static dataset of a few hundred thousand rows, we may care about efficiency, but often the stakes aren't that high. The difference can often be between waiting for half a second and two seconds, which isn't a difference worth spending hours trying to optimize.\n",
    "\n",
    "However, what if we're trying to run our model in production? And what if our model is handling hundreds of events per second? How do we store those events? How do we handle new entries and solved entries? Now we want to optimize that process as far as we can. A difference of milliseconds can hugely affect how well this process scales.\n",
    "\n",
    "The process we're talking about can be as simple as managing a queue, which is a classic example that will allow us to introduce both simple data structures and the basics of algorithms. Many things related to data science involve managing a queue, from support tickets to data requests and more. For our example however, let's just think of a queue.\n",
    "\n",
    "Waiting for doughnuts\n",
    "\n",
    "For our purposes our queue is a series of arrivals that need to be remembered, with each entry needing some process to be done to it. We have to manage a queue because sometimes our arrivals might come more quickly than we can process them and we don't want new arrivals to be lost if we're busy. In other words we'll have two separate stages, the queue (the topic here) and the processing (which we'll address in the next lesson).\n",
    "\n",
    "What are the ways we could handle this?\n",
    "\n",
    "__The List__ <br>\n",
    "The first and likely most familiar data structure for handling this kind of data would be a list. Now, a list in formal computer science is defined slightly differently than the particular implementation in Python. We want to think about data structures in the abstract, not how any particular language implements them. Once we've got a good handle on the abstract data structures we can dive into language specifics.\n",
    "\n",
    "Now, back to the list.\n",
    "\n",
    "In its most essential terms, a list is an ordered sequence of items with an incrementing index. What does that actually mean? Well, it's a lot like the Numpy arrays and Python lists we've worked with so frequently in this course. Our entries each have an index (starting at 0) and that index increases for each item in the sequence.\n",
    "\n",
    "There are several conveniences to this. Firstly we can call any element of the list simply by knowing its index. We want the 3rd element, we just have to look for index 2. We can also easily add new items to the list without changing anything in the pre-existing list. We just need to add the new item at the next index.\n",
    "\n",
    "However, that indexing also gives us some inconveniences that a queue does a particularly good job of revealing.\n",
    "\n",
    "Let's say we wanted to run a first in, first out queue (also called a FIFO queue). This means we want to handle the person who's been around the longest first. They should be at the head of our list, in position 0. So let's say we want to remove them from the list. What happens to the list now? Do you see the problem?\n",
    "\n",
    "Well, if we are using a list we need to keep our first entry indexed with 0. So when we remove an element we have to go through the remaining entries and decrease their index values accordingly. This may not be that much of a problem if the list is small, but again when we're looking for real efficiency that is going to take some time that we don't want to sacrifice. Imagine you removed the first book on this shelf:\n",
    "\n",
    "Books!\n",
    "\n",
    "To keep your indexes straight you'd have to shift every book over by one. That's a lot of work.\n",
    "\n",
    "As for implementation of lists you can actually use, Python has you covered. Python lists and Numpy arrays both work this way, so you'll rarely implement your own version lists from scratch. That's not the case with some data structures we'll cover later.\n",
    "\n",
    "__Efficiency & fundamental steps__ <br>\n",
    "We've been talking about efficiency and how it can be important in some contexts, so let's formalize our definitions of efficiency and inefficiency. Earlier in the course we introduced Big O notation. Big O is a way of quantifying the efficiency of a process in terms of the size of the data structure you're dealing with as input.\n",
    "\n",
    "Think about a process and breaking it into the smallest \"steps\" you can imagine. In programming, these steps (or \"fundamental instructions\" in computer science lingo) are things like assigning a value to a variable, reading a value, or comparing two values for equality. When we think about efficiency, we try to think about how many steps it would take for us to complete a process and how that number changes as the size of our input data increases. Remember, Big O is about asymptotic efficiency, which incorporates this approaching of a limit.\n",
    "\n",
    "Can you see what the worst case efficiency of removing an item from a list is?\n",
    "\n",
    "Our worst case scenario is typified by our FIFO queue. We'd have to remove that first item and then adjust every following entry's index. This would be called O(n) where n represents the length of our list. The longer the list, the more time it takes, and that time scales linearly.\n",
    "\n",
    "__Linked List__ <br>\n",
    "Now let's think about how we could get a bit more efficient with operations like that. This leads us to a structure called a linked list.\n",
    "\n",
    "In a _linked list_, we maintain order of our items but do not have an index. Instead, each entry is linked to the next item. Linked lists can be either singly or a doubly linked, depending on whether the links only point forward or whether they also point backwards.\n",
    "\n",
    "What's the advantage of getting rid of indexes and pointing to the next item instead?\n",
    "\n",
    "One advantage is deletion, which is O(n) for lists but only O(1) for linked lists. This is because we only update the pointer (or pointers in a doubly linked list) that was pointing to the removed item rather updating the index of every item that follows.\n",
    "\n",
    "But what about accessing? Accessing is the process of going to find a specific value. Here linked lists are at a disadvantage to lists, where accessing values is O(1). For linked lists the efficiency is O(n) because we always have to start at the first item and move through the chain until we get to where we want. There is no fast way for us to go to a specific place since there is no index for us to reference.\n",
    "\n",
    "Python doesn't include an implementation of a linked list, so to use it you have to write it yourself. This is typically done using a Node class that stores the value of an item plus a pointer to the next node (and the previous node in a doubly linked list).\n",
    "\n",
    "Here's an implementation of linked lists in Python. This includes methods for common operations like appending, removing, and inserting nodes. Review the code and the comments thoroughly before moving on.\n",
    "\n",
    "__Queue__ <br>\n",
    "There's a version of the linked list that is a bit more specialized and it's designed to solve exactly the queueing problem we started with. Unsurprisingly, it's called a queue.\n",
    "\n",
    "A queue is a single linked list, but with the special feature that items only come in at one end and leave at the other. This is exactly what we described as our FIFO queue. Then we think of entering the queue as \"enqueing\", where items get linked to the last element of the list. We can then only remove from the front of the line via a \"dequeing\" process.\n",
    "\n",
    "This is an optimal data structure for managing our queue because it lets us do exactly what we'd want to in O(1) efficiency.\n",
    "\n",
    "Its drawbacks are in accessing and searching. To get an element from another part of the queue or just search the queue to see if an element is present, we'd fall into O(n) efficiency. Not the end of the world, but this just illustrates that queues aren't perfect for everything.\n",
    "\n",
    "__Stack__ <br>\n",
    "Lastly, you can make a stack. This could also be a LIFO queue. In this case it's a linked list where items are only added or removed from one end. This means to access an element further down the queue we'd have to first remove all preceding elements. Not ideal for many circumstances, but it does have its uses.\n",
    "\n",
    "Full stack developer amirite?\n",
    "\n",
    "As we said at the beginning, we're just scratching the surface of this topic. Luckily there are plenty of other resources on algorithms and data structures in Python. Some we recommend if you want to dig deeper are Interactive Python and Python School, plus this tutorial on complexity if you need a refresher on Big O notation. Keep in mind as you review these other sources and scour the internet for other implementations that these things can be done in many different ways. There is no single right way or right choice and don't be surprised to see variations."
   ]
  },
  {
   "cell_type": "code",
   "execution_count": 1,
   "metadata": {},
   "outputs": [
    {
     "ename": "AttributeError",
     "evalue": "'LinkedList' object has no attribute 'print'",
     "output_type": "error",
     "traceback": [
      "\u001b[1;31m---------------------------------------------------------------------------\u001b[0m",
      "\u001b[1;31mAttributeError\u001b[0m                            Traceback (most recent call last)",
      "\u001b[1;32m<ipython-input-1-b574518d8146>\u001b[0m in \u001b[0;36m<module>\u001b[1;34m\u001b[0m\n\u001b[0;32m     73\u001b[0m \u001b[0ms\u001b[0m\u001b[1;33m.\u001b[0m\u001b[0mappend\u001b[0m\u001b[1;33m(\u001b[0m\u001b[1;36m3\u001b[0m\u001b[1;33m)\u001b[0m\u001b[1;33m\u001b[0m\u001b[1;33m\u001b[0m\u001b[0m\n\u001b[0;32m     74\u001b[0m \u001b[0ms\u001b[0m\u001b[1;33m.\u001b[0m\u001b[0mappend\u001b[0m\u001b[1;33m(\u001b[0m\u001b[1;36m4\u001b[0m\u001b[1;33m)\u001b[0m\u001b[1;33m\u001b[0m\u001b[1;33m\u001b[0m\u001b[0m\n\u001b[1;32m---> 75\u001b[1;33m \u001b[0ms\u001b[0m\u001b[1;33m.\u001b[0m\u001b[0mprint\u001b[0m\u001b[1;33m(\u001b[0m\u001b[0mlist\u001b[0m\u001b[1;33m(\u001b[0m\u001b[1;33m)\u001b[0m\u001b[1;33m)\u001b[0m\u001b[1;33m\u001b[0m\u001b[1;33m\u001b[0m\u001b[0m\n\u001b[0m\u001b[0;32m     76\u001b[0m \u001b[1;33m\u001b[0m\u001b[0m\n\u001b[0;32m     77\u001b[0m \u001b[0ms\u001b[0m\u001b[1;33m.\u001b[0m\u001b[0mremove\u001b[0m\u001b[1;33m(\u001b[0m\u001b[1;36m3\u001b[0m\u001b[1;33m)\u001b[0m\u001b[1;33m\u001b[0m\u001b[1;33m\u001b[0m\u001b[0m\n",
      "\u001b[1;31mAttributeError\u001b[0m: 'LinkedList' object has no attribute 'print'"
     ]
    }
   ],
   "source": [
    "class Node(object):\n",
    "    \n",
    "    def __init__(self, data, next=None):\n",
    "        self.data = data\n",
    "        self.next = next\n",
    "    \n",
    "class LinkedList(object):\n",
    "    def __init__(self, head=None, tail=None):\n",
    "        self.head = None\n",
    "        self.tail = None\n",
    "        \n",
    "    def print_list(self):\n",
    "        print('List Values:')\n",
    "        # Start at the head\n",
    "        current_node = self.head\n",
    "        # Iterate as long as curent node is not None\n",
    "        while current_node !=None:\n",
    "            # Print the data of the node\n",
    "            print(current_node.data)\n",
    "            # Move to the next element\n",
    "            current_node = current_node.next\n",
    "            print(None)\n",
    "            \n",
    "    def append(self, data):\n",
    "        node = Node(data, None)\n",
    "        # Handle the empty case\n",
    "        if self.head is None:\n",
    "            self.head = node\n",
    "            self.tail = node\n",
    "        else:\n",
    "            # Otherwise set a new next for the tail and set a new tail\n",
    "            self.tail.next = node\n",
    "        self.tail = node\n",
    "        \n",
    "    def remove(self, node_value):\n",
    "        # We're going to want to track a current and previous node\n",
    "        current_node = self.head\n",
    "        previous_node = None\n",
    "        # Iterate through the list to find the value to remove\n",
    "        while current_node != None:\n",
    "            if current_node.data == node_value:\n",
    "                previous_node.next = current_node.next\n",
    "            else:\n",
    "                # Handle edge case\n",
    "                self.head = current_node.next\n",
    "                \n",
    "            # Keep track of prervious nodes to repair list after removal\n",
    "            previous_node = current_node\n",
    "            current_node = current_node.next\n",
    "    \n",
    "    # Note that insert is a permutation of remove\n",
    "    def insert(self, value, at):\n",
    "        current_node = self.head\n",
    "        new_node = Node(value)\n",
    "        # Iterate to find our value to insert after\n",
    "        while current_node != Node:\n",
    "            if current_node.data == at:\n",
    "                if new_node is not None:\n",
    "                    new_node.next = current_node.next\n",
    "                    current_node.next = new_node\n",
    "                else:\n",
    "                    # Handle edge case\n",
    "                    self.tail = current_node.next\n",
    "                    \n",
    "            # Move to the next one\n",
    "            current_node = current_node.next\n",
    "            \n",
    "            \n",
    "# Run these tests, then try to play with the LinkedLIst class and try your own.\n",
    "s = LinkedList()\n",
    "s.append(1)\n",
    "s.append(2)\n",
    "s.append(3)\n",
    "s.append(4)\n",
    "s.print(list())\n",
    "\n",
    "s.remove(3)\n",
    "s.remove(2)\n",
    "s.insert(100, at=1)\n",
    "\n",
    "s.print_list()"
   ]
  },
  {
   "cell_type": "markdown",
   "metadata": {},
   "source": [
    "## Checkpoint 3: Sort in 60 Minutes"
   ]
  },
  {
   "cell_type": "code",
   "execution_count": 1,
   "metadata": {},
   "outputs": [],
   "source": [
    "import time\n",
    "import random\n",
    "\n",
    "# Set seed.\n",
    "random.seed(a=100)\n",
    "\n",
    "# Create our default list.\n",
    "short_list = list(random.sample(range(1000000), 10))\n",
    "long_list = list(random.sample(range(1000000), 10000))"
   ]
  },
  {
   "cell_type": "markdown",
   "metadata": {},
   "source": [
    "Now that we've covered some basic data structures, let's get into the things we can _do_ with those structures a little more. Sure, we've covered some basic operations like adding and deleting elements, but what about more complex processes?\n",
    "\n",
    "These processes are called algorithms. (Ok, they're actually all technically within the class of algorithms, but these are algorithms we really think of as algorithms, rather than just single steps).\n",
    "\n",
    "Algorithms lend themselves to a lot of comparisons to try to illustrate what they are. Some people call them recipes. Others call them directions. The key is this: it's the set of steps necessary for a computer to accomplish a specific task.\n",
    "\n",
    "But what kind of task?\n",
    "\n",
    "Really any kind of task you want. But the most common to discuss (and the most common to show up in interviews) is sorting. Now, there are many many kinds of sorting algorithms, a brief summary of which you can get from the [Sorting Algorithm wiki page](https://en.wikipedia.org/wiki/Sorting_algorithm).\n",
    "\n",
    "We won't cover all of them here, but we'll talk about a few of them to draw out differences in performance, efficiency, and style.\n",
    "\n",
    "As a note, above we're defining `short_list` and `long_list` which will be our default random lists. The short one will be used to validate that our algorithm works, and the long list to compare computation times across sorting strategies. Standardizing both will let us use them as the same baselines for each algorithm we explore. We're also only going to use lists here, but this does generalize more broadly.\n",
    "\n",
    "\n",
    "### The Task of Sorting\n",
    "\n",
    "Just for completeness, let's briefly review what we mean by sorting. The most common example used to talk about methods of sorting is a hand of cards. When you get a hand of cards in a game you want to organize them is some kind of reasonable fashion. This makes it easier to know what cards are in your hand, and to find and access the cards you want.\n",
    "\n",
    "Now, there are many different ways to sort. Everyone kind of has their own method. Some will pick cards up one and a time and sequence them as they go. Others will move through their hand reorganizing card by card. You could even just randomly shuffle them again and again until they are sorted (though this would not be a very efficient approach). Different methods work best in different games and with different sized hands. These same general concepts apply to sorting lists.\n",
    "\n",
    "All of our lists will have a set of values, in our case integers ranging from 0 to 1,000,000. Our goal is to return this list ordered from smallest to largest in the least amount of time. In situations where there are duplicates, those duplicates will maintain their original order (this preserves _stability_ in our algorithm). Our goal is to sort the list as efficiently as possible. This will be _measured_ in runtime, but also _discussed_ in terms of steps\n",
    "\n",
    "### Insertion Sort\n",
    "\n",
    "One of the simplest methods of sorting is the _insertion sort_. In this case we maintain two lists. First is our original list. Then we have a new list, which will be ordered. To add elements to that list, we take an element from our original list and then move through our new list, stopping and inserting it in the appropriate place. We do this by placing it in the position ahead of the first element in the new list that is larger than our chosen element. If none are larger then it is added to the end.\n",
    "\n",
    "This gives the nice property that our result will always be a sorted list which will grow to encompass the entire original set.\n",
    "\n",
    "Let's write it up quickly."
   ]
  },
  {
   "cell_type": "code",
   "execution_count": 2,
   "metadata": {},
   "outputs": [],
   "source": [
    "def insert_sort(input_list):\n",
    "    # Copy the input to a new list so we don't modify the original.\n",
    "    new_list = input_list\n",
    "    \n",
    "    # Iterate through the list.\n",
    "    for i in range(len(new_list)):\n",
    "        # Assign place to a new variable.\n",
    "        j = i\n",
    "        \n",
    "        # Move through the list as long as the previous position is larger\n",
    "        # than the current element of list.\n",
    "        while j > 0 and new_list[j - 1] > new_list[j]:\n",
    "            \n",
    "            # Swap places.\n",
    "            new_list[j - 1], new_list[j] = new_list[j], new_list[j - 1]\n",
    "            \n",
    "            # Reduce j by one.\n",
    "            j = j - 1\n",
    "    return new_list"
   ]
  },
  {
   "cell_type": "markdown",
   "metadata": {},
   "source": [
    "You can think about insertion sort as being like organizing a poker hand from left to right, where you scan your hand from left to right, picking up out of place cards when you see them and moving them to the left as far as they need to go. Here is an visualization from Wikipedia:\n",
    "\n",
    "![Animated insertion sort visualization](https://upload.wikimedia.org/wikipedia/commons/0/0f/Insertion-sort-example-300px.gif)\n",
    "\n",
    "If you want to play around with insertion sort or other algorithms visually, check out [VisuAlgo](https://visualgo.net/en/sorting). Feel free to escape out of the slides and tinker directly with the visualizations.\n",
    "\n",
    "The Python function above implements this algorithm and makes each individual _step_ clear. Lets apply it to our short and long lists."
   ]
  },
  {
   "cell_type": "code",
   "execution_count": 3,
   "metadata": {},
   "outputs": [
    {
     "name": "stdout",
     "output_type": "stream",
     "text": [
      "--- 0.0 seconds ---\n",
      "[152745, 183236, 366725, 412125, 477025, 481850, 739784, 767514, 808225, 997948]\n"
     ]
    }
   ],
   "source": [
    "# Start the timer.\n",
    "start_time = time.time()\n",
    "\n",
    "# Run our insertion sort.\n",
    "insert_sort(short_list)\n",
    "\n",
    "# Print time to show runtime.\n",
    "print(\"--- %s seconds ---\" % (time.time() - start_time))\n",
    "print(insert_sort(short_list))"
   ]
  },
  {
   "cell_type": "code",
   "execution_count": 4,
   "metadata": {},
   "outputs": [
    {
     "name": "stdout",
     "output_type": "stream",
     "text": [
      "--- 7.439845323562622 seconds ---\n"
     ]
    }
   ],
   "source": [
    "# Test on the long list.\n",
    "start_time = time.time()\n",
    "\n",
    "insert_sort(long_list)\n",
    "\n",
    "print(\"--- %s seconds ---\" % (time.time() - start_time))"
   ]
  },
  {
   "cell_type": "markdown",
   "metadata": {},
   "source": [
    "So that seems to work! We've created a reasonable insertion sort that works through the list piecewise and inserts each element in the appropriate spot.\n",
    "\n",
    "However this also revealed something else important about insertion sort: it doesn't scale well. We noticed that it took 11 seconds on the long list. That's an unacceptably long amount of time. This is because its best case time is very different from its worst case.\n",
    "\n",
    "If the list is already ordered this kind of sort takes n steps to complete. It simply iterates through the list. However, if your list is perfectly out of order it can take asymptotically n-squared steps (in big-O notation, $\\mathcal{O}(n^2)$) as we have $n$ elements and our algorithm will potentially look through each element in the sorted list before inserting the element. This means computation can get more intensive quite quickly, as evidenced by the runtime of our long list. Think about what a square function looks like if you graph it. It grows at an ever increasing rate. The [wiki for Insertion Sort](https://en.wikipedia.org/wiki/Insertion_sort#Best.2C_worst.2C_and_average_cases) includes this lovely animation showing this method and the challenge that comes from it.\n",
    "\n",
    "![Insertion sort](https://upload.wikimedia.org/wikipedia/commons/4/42/Insertion_sort.gif)\n",
    "\n",
    "So, how could we do better?"
   ]
  },
  {
   "cell_type": "markdown",
   "metadata": {},
   "source": [
    "### Merge Sort\n",
    "\n",
    "One method for improving this is to use a _merge sort_. Merge sort takes advantage of fact that merging two small sorted lists into one large sorted list is fast. Merge sort starts by breaking our large list into single element sublists. It's a bit wonky, but if you think about it these single-element lists are each inherently ordered. Then we merge those single-element lists together into ordered pairs, reading from a single end to preserve their order. We repeat this process and arrive ultimately at a sorted list.\n",
    "\n",
    "This will look much more complex in code but the concept is easier to understand with an example. Let's try it first with a very basic manual walkthrough.\n",
    "\n",
    "If our list were `[3, 7, 2, 4]` The algorithm would first break it up into four pieces `[3], [7], [2], [4]`. Then we could split that into two groups and merge each by order, resulting in `[3, 7], [2, 4]`. Finally we bring those two lists together to get `[2, 3, 4, 7]`. It's more efficient because in any merge we only have to look at the leading entry from each prior list. For that final merge in the first step we're only comparing 3 to 2 and 4 to 7, since we already know 4 and 7 are larger than their prior entries.\n",
    "\n",
    "Why does that give us an advantage? It's because we won't have to handle large unordered data. We always know what's next in any merge is from one of two places (the next element in each of our two lists we're merging). It's over really long lists that this advantage becomes decidedly worthwhile. This technique is called _divide and conquer_. Our insertion sort tries to solve the whole problem in one piece. Sometimes that's great. But in the case of sorting a long list, that process is inefficient. By breaking our task into smaller ones, in this case sorting small lists and then merging those ordered lists together, we make significant gains in efficiency. Here's a bigger example.\n",
    "\n",
    "![Animated merge sort](https://upload.wikimedia.org/wikipedia/commons/c/cc/Merge-sort-example-300px.gif)\n",
    "\n",
    "This tradeoff is a common feature of algorithms. It's often easiest to write something that tries to solve the problem all in one go. The logic is often easier to visualize. However, thinking about how to break one big problem into several smaller problems is a common way to gain efficiency.\n",
    "\n",
    "Here's what the code for a merge sort looks like (with `merge` written as a separate function):"
   ]
  },
  {
   "cell_type": "code",
   "execution_count": 5,
   "metadata": {},
   "outputs": [],
   "source": [
    "# Our merge function takes two ordered lists and merges them together into one ordered list\n",
    "\n",
    "def merge(a, b):\n",
    "    # Check for empty list.\n",
    "    if len(a) == 0 or len(b) == 0:\n",
    "        return a or b\n",
    "    \n",
    "    # Start with an empty result.\n",
    "    result = []\n",
    "    # Track two indexes.\n",
    "    i, j = 0, 0\n",
    "    # Set a while condition to ensure we iterate only for the length of our two lists.\n",
    "    while (len(result) < len(a) + len(b)):\n",
    "        # If a's next element is lower append that element to our result.\n",
    "        if a[i] < b[j]:\n",
    "            result.append(a[i])\n",
    "            i += 1\n",
    "        # Otherwise append b's next element.\n",
    "        else:\n",
    "            result.append(b[j])\n",
    "            j += 1\n",
    "        # When one list is empty just append everything from the other list and stop.\n",
    "        if i == len(a) or j == len(b):\n",
    "            result.extend(a[i:] or b[j:])\n",
    "            break \n",
    "\n",
    "    return result\n",
    "\n",
    "def merge_sort(lst):\n",
    "    if len(lst) < 2:\n",
    "        return lst\n",
    "\n",
    "    mid = int(len(lst) / 2)\n",
    "    a = merge_sort(lst[:mid])\n",
    "    b = merge_sort(lst[mid:])\n",
    "\n",
    "    return merge(a, b)\n"
   ]
  },
  {
   "cell_type": "code",
   "execution_count": 6,
   "metadata": {},
   "outputs": [
    {
     "name": "stdout",
     "output_type": "stream",
     "text": [
      "--- 0.0 seconds ---\n",
      "[152745, 183236, 366725, 412125, 477025, 481850, 739784, 767514, 808225, 997948]\n"
     ]
    }
   ],
   "source": [
    "# Test on short list.\n",
    "# Start timer.\n",
    "start_time = time.time()\n",
    "\n",
    "# Run our insertion sort.\n",
    "merge_sort(short_list)\n",
    "\n",
    "# Print time to show runtime.\n",
    "print(\"--- %s seconds ---\" % (time.time() - start_time))\n",
    "print(insert_sort(short_list))"
   ]
  },
  {
   "cell_type": "code",
   "execution_count": 7,
   "metadata": {},
   "outputs": [
    {
     "name": "stdout",
     "output_type": "stream",
     "text": [
      "--- 0.04678797721862793 seconds ---\n"
     ]
    }
   ],
   "source": [
    "# Test on long list.\n",
    "start_time = time.time()\n",
    "\n",
    "merge_sort(long_list)\n",
    "\n",
    "print(\"--- %s seconds ---\" % (time.time() - start_time))"
   ]
  },
  {
   "cell_type": "markdown",
   "metadata": {},
   "source": [
    "Now, this algorithm is implemented _recursively_, meaning the function nests within itself, running multiple times until a stopping condition is met. This is how we create multiple layers of lists to merge together. Recursion, again, is a common feature of algorithms. It's a way of nesting an algorithm within itself so that it keeps going until the problem is actually solved and you don't have to specify how many times something should run.\n",
    "\n",
    "It is also much, much faster, a tenth of a second instead of 11 seconds, and less complex: $\\mathcal{O}(n\\log{}n)$ instead of $\\mathcal{O}(n^2))$.\n",
    "\n",
    "This break-down-and-merge method means that when combining shorter lists into longer lists, we can use the knowledge that the shorter lists are already sorted to cut down on the number of comparisons we need to make.  As a result, we don't have to potentially look through all other sorted elements in order to place a single element of our list. It no longer scales quadtratically, but in quasilinear time."
   ]
  },
  {
   "cell_type": "markdown",
   "metadata": {},
   "source": [
    "### The Default Sort Method\n",
    "\n",
    "Now, all of this is fine and dandy, but it's not the only way to sort things.\n",
    "\n",
    "We also have a simpler way. Kind of a cheating way. Python lists have a built in `.sort()` method and there's also the built-in `sorted()` function. Let's see how that performs."
   ]
  },
  {
   "cell_type": "code",
   "execution_count": 9,
   "metadata": {},
   "outputs": [
    {
     "name": "stdout",
     "output_type": "stream",
     "text": [
      "--- 0.0 seconds ---\n"
     ]
    }
   ],
   "source": [
    "# Start Timer\n",
    "start_time = time.time()\n",
    "\n",
    "# Sort the default list. Note that .sort() will sort in place, which would alter default_list.\n",
    "sorted(long_list)\n",
    "\n",
    "# Print time to show runtime\n",
    "print(\"--- %s seconds ---\" % (time.time() - start_time))"
   ]
  },
  {
   "cell_type": "markdown",
   "metadata": {},
   "source": [
    "Now that is much faster than either of ours, so for most cases it's worth just using the built ins. The reasons for this efficiency are many and partially have to do with the fact that it isn't actually written in Python, but Cython, which allows it to run in a version of C from Python that is much faster than generic Python.\n",
    "\n",
    "So why are you learning slow ways to sort that take a lot of work to implement? It's worth understanding how these algorithms function at their most basic level and how we can work with them to build our own bespoke tools. The more complex algorithms you'll implement later will rely on these fundamentals."
   ]
  },
  {
   "cell_type": "markdown",
   "metadata": {},
   "source": [
    "### DRILL\n",
    "\n",
    "Return to the [sorting wiki page](https://en.wikipedia.org/wiki/Sorting_algorithm) and pick an algorithm we haven't covered here (you probably want to pick one of the simpler ones, but it's up to you. Implement it in Python below and see how it compares in sorting our short and long lists. You should be able to easily find guides on how to implement any of the algorithms. Can you figure out why it runs faster or slower than our other sorting algorithms?\n",
    "\n",
    "Some good sorts to try are:\n",
    "* Heap Sort\n",
    "* Selection Sort\n",
    "* QuickSort"
   ]
  },
  {
   "cell_type": "markdown",
   "metadata": {},
   "source": [
    "## Checkpoint 4: Trees\n",
    "\n",
    "The last data structure we’ll cover in this lesson is the tree. Trees are a bit different than the data structures we’ve seen thus far, but present a useful way for storing information that has either a hierarchical structure or that needs to be rapidly searchable. The most distinguishing trait of trees, however, is their sheer flexibility. We’ll explain what we mean below.\n",
    "\n",
    "__What is a tree?__ <br>\n",
    "Here we’re going to focus on the most common variety of tree, the binary tree. We'll use that example to go over the vocabulary of trees.\n",
    "\n",
    "All trees are a set of nodes connected in a hierarchy. Each node is a value. That node can connect to nodes below it, which are called its children. The node linked above it, should it exist, is called a parent. The top node is called the root. If the node has no children it’s called a leaf. Every tree is a combination or permutation of these elements.\n",
    "\n",
    "Let’s look at a simple tree and review those definitions, because they’ll be relatively fundamental to what’s to follow and we’ll rely on them whenever we talk about trees. Also, while they’re similar to how we’ve talked about decision trees as a model, we cannot conflate the two as the terms will vary and have sometimes subtle differences in meaning.\n",
    "\n",
    "![Insertion sort](https://curricula.thinkful.com/curricula/0ca512a0-b4a2-4e0d-8372-d92c82f737e7/dsbc-algorithms-data-structures-v1/assets2/other_topics_trees/binary_tree_basic.jpeg)\n",
    "\n",
    "So, here A is our root. B and C are children of A. A is therefore a parent of B and a parent of C. B, in turn, is a parent of D and E, while C is a parent of F and G. D, E, F, and G are our leaves.\n",
    "\n",
    "A tree is binary if each non-leaf node has no more than two children. A tree where all parent nodes have two children, like the one above, is called a full binary tree (the leaves don't all have to be in pairs and it can still be binary). This can even more specifically be called a perfect binary tree, since it is a complete tree with all leaves on the same level.\n",
    "\n",
    "__A simple python implementation__ <br>\n",
    "So how do we make a binary tree of our own?\n",
    "\n",
    "We can do it in two steps. First we must create a node class."
   ]
  },
  {
   "cell_type": "code",
   "execution_count": 30,
   "metadata": {},
   "outputs": [],
   "source": [
    "class Node:\n",
    "    def __init__(self, val):\n",
    "        self.left = None\n",
    "        self.right = None\n",
    "        self.val = val"
   ]
  },
  {
   "cell_type": "markdown",
   "metadata": {},
   "source": [
    "What this has done is create the framework for nodes. A node will take a value, which gives us the value at that point. It also lets us establish a left and right value, the two children of this node. To create a binary tree, we simply populate those children with their own nodes.\n",
    "\n",
    "So to reconstruct the tree from above we’d simply do this:"
   ]
  },
  {
   "cell_type": "code",
   "execution_count": 31,
   "metadata": {},
   "outputs": [],
   "source": [
    "# Establish the initial root node and children\n",
    "root = Node('A')\n",
    "root.left = Node('B')\n",
    "root.right = Node('C')\n",
    "\n",
    "# Add the appropriate children for ‘B’ and ‘C’\n",
    "root.left.left = Node('D')\n",
    "root.left.right = Node('E')\n",
    "root.right.left = Node('F')\n",
    "root.right.right = Node('G')"
   ]
  },
  {
   "cell_type": "markdown",
   "metadata": {},
   "source": [
    "And there you have it. We’ve now successfully implemented our example tree in Python. Note that this tree can easily grow by adding further children to leaf nodes, an important feature of trees that can be valuable if you need your tree to dynamically grow and prune.\n",
    "\n",
    "__Flexibility and Use Cases__ <br>\n",
    "Now, one of the main features of trees as a data structure should be clear here. For arrays and linked lists there was a pretty clear order to things, and that order was very clearly specified in building the list. That order also meant a rigidity.\n",
    "\n",
    "Trees, however, are much more flexible. You can put data into them in a variety of different ways, leading to a variety of differently shaped trees. Trees can have three children per node. They could increase as you move down from node to children. They could do almost anything you could imagine in that structure of nodes and children. Now, naturally, some will be more suited to certain data sets than others, and efficiencies of various operations will likewise vary, but the sheer flexibility is a key advantage.\n",
    "\n",
    "So what are these kinds of trees good for? The most obvious answer is hierarchical data. If you think of your data in layers, then trees can represent that. Academic courses (broken down into department, level, and then course) are a classic example. Machine learning models (broken down as supervised/unsupervised, then by class, then down to specific kinds of implementations) could also work.\n",
    "\n",
    "__Traversing a Tree__ <br>\n",
    "Traversing a tree means seeing the value of all of the nodes in a trees and discerning its structure. If you are simply given a tree you have to traverse it to know what its structure is and values are. This is another point where trees offer serious flexibility and a great deal of choice for the user. For an array or a linked list, there is a single way to best read the data (though you could argue arrays could also be read backwards). Trees have many many more options.\n",
    "\n",
    "The simplest way is probably breadth first. In breadth first you try to explore the full breadth of a layer, one layer at a time starting from the root. For our example this would look like:\n",
    "\n",
    "A, B, C, D, E, F, G\n",
    "\n",
    "You tend to favor starting on the left for all traversal algorithms.\n",
    "\n",
    "You can also read a tree in a preorder fashion. This moves all the way through the left side of the tree and then moves back one layer at a time to move to the right before then proceeding down the left side of the tree. To further explain, this would read our tree as:\n",
    "\n",
    "A, B, D, E, C, F, G\n",
    "\n",
    "This is called a depth first traversal, since it first aims to find the depth of a tree, in direct contrast to the breadth first method outlined previously.\n",
    "\n",
    "__Binary Heaps__ <br>\n",
    "Binary Heaps are a particular variety of binary tree. They have two defining features. Firstly, the must be complete binary trees. Second the values within the heap either always increase or always decrease as you move from layer to layer. This means every parent must either be greater or less than all children (this property must hold for the whole tree). A minimum binary heap sees the parent as always less than the children, a maximum always greater than.\n",
    "\n",
    "Let’s look at an example.\n",
    "\n",
    "![Insertion sort](https://curricula.thinkful.com/curricula/0ca512a0-b4a2-4e0d-8372-d92c82f737e7/dsbc-algorithms-data-structures-v1/assets2/other_topics_trees/binary_heap.jpeg)\n",
    "\n",
    "Here we have a maximum binary heap. Each parent is greater than its subsequent children. Now, obviously, to have this greater than or less than property the heap has to be used to store numeric data.\n",
    "\n",
    "Why do this? Well, this gives us some advantages in searching for data. For instance, when we look to the second layer, we know the only place an 8 could be is as the child of a 9. We gain that information without having to look through the children of 7. Data scientists will want to use this for times when they want quickly find and use subsets of a data set, so the tree will need to have the logic the data scientist can use.\n",
    "\n",
    "You can see a broader Python implementation of the binary heap here.\n",
    "\n",
    "__DRILL:__ <br>\n",
    "\n",
    "Implement a binary tree, which is filled with 15 pieces of random data. Your job is to then write a program to traverse the tree using a breadth first traversal. If you want additional practice, try other forms of traversal."
   ]
  },
  {
   "cell_type": "code",
   "execution_count": 32,
   "metadata": {},
   "outputs": [
    {
     "ename": "IndentationError",
     "evalue": "expected an indented block (<ipython-input-32-09c3ca9091c2>, line 11)",
     "output_type": "error",
     "traceback": [
      "\u001b[1;36m  File \u001b[1;32m\"<ipython-input-32-09c3ca9091c2>\"\u001b[1;36m, line \u001b[1;32m11\u001b[0m\n\u001b[1;33m    def traverse():\u001b[0m\n\u001b[1;37m      ^\u001b[0m\n\u001b[1;31mIndentationError\u001b[0m\u001b[1;31m:\u001b[0m expected an indented block\n"
     ]
    }
   ],
   "source": [
    "class Node:\n",
    "    def __init__(self, val):\n",
    "        self.left = None\n",
    "        self.right = None\n",
    "        self.val = val\n",
    "\n",
    "    def add(parent, value):\n",
    "        \n",
    "        #implement this function.\n",
    "\n",
    "    def traverse():\n",
    "        \n",
    "        #implement this function\n",
    "        \n",
    "        \n",
    "        \n",
    "        \n",
    "        v=# Establish the initial root node and children\n",
    "root = Node('A')\n",
    "root.left = Node('B')\n",
    "root.right = Node('C')\n",
    "\n",
    "# Add the appropriate children for ‘B’ and ‘C’\n",
    "root.left.left = Node('D')\n",
    "root.left.right = Node('E')\n",
    "root.right.left = Node('F')\n",
    "root.right.right = Node('G')"
   ]
  },
  {
   "cell_type": "markdown",
   "metadata": {},
   "source": [
    "## Checkpoint 5: Project Euler\n",
    "\n",
    "Now that you’ve learned a little bit about algorithms and written some really simple but essential code, it’s time to put those skills to the test. There is one resource above all that helps data scientists and other engineers practice their mathematical programming skills: [Project Euler](https://projecteuler.net/).\n",
    "\n",
    "Project Euler is a fantastic set of mathematical programming problems. Use the skills we’ve discussed here to find efficient solutions to the first 10 problems. Once you’ve found your own solutions look around the web for others’ Python solutions to see other ways people have approached these problems.\n",
    "\n",
    "It’s a good idea to come back to Project Euler and continue to work through these problems. They are a really great way to sharpen your mathematical programming."
   ]
  },
  {
   "cell_type": "markdown",
   "metadata": {},
   "source": [
    "1. If we list all the natural numbers below 10 that are multiples of 3 or 5, we get 3, 5, 6 and 9. The sum of these multiples is 23. Find the sum of all the multiples of 3 or 5 below 1000."
   ]
  },
  {
   "cell_type": "code",
   "execution_count": 1,
   "metadata": {},
   "outputs": [
    {
     "data": {
      "text/plain": [
       "233168"
      ]
     },
     "execution_count": 1,
     "metadata": {},
     "output_type": "execute_result"
    }
   ],
   "source": [
    "multiples = []\n",
    "for i in range(0,1000):\n",
    "    if i%3==0 or i%5==0:\n",
    "        multiples.append(i)\n",
    "\n",
    "sum(multiples)"
   ]
  },
  {
   "cell_type": "markdown",
   "metadata": {},
   "source": [
    "2. Each new term in the Fibonacci sequence is generated by adding the previous two terms. By starting with 1 and 2, the first 10 terms will be:\n",
    "\n",
    "1, 2, 3, 5, 8, 13, 21, 34, 55, 89, ...\n",
    "\n",
    "By considering the terms in the Fibonacci sequence whose values do not exceed four million, find the sum of the even-valued terms."
   ]
  },
  {
   "cell_type": "code",
   "execution_count": 12,
   "metadata": {
    "scrolled": true
   },
   "outputs": [
    {
     "ename": "MemoryError",
     "evalue": "",
     "output_type": "error",
     "traceback": [
      "\u001b[1;31m---------------------------------------------------------------------------\u001b[0m",
      "\u001b[1;31mMemoryError\u001b[0m                               Traceback (most recent call last)",
      "\u001b[1;32m<ipython-input-12-849607a4cf32>\u001b[0m in \u001b[0;36m<module>\u001b[1;34m\u001b[0m\n\u001b[0;32m      2\u001b[0m \u001b[1;32mfor\u001b[0m \u001b[0mi\u001b[0m \u001b[1;32min\u001b[0m \u001b[0mfib\u001b[0m\u001b[1;33m:\u001b[0m\u001b[1;33m\u001b[0m\u001b[1;33m\u001b[0m\u001b[0m\n\u001b[0;32m      3\u001b[0m     \u001b[1;32mif\u001b[0m \u001b[0mi\u001b[0m\u001b[1;33m==\u001b[0m\u001b[1;36m0\u001b[0m \u001b[1;32mor\u001b[0m \u001b[0mi\u001b[0m\u001b[1;33m==\u001b[0m\u001b[1;36m1\u001b[0m\u001b[1;33m:\u001b[0m\u001b[1;33m\u001b[0m\u001b[1;33m\u001b[0m\u001b[0m\n\u001b[1;32m----> 4\u001b[1;33m         \u001b[0mfib\u001b[0m\u001b[1;33m.\u001b[0m\u001b[0mappend\u001b[0m\u001b[1;33m(\u001b[0m\u001b[1;36m1\u001b[0m\u001b[1;33m)\u001b[0m\u001b[1;33m\u001b[0m\u001b[1;33m\u001b[0m\u001b[0m\n\u001b[0m\u001b[0;32m      5\u001b[0m     \u001b[1;32melse\u001b[0m\u001b[1;33m:\u001b[0m\u001b[1;33m\u001b[0m\u001b[1;33m\u001b[0m\u001b[0m\n\u001b[0;32m      6\u001b[0m         \u001b[1;32mwhile\u001b[0m \u001b[0mfib\u001b[0m\u001b[1;33m[\u001b[0m\u001b[0mi\u001b[0m\u001b[1;33m]\u001b[0m \u001b[1;33m<\u001b[0m \u001b[1;36m4000000\u001b[0m\u001b[1;33m:\u001b[0m\u001b[1;33m\u001b[0m\u001b[1;33m\u001b[0m\u001b[0m\n",
      "\u001b[1;31mMemoryError\u001b[0m: "
     ]
    }
   ],
   "source": [
    "fib = [1]\n",
    "for i in fib: \n",
    "    if i==0 or i==1:\n",
    "        fib.append(1)\n",
    "    else:\n",
    "        while fib[i] < 4000000:\n",
    "            number = fib[i-1] + fib[i-2]\n",
    "            fib.append(number)\n",
    "            \n",
    "            \n",
    "for i in fib:\n",
    "    if fib[i] > 4000000:\n",
    "        fib.remove(i)\n",
    "        \n",
    "sum(fib)"
   ]
  },
  {
   "cell_type": "markdown",
   "metadata": {},
   "source": [
    "3. The prime factors of 13195 are 5, 7, 13 and 29.\n",
    "\n",
    "What is the largest prime factor of the number 600851475143 ?"
   ]
  },
  {
   "cell_type": "code",
   "execution_count": 3,
   "metadata": {},
   "outputs": [
    {
     "ename": "KeyboardInterrupt",
     "evalue": "",
     "output_type": "error",
     "traceback": [
      "\u001b[1;31m---------------------------------------------------------------------------\u001b[0m",
      "\u001b[1;31mKeyboardInterrupt\u001b[0m                         Traceback (most recent call last)",
      "\u001b[1;32m<ipython-input-3-736f867442ff>\u001b[0m in \u001b[0;36m<module>\u001b[1;34m\u001b[0m\n\u001b[0;32m      1\u001b[0m \u001b[1;31m# Create a list of factors of 600851475143\u001b[0m\u001b[1;33m\u001b[0m\u001b[1;33m\u001b[0m\u001b[1;33m\u001b[0m\u001b[0m\n\u001b[0;32m      2\u001b[0m \u001b[0mfactors\u001b[0m \u001b[1;33m=\u001b[0m \u001b[1;33m[\u001b[0m\u001b[1;33m]\u001b[0m\u001b[1;33m\u001b[0m\u001b[1;33m\u001b[0m\u001b[0m\n\u001b[1;32m----> 3\u001b[1;33m \u001b[1;32mfor\u001b[0m \u001b[0mi\u001b[0m \u001b[1;32min\u001b[0m \u001b[0mrange\u001b[0m\u001b[1;33m(\u001b[0m\u001b[1;36m1\u001b[0m\u001b[1;33m,\u001b[0m\u001b[1;36m600851475144\u001b[0m\u001b[1;33m)\u001b[0m\u001b[1;33m:\u001b[0m\u001b[1;33m\u001b[0m\u001b[1;33m\u001b[0m\u001b[0m\n\u001b[0m\u001b[0;32m      4\u001b[0m     \u001b[1;32mif\u001b[0m \u001b[1;36m600851475143\u001b[0m\u001b[1;33m%\u001b[0m\u001b[0mi\u001b[0m \u001b[1;33m==\u001b[0m \u001b[1;36m0\u001b[0m\u001b[1;33m:\u001b[0m\u001b[1;33m\u001b[0m\u001b[1;33m\u001b[0m\u001b[0m\n\u001b[0;32m      5\u001b[0m         \u001b[0mfactors\u001b[0m\u001b[1;33m.\u001b[0m\u001b[0mappend\u001b[0m\u001b[1;33m(\u001b[0m\u001b[0mi\u001b[0m\u001b[1;33m)\u001b[0m\u001b[1;33m\u001b[0m\u001b[1;33m\u001b[0m\u001b[0m\n",
      "\u001b[1;31mKeyboardInterrupt\u001b[0m: "
     ]
    }
   ],
   "source": [
    "# Create a list of factors of 600851475143\n",
    "factors = []\n",
    "for i in range(1,600851475144):\n",
    "    if 600851475143%i == 0:\n",
    "        factors.append(i)\n",
    "print(len(factors))\n"
   ]
  },
  {
   "cell_type": "code",
   "execution_count": null,
   "metadata": {},
   "outputs": [],
   "source": [
    "# Reverse list of factors\n",
    "\n",
    "for i in reverse(factors):\n",
    "    if factors[i] != factors[j] & factors[i]%factors[j] == 0:\n",
    "    factors.remove(factors[i])\n",
    "            \n",
    "print(max(factors))"
   ]
  },
  {
   "cell_type": "markdown",
   "metadata": {},
   "source": [
    "4. A palindromic number reads the same both ways. The largest palindrome made from the product of two 2-digit numbers is 9009 = 91 × 99.\n",
    "\n",
    "Find the largest palindrome made from the product of two 3-digit numbers."
   ]
  },
  {
   "cell_type": "code",
   "execution_count": 28,
   "metadata": {},
   "outputs": [],
   "source": [
    "palendromes = []\n",
    "for i in range(10000,998001):\n",
    "    forward = []\n",
    "    backward = forward.reverse()\n",
    "    digits = [int(d) for d in str(i)]\n",
    "    for digit in digits:\n",
    "        forward.append(digit)\n",
    "    if forward == backward:\n",
    "        palendromes.append(i)"
   ]
  },
  {
   "cell_type": "code",
   "execution_count": null,
   "metadata": {},
   "outputs": [],
   "source": []
  }
 ],
 "metadata": {
  "kernelspec": {
   "display_name": "Python 3",
   "language": "python",
   "name": "python3"
  },
  "language_info": {
   "codemirror_mode": {
    "name": "ipython",
    "version": 3
   },
   "file_extension": ".py",
   "mimetype": "text/x-python",
   "name": "python",
   "nbconvert_exporter": "python",
   "pygments_lexer": "ipython3",
   "version": "3.7.3"
  }
 },
 "nbformat": 4,
 "nbformat_minor": 4
}
