{
 "cells": [
  {
   "cell_type": "code",
   "execution_count": 127,
   "metadata": {},
   "outputs": [],
   "source": [
    "from sqlalchemy import create_engine"
   ]
  },
  {
   "cell_type": "code",
   "execution_count": 128,
   "metadata": {},
   "outputs": [],
   "source": [
    "username = 'dsbc_student'\n",
    "password = '7*.8G9QH21'\n",
    "host = '142.93.121.174'\n",
    "port = '5432'\n",
    "db = 'baseball'\n",
    "\n",
    "engine = create_engine('postgresql://{}:{}@{}:{}/{}'.format(username, password,\n",
    "                        host, port, db))"
   ]
  },
  {
   "cell_type": "code",
   "execution_count": 80,
   "metadata": {},
   "outputs": [],
   "source": [
    "sql_people = '''\n",
    "SELECT *\n",
    "FROM people\n",
    "LIMIT 20\n",
    "'''\n",
    "\n",
    "people = engine.execute(sql_people)\n",
    "engine.dispose()\n",
    "# people = people.fetchall()\n",
    "# for row in people:\n",
    "#     print(row)\n",
    "\n",
    "sql_salaries = '''\n",
    "SELECT *\n",
    "FROM salaries\n",
    "LIMIT 20\n",
    "'''\n",
    "\n",
    "salaries = engine.execute(sql_salaries)\n",
    "engine.dispose()\n",
    "\n",
    "sql_hof_inducted = '''\n",
    "SELECT *\n",
    "FROM hof_inducted\n",
    "LIMIT 20\n",
    "'''\n",
    "\n",
    "hof_inducted = engine.execute(sql_hof_inducted)\n",
    "engine.dispose()\n",
    "\n",
    "sql_hof_not_inducted = '''\n",
    "SELECT *\n",
    "FROM hof_not_inducted\n",
    "LIMIT 20\n",
    "'''\n",
    "\n",
    "hof_not_inducted = engine.execute(sql_hof_not_inducted)\n",
    "engine.dispose()"
   ]
  },
  {
   "cell_type": "code",
   "execution_count": 5,
   "metadata": {},
   "outputs": [],
   "source": [
    "people_rows = people.fetchall()\n",
    "salaries_rows = salaries.fetchall()\n",
    "hof_inducted_rows = hof_inducted.fetchall()\n",
    "hof_not_inducted_rows = hof_not_inducted.fetchall()"
   ]
  },
  {
   "cell_type": "markdown",
   "metadata": {},
   "source": [
    "1. Draw a schema of the relationship between the people, salaries, and hof_inducted tables. There are several online database schema drawers that you can use for free, including draw.io, which we recommend. We discuss the basics of how to use draw.io at the end of this checkpoint.\n",
    "    1. Label the primary and foreign keys. (Note that a field can be a primary key to one table and a foreign key to another.)\n",
    "    \n",
    "    It looks like the playerid is the Parent/Foreign key.\n",
    "\n",
    "    2. What are the parent and child tables? Are these one-to-one, one-to-many, or many-to-many relationships? \n",
    "    \n",
    "    Just looking at the names of the tables, my guess is that the People table will be the parent table and the others will be child tables. I would think these would be one-to-one relationships, as each line represents a person and each person should only have one record (if any) per table. I think the hof_inducted may be a parent to the salaries table."
   ]
  },
  {
   "cell_type": "code",
   "execution_count": 6,
   "metadata": {},
   "outputs": [
    {
     "name": "stdout",
     "output_type": "stream",
     "text": [
      "People Columns:  ['playerid', 'birthyear', 'birthcountry', 'deathyear', 'namefirst', 'namelast', 'weight', 'height', 'bats', 'throws']\n",
      "\n",
      "\n",
      "Salaries Columns:  ['yearid', 'teamid', 'lgid', 'playerid', 'salary']\n",
      "\n",
      "\n",
      "hof_inducted Columns:  ['playerid', 'yearid', 'votedby', 'ballots', 'needed', 'votes', 'inducted', 'category', 'needed_note']\n",
      "\n",
      "\n",
      "hof_not_inducted Columns:  ['playerid', 'yearid', 'votedby', 'ballots', 'needed', 'votes', 'inducted', 'category', 'needed_note']\n"
     ]
    }
   ],
   "source": [
    "# print(people.keys())\n",
    "# for row in people_rows:\n",
    "#     print(row)\n",
    "# print('\\n')\n",
    "# print(salaries.keys())\n",
    "# for row in salaries_rows:\n",
    "#     print(row)\n",
    "# print('\\n')\n",
    "# print(hof_inducted.keys())\n",
    "# for row in hof_inducted_rows:\n",
    "#     print(row)\n",
    "    \n",
    "    \n",
    "print('People Columns: ',people.keys())\n",
    "print('\\n')\n",
    "print('Salaries Columns: ', salaries.keys())\n",
    "print('\\n')\n",
    "print('hof_inducted Columns: ', hof_inducted.keys())\n",
    "print('\\n')\n",
    "print('hof_not_inducted Columns: ', hof_not_inducted.keys())"
   ]
  },
  {
   "cell_type": "markdown",
   "metadata": {},
   "source": [
    "2. Write a query that returns the namefirst and namelast fields of the people table, along with the inducted field from the hof_inducted table. All rows from the people table should be returned, and NULL values for the fields from hof_inducted should be returned when there is no match found.\n",
    "\n",
    "I think this is correct, though it says None instead of Null."
   ]
  },
  {
   "cell_type": "code",
   "execution_count": 7,
   "metadata": {},
   "outputs": [],
   "source": [
    "sql = '''\n",
    "SELECT namefirst, namelast, inducted\n",
    "FROM people\n",
    "LEFT OUTER JOIN hof_inducted ON people.playerid = hof_inducted.playerid\n",
    "'''\n",
    "\n",
    "inducted = engine.execute(sql)\n",
    "engine.dispose()\n",
    "inducted_rows = inducted.fetchall()\n",
    "\n",
    "# for row in inducted_rows:\n",
    "#     print(row)\n",
    "    "
   ]
  },
  {
   "cell_type": "markdown",
   "metadata": {},
   "source": [
    "3. In 2006, a special Baseball Hall of Fame induction was conducted for players from the negro baseball leagues of the 20th century. In that induction, 17 players were posthumously inducted into the Baseball Hall of Fame. Write a query that returns the first and last names, birth and death dates, and birth countries for these players. Note that the year of induction was 2006, and the value for votedby will be “Negro League.”\n",
    "\n",
    "My query is showing 25 players instead of 17. My restraints are 'Negro League' in the votedby field and deathyear < 2006 as it is specified these players had passed at the time of induction. I added the inducted and votedby columns to QC the data and these columns are correct, so I'm not sure what's going on."
   ]
  },
  {
   "cell_type": "code",
   "execution_count": 8,
   "metadata": {},
   "outputs": [],
   "source": [
    "# negro_league_count = '''\n",
    "# SELECT COUNT(votedby)\n",
    "# FROM hof_inducted\n",
    "# WHERE votedby = 'Negro League'\n",
    "# '''\n",
    "\n",
    "# negro_count = engine.execute(negro_league_count)\n",
    "# engine.dispose()\n",
    "# first_row = negro_count.first()\n",
    "# count = first_row['count']\n",
    "# print(count)\n",
    "\n",
    "sql = '''\n",
    "SELECT namefirst, namelast, birthyear, deathyear, birthcountry, inducted, votedby\n",
    "FROM people\n",
    "JOIN hof_inducted ON people.playerid = hof_inducted.playerid\n",
    "WHERE votedby = 'Negro League' AND deathyear < 2000\n",
    "'''\n",
    "\n",
    "negro_league = engine.execute(sql)\n",
    "engine.dispose()\n",
    "\n",
    "# for row in negro_league:\n",
    "#     print(row)"
   ]
  },
  {
   "cell_type": "markdown",
   "metadata": {},
   "source": [
    "4. Write a query that returns the yearid, playerid, teamid, and salary fields from the salaries table, along with the category field from the hof_inducted table. Keep only the records that are in both salaries and hof_inducted. Hint: While a field named yearid is found in both tables, don’t JOIN by it. You must, however, explicitly name which field to include.\n",
    "\n",
    "I think this is right - I believe INNER JOIN is the default for JOIN. I ran SELECT COUNT for both the salaries table and the new table and the salaries table has significantly more. What would be a good/best way to check this?"
   ]
  },
  {
   "cell_type": "code",
   "execution_count": 9,
   "metadata": {},
   "outputs": [
    {
     "name": "stdout",
     "output_type": "stream",
     "text": [
      "['yearid', 'playerid', 'teamid', 'salary', 'category']\n"
     ]
    }
   ],
   "source": [
    "sql = '''\n",
    "SELECT salaries.yearid, salaries.playerid, teamid, salary, category\n",
    "FROM salaries\n",
    "JOIN hof_inducted ON salaries.playerid = hof_inducted.playerid\n",
    "'''\n",
    "\n",
    "salaries_hof_inducted = engine.execute(sql)\n",
    "engine.dispose()\n",
    "print(salaries_hof_inducted.keys())\n",
    "# for row in salaries_hof_inducted:\n",
    "#     print(row)"
   ]
  },
  {
   "cell_type": "code",
   "execution_count": 119,
   "metadata": {},
   "outputs": [
    {
     "name": "stdout",
     "output_type": "stream",
     "text": [
      "Number of records in People table:  19370\n",
      "Number of distinct records in People table:  19370\n",
      "Number of records in Salaries hof_inducted join table:  621\n",
      "Number of records in Salaries table:  26428\n",
      "Number of distinct records in Salaries table:  5149\n",
      "Number of records in hof_inducted table:  323\n",
      "Number of records in hof_not_inducted table:  3868\n"
     ]
    }
   ],
   "source": [
    "sql_people_count = '''\n",
    "SELECT COUNT(*)\n",
    "FROM people\n",
    "'''\n",
    "\n",
    "people_count = engine.execute(sql_people_count)\n",
    "engine.dispose()\n",
    "people_count = people_count.first()\n",
    "people_count = people_count['count']\n",
    "print('Number of records in People table: ', people_count)\n",
    "\n",
    "sql_distinct_people_count = '''\n",
    "SELECT COUNT(DISTINCT playerid)\n",
    "FROM people\n",
    "'''\n",
    "\n",
    "people_distinct_count = engine.execute(sql_distinct_people_count)\n",
    "engine.dispose()\n",
    "people_distinct_count = people_distinct_count.first()\n",
    "people_distinct_count = people_distinct_count['count']\n",
    "print('Number of distinct records in People table: ', people_distinct_count)\n",
    "\n",
    "sql_salaries_hof_count = '''\n",
    "SELECT COUNT(*)\n",
    "FROM salaries\n",
    "JOIN hof_inducted ON salaries.playerid = hof_inducted.playerid\n",
    "'''\n",
    "\n",
    "salaries_hof_count = engine.execute(sql_salaries_hof_count)\n",
    "engine.dispose()\n",
    "first_row_sh_count = salaries_hof_count.first()\n",
    "s_h_count = first_row_sh_count['count']\n",
    "print('Number of records in Salaries hof_inducted join table: ', s_h_count)\n",
    "    \n",
    "sql_salaries_count = '''\n",
    "SELECT COUNT(*)\n",
    "FROM salaries\n",
    "'''\n",
    "\n",
    "salaries_count = engine.execute(sql_salaries_count)\n",
    "engine.dispose()\n",
    "first_row_sal_count = salaries_count.first()\n",
    "s_count = first_row_sal_count['count']\n",
    "print('Number of records in Salaries table: ', s_count)\n",
    "\n",
    "sql_distinct_salaries_count = '''\n",
    "SELECT COUNT(DISTINCT playerid)\n",
    "FROM salaries\n",
    "'''\n",
    "\n",
    "salaries_distinct_count = engine.execute(sql_distinct_salaries_count)\n",
    "engine.dispose()\n",
    "first_row_distinct_sal_count = salaries_distinct_count.first()\n",
    "s_distinct_count = first_row_distinct_sal_count['count']\n",
    "print('Number of distinct records in Salaries table: ', s_distinct_count)\n",
    "\n",
    "sql_hof_inducted_count = '''\n",
    "SELECT COUNT(*)\n",
    "FROM hof_inducted\n",
    "'''\n",
    "\n",
    "hof_inducted_count = engine.execute(sql_hof_inducted_count)\n",
    "engine.dispose()\n",
    "first_row_hof_count = hof_inducted_count.first()\n",
    "hof_count = first_row_hof_count['count']\n",
    "print('Number of records in hof_inducted table: ', hof_count)\n",
    "\n",
    "sql_hof_not_inducted_count = '''\n",
    "SELECT COUNT(*)\n",
    "FROM hof_not_inducted\n",
    "'''\n",
    "\n",
    "hof_not_inducted_count = engine.execute(sql_hof_not_inducted_count)\n",
    "engine.dispose()\n",
    "first_row_not_hof_count = hof_not_inducted_count.first()\n",
    "not_hof_count = first_row_not_hof_count['count']\n",
    "print('Number of records in hof_not_inducted table: ', not_hof_count)"
   ]
  },
  {
   "cell_type": "markdown",
   "metadata": {},
   "source": [
    "5. Write a query that returns the playerid, yearid, teamid, lgid, and salary fields from the salaries table and the inducted field from the hof_inducted table. Keep all records from both tables.\n",
    "\n",
    "There are 26,428 records in the salaries table and 323 records in the hof_inducted table so I wouldn't expect to see more than 26,751 records in their union table, but 26,701 records seems a bit high - are there really 273 records that are not shared?"
   ]
  },
  {
   "cell_type": "code",
   "execution_count": 11,
   "metadata": {},
   "outputs": [
    {
     "name": "stdout",
     "output_type": "stream",
     "text": [
      "('barkele01', 1985, 'ATL', 'NL', 870000, None)\n",
      "('bedrost01', 1985, 'ATL', 'NL', 550000, None)\n",
      "('benedbr01', 1985, 'ATL', 'NL', 545000, None)\n",
      "('campri01', 1985, 'ATL', 'NL', 633333, None)\n",
      "('ceronri01', 1985, 'ATL', 'NL', 625000, None)\n",
      "('chambch01', 1985, 'ATL', 'NL', 800000, None)\n",
      "('dedmoje01', 1985, 'ATL', 'NL', 150000, None)\n",
      "('forstte01', 1985, 'ATL', 'NL', 483333, None)\n",
      "('garbege01', 1985, 'ATL', 'NL', 772000, None)\n",
      "('harpete01', 1985, 'ATL', 'NL', 250000, None)\n",
      "Number of records in sal_hof_inducted table:  26701\n"
     ]
    }
   ],
   "source": [
    "sql = '''\n",
    "SELECT salaries.playerid, salaries.yearid, teamid, lgid, salary, inducted\n",
    "FROM salaries\n",
    "FULL OUTER JOIN hof_inducted ON salaries.playerid = hof_inducted.playerid\n",
    "'''\n",
    "\n",
    "salaries_hof = engine.execute(sql)\n",
    "engine.dispose()\n",
    "salaries_hof = salaries_hof.fetchall()\n",
    "first_ten = salaries_hof[:10]\n",
    "\n",
    "for row in first_ten:\n",
    "    print(row)\n",
    "    \n",
    "sql_full_sal_hof = '''\n",
    "SELECT COUNT(*)\n",
    "FROM hof_inducted\n",
    "FULL OUTER JOIN salaries ON salaries.playerid = hof_inducted.playerid\n",
    "'''\n",
    "\n",
    "sql_full_sal_hof = engine.execute(sql_full_sal_hof)\n",
    "engine.dispose()\n",
    "sql_full_sal_hof = sql_full_sal_hof.first()\n",
    "sal_hof_count = sql_full_sal_hof['count']\n",
    "print('Number of records in sal_hof_inducted table: ', sal_hof_count)"
   ]
  },
  {
   "cell_type": "markdown",
   "metadata": {},
   "source": [
    "6. There are two tables, hof_inducted and hof_not_inducted, indicating successful and unsuccessful inductions into the Baseball Hall of Fame, respectively.\n",
    "\n",
    "A. Combine these 2 tables by all fields. Keep all records.\n",
    "Again, I believe this is correct, but I'm not sure the best way to check.\n",
    "\n",
    "B. Get a distinct list of all player IDs for players who have been put up for HOF induction.\n",
    "I had a lot of trouble with this and had to go to technical coaching. When I used the COUNT function to get the total number of records, I kept getting the count only for records in hof_inducted, and not both tables. The code that I thought would be correct is below.\n",
    "\n",
    "I understand now that I needed to use DISTINCT on hof_not_inducated because it had duplicates, whereas all the values in hof_inducted were unique. What do you do if both tables have duplicate records?\n",
    "\n",
    "SELECT COUNT(DISTINCT hof_inducted.playerid)\n",
    "FROM hof_inducted\n",
    "FULL OUTER JOIN hof_not_inducted ON hof_inducted.playerid = hof_not_inducted.playerid"
   ]
  },
  {
   "cell_type": "code",
   "execution_count": 12,
   "metadata": {},
   "outputs": [
    {
     "name": "stdout",
     "output_type": "stream",
     "text": [
      "('lajoina01', 1937, 'BBWAA', 201, 151, 168, 'Y', 'Player', None, 'lajoina01', 1936, 'BBWAA', 226, 170, 146, 'N', 'Player', None)\n",
      "('speaktr01', 1937, 'BBWAA', 201, 151, 165, 'Y', 'Player', None, 'speaktr01', 1936, 'BBWAA', 226, 170, 133, 'N', 'Player', None)\n",
      "('youngcy01', 1937, 'BBWAA', 201, 151, 153, 'Y', 'Player', None, 'youngcy01', 1936, 'BBWAA', 226, 170, 111, 'N', 'Player', None)\n",
      "('hornsro01', 1942, 'BBWAA', 233, 175, 182, 'Y', 'Player', None, 'hornsro01', 1936, 'BBWAA', 226, 170, 105, 'N', 'Player', None)\n",
      "('cochrmi01', 1947, 'BBWAA', 161, 121, 128, 'Y', 'Player', None, 'cochrmi01', 1936, 'BBWAA', 226, 170, 80, 'N', 'Player', None)\n",
      "('sislege01', 1939, 'BBWAA', 274, 206, 235, 'Y', 'Player', None, 'sislege01', 1936, 'BBWAA', 226, 170, 77, 'N', 'Player', None)\n",
      "('collied01', 1939, 'BBWAA', 274, 206, 213, 'Y', 'Player', None, 'collied01', 1936, 'BBWAA', 226, 170, 60, 'N', 'Player', None)\n",
      "('crawfsa01',)\n",
      "(None,)\n",
      "('manleef99',)\n",
      "('willivi01',)\n",
      "('hunteca01',)\n",
      "('gehrich01',)\n",
      "('dandrra99',)\n",
      "('hillpe99',)\n",
      "('walshed01',)\n",
      "('matheed01',)\n",
      "('greenha01',)\n",
      "('ricesa01',)\n",
      "('bancrda01',)\n",
      "('gosligo01',)\n",
      "('willijo99',)\n",
      "('dawsoan01',)\n",
      "('sandbry01',)\n",
      "('spahnwa01',)\n",
      "('reesepe01',)\n",
      "('durocle01',)\n",
      "1140\n"
     ]
    }
   ],
   "source": [
    "sql_all = '''\n",
    "SELECT *\n",
    "FROM hof_inducted\n",
    "FULL OUTER JOIN hof_not_inducted ON hof_inducted.playerid = hof_not_inducted.playerid\n",
    "'''\n",
    "\n",
    "hof_not_hof = engine.execute(sql_all)\n",
    "engine.dispose()\n",
    "hof_not_hof = hof_not_hof.fetchall()\n",
    "hof_not_hof = hof_not_hof[:7]\n",
    "for row in hof_not_hof:\n",
    "    print(row)\n",
    "\n",
    "\n",
    "sql_nominated = '''\n",
    "SELECT DISTINCT(hof_inducted.playerid)\n",
    "FROM hof_inducted\n",
    "FULL OUTER JOIN hof_not_inducted ON hof_inducted.playerid = hof_not_inducted.playerid\n",
    "'''\n",
    "\n",
    "nominated = engine.execute(sql_nominated)\n",
    "engine.dispose()\n",
    "nominated = nominated.fetchall()\n",
    "nominated = nominated[:20]\n",
    "for row in nominated:\n",
    "    print(row)\n",
    "    \n",
    "sql_count_nominated = '''\n",
    "SELECT COUNT(DISTINCT(hof_not_inducted.playerid))\n",
    "FROM hof_not_inducted\n",
    "FULL OUTER JOIN hof_inducted ON hof_inducted.playerid = hof_not_inducted.playerid\n",
    "'''\n",
    "\n",
    "count_nominated = engine.execute(sql_count_nominated)\n",
    "engine.dispose()\n",
    "count_nominated = count_nominated.first()\n",
    "count_nominated = count_nominated[0]\n",
    "print(count_nominated)"
   ]
  },
  {
   "cell_type": "code",
   "execution_count": 13,
   "metadata": {},
   "outputs": [
    {
     "name": "stdout",
     "output_type": "stream",
     "text": [
      "Number of distinct player records in hof_inducted table:  323\n",
      "Number of distinct player records in hof_not_inducted table:  1140\n"
     ]
    }
   ],
   "source": [
    "sql_hof_inducted_count_player = '''\n",
    "SELECT COUNT(DISTINCT playerid)\n",
    "FROM hof_inducted\n",
    "'''\n",
    "\n",
    "hof_inducted_count = engine.execute(sql_hof_inducted_count_player)\n",
    "engine.dispose()\n",
    "first_row_hof_count = hof_inducted_count.first()\n",
    "hof_count = first_row_hof_count['count']\n",
    "print('Number of distinct player records in hof_inducted table: ', hof_count)\n",
    "\n",
    "sql_hof_not_inducted_count = '''\n",
    "SELECT COUNT(DISTINCT playerid)\n",
    "FROM hof_not_inducted\n",
    "'''\n",
    "\n",
    "hof_not_inducted_count = engine.execute(sql_hof_not_inducted_count)\n",
    "engine.dispose()\n",
    "first_row_not_hof_count = hof_not_inducted_count.first()\n",
    "not_hof_count = first_row_not_hof_count['count']\n",
    "print('Number of distinct player records in hof_not_inducted table: ', not_hof_count)"
   ]
  },
  {
   "cell_type": "markdown",
   "metadata": {},
   "source": [
    "7. Write a query that returns the last name, first name (see people table), and total recorded salaries for all players found in the salaries table.\n",
    "\n",
    "I think this is right!"
   ]
  },
  {
   "cell_type": "code",
   "execution_count": 14,
   "metadata": {},
   "outputs": [
    {
     "name": "stdout",
     "output_type": "stream",
     "text": [
      "('Barker', 'Len', 870000)\n",
      "('Bedrosian', 'Steve', 550000)\n",
      "('Benedict', 'Bruce', 545000)\n",
      "('Camp', 'Rick', 633333)\n",
      "('Cerone', 'Rick', 625000)\n",
      "('Chambliss', 'Chris', 800000)\n",
      "('Dedmon', 'Jeff', 150000)\n",
      "('Forster', 'Terry', 483333)\n",
      "('Garber', 'Gene', 772000)\n",
      "('Harper', 'Terry', 250000)\n"
     ]
    }
   ],
   "source": [
    "sql = '''\n",
    "SELECT namelast, namefirst, salary\n",
    "FROM salaries\n",
    "LEFT JOIN people ON salaries.playerid = people.playerid\n",
    "'''\n",
    "\n",
    "name_salaries = engine.execute(sql)\n",
    "engine.dispose()\n",
    "name_salaries = name_salaries.fetchall()\n",
    "name_salaries = name_salaries[:10]\n",
    "for row in name_salaries:\n",
    "    print(row)"
   ]
  },
  {
   "cell_type": "markdown",
   "metadata": {},
   "source": [
    "8. Write a query that returns all records from the hof_inducted and hof_not_inducted tables that include playerid, yearid, namefirst, and namelast. Hint: Each FROM statement will include a LEFT OUTER JOIN!\n",
    "\n",
    "Why wouldn't you just use FULL OUTER JOIN?"
   ]
  },
  {
   "cell_type": "code",
   "execution_count": 15,
   "metadata": {},
   "outputs": [],
   "source": [
    "sql = '''\n",
    "SELECT hof_inducted.playerid, yearid, namefist, namelast\n",
    "FROM hof_inducted\n",
    "FULL OUTER JOIN hof_not_inducted ON hof_inducted.playerid = hof_not_inducted.playerid\n",
    "'''"
   ]
  },
  {
   "cell_type": "markdown",
   "metadata": {},
   "source": [
    "9. Return a table including all records from both hof_inducted and hof_not_inducted, and include a new field, namefull, which is formatted as namelast , namefirst (in other words, the last name, followed by a comma, then a space, then the first name). The query should also return the yearid and inducted fields. Include only records since 1980 from both tables. Sort the resulting table by yearid, then inducted so that Y comes before N. Finally, sort by the namefull field, A to Z.\n",
    "\n",
    "This was very tricky - I first forgot that simply joining two tables at a column wouldn't automatically select that column, so I kept trying to create the namefull column without using the people table which obviously didn't work. Then I had trouble with the WHERE statement - where to put it (under all the joins?) and which table to pull the column from (does it matter?). There are lots of multiples - is this because we haven't used DISTINCT? There are 17 Rick Aguileras...that doesn't seem right..."
   ]
  },
  {
   "cell_type": "code",
   "execution_count": 35,
   "metadata": {},
   "outputs": [
    {
     "name": "stdout",
     "output_type": "stream",
     "text": [
      "('Abbott, Jim', 2005, 'Y')\n",
      "('Abbott, Jim', 2005, 'Y')\n",
      "('Aguilera, Rick', 2006, 'Y')\n",
      "('Aguilera, Rick', 2006, 'Y')\n",
      "('Aguilera, Rick', 2006, 'Y')\n",
      "('Aguilera, Rick', 2006, 'Y')\n",
      "('Aguilera, Rick', 2006, 'Y')\n",
      "('Aguilera, Rick', 2006, 'Y')\n",
      "('Aguilera, Rick', 2006, 'Y')\n",
      "('Aguilera, Rick', 2006, 'Y')\n"
     ]
    }
   ],
   "source": [
    "sql = '''\n",
    "SELECT CONCAT(people.namelast, ', ', people.namefirst) AS namefull, hof_inducted.yearid, hof_inducted.inducted\n",
    "FROM hof_inducted\n",
    "\n",
    "FULL OUTER JOIN hof_not_inducted \n",
    "ON hof_inducted.yearid = hof_not_inducted.yearid\n",
    "\n",
    "JOIN people\n",
    "ON hof_not_inducted.playerid = people.playerid\n",
    "\n",
    "WHERE hof_inducted.yearid > 1980\n",
    "ORDER BY namefull\n",
    "'''\n",
    "\n",
    "namefull = engine.execute(sql)\n",
    "engine.dispose()\n",
    "namefull = namefull.fetchall()\n",
    "namefull = namefull[:10]\n",
    "for row in namefull:\n",
    "    print(row)"
   ]
  },
  {
   "cell_type": "markdown",
   "metadata": {},
   "source": [
    "10. Write a query that returns the highest annual salary for each teamid, ranked from high to low, along with the corresponding playerid. Bonus! Return namelast and namefirst in the resulting table. (You can find these in the people table.)"
   ]
  },
  {
   "cell_type": "code",
   "execution_count": 151,
   "metadata": {},
   "outputs": [
    {
     "name": "stdout",
     "output_type": "stream",
     "text": [
      "Yunus' query:\n",
      "('Swisher,Nick', 'swishni01', 'CLE', 15000000)\n",
      "('Lowe,Derek', 'lowede01', 'CLE', 15000000)\n",
      "('Sheffield,Gary', 'sheffga01', 'FLO', 14936667)\n",
      "('Price,David', 'priceda01', 'TBA', 14000000)\n",
      "('Holliday,Matt', 'hollima01', 'OAK', 13500000)\n",
      "('Shields,James', 'shielja02', 'KCA', 13500000)\n",
      "('Vaughn,Mo', 'vaughmo01', 'ANA', 13166667)\n",
      "('Guerrero,Vladimir', 'guerrvl01', 'MON', 11500000)\n",
      "('Vaughn,Greg', 'vaughgr01', 'ML4', 5875000)\n",
      "('Finley,Chuck', 'finlech01', 'CAL', 5375000)\n",
      "Max Salary:  33000000\n"
     ]
    }
   ],
   "source": [
    "# print('My \\' query:')\n",
    "# '''SELECT CONCAT(namelast, ',',  namefirst) AS namefull, MAX(salary) AS max_salary, teamid, people.playerid\n",
    "# FROM people\n",
    "\n",
    "# FULL OUTER JOIN salaries\n",
    "# ON salaries.playerid = people.playerid\n",
    "\n",
    "# GROUP BY teamid, namefull, teamid, people.playerid\n",
    "\n",
    "# ORDER BY max_salary DESC\n",
    "# '''\n",
    "\n",
    "# max_sal_each_team = engine.execute(max_sal_each_team_sql)\n",
    "# engine.dispose()\n",
    "# max_sal_each_team = max_sal_each_team.fetchall()\n",
    "# max_sal_each_team = max_sal_each_team[-10:]\n",
    "# for row in max_sal_each_team:\n",
    "#     print(row)\n",
    "\n",
    "print('Yunus\\' query:')\n",
    "max_sal_each_team_sql = '''\n",
    "SELECT CONCAT(p.namelast, ',', p.namefirst) AS namefull, p.playerid, s.teamid, new_table.max_salary\n",
    "FROM people AS p\n",
    "INNER JOIN salaries AS s ON p.playerid = s.playerid\n",
    "INNER JOIN (SELECT MAX(salary) AS max_salary, teamid FROM people\n",
    "FULL OUTER JOIN salaries\n",
    "ON salaries.playerid = people.playerid\n",
    "GROUP BY teamid) AS new_table ON s.teamid = new_table.teamid AND s.salary = new_table.max_salary\n",
    "ORDER BY new_table.max_salary DESC\n",
    "'''\n",
    "\n",
    "max_sal_each_team = engine.execute(max_sal_each_team_sql)\n",
    "engine.dispose()\n",
    "max_sal_each_team = max_sal_each_team.fetchall()\n",
    "max_sal_each_team = max_sal_each_team[-10:]\n",
    "for row in max_sal_each_team:\n",
    "    print(row)\n",
    "\n",
    "max_sal_sql = '''\n",
    "SELECT MAX(new_table.max_salary)\n",
    "FROM (SELECT CONCAT(namelast, ',', namefirst) AS namefull, MAX(salary) AS max_salary, teamid, people.playerid\n",
    "FROM people\n",
    "FULL OUTER JOIN salaries\n",
    "ON salaries.playerid = people.playerid\n",
    "GROUP BY teamid, namefull, teamid, people.playerid\n",
    "ORDER BY max_salary DESC) AS new_table\n",
    "'''\n",
    "\n",
    "max_sal = engine.execute(max_sal_sql)\n",
    "engine.dispose()\n",
    "max_sal = max_sal.first()\n",
    "max_sal = max_sal['max']\n",
    "print('Max Salary: ', max_sal)\n",
    "\n",
    "# max_sal = max_sal[-10:]\n",
    "# for row in max_sal:\n",
    "#     print(row)\n",
    "    \n",
    "    \n",
    "# count = '''\n",
    "# SELECT COUNT(teamid), MAX(salary)\n",
    "# FROM salaries\n",
    "\n",
    "# FULL OUTER JOIN people\n",
    "# ON salaries.playerid = people.playerid\n",
    "# '''\n",
    "\n",
    "# count = engine.execute(count)\n",
    "# engine.dispose()\n",
    "# #count = count.fetchall(\n",
    "# count = count.first()\n",
    "# count = count['count']\n",
    "# print(count)\n",
    "    \n",
    "# max_sal_sql = '''\n",
    "# SELECT teamid, MAX(salary)\n",
    "# FROM salaries\n",
    "# GROUP BY teamid\n",
    "\n",
    "# ORDER BY MAX(salary) DESC\n",
    "# '''\n",
    "\n",
    "# max_sal_only = engine.execute(max_sal_sql)\n",
    "# engine.dispose()\n",
    "# max_sal_only = max_sal_only.fetchall()\n",
    "# max_sal_only = max_sal_only[:10]\n",
    "# for row in max_sal_only:\n",
    "#     print(row)"
   ]
  },
  {
   "cell_type": "markdown",
   "metadata": {},
   "source": [
    "11. Select birthyear, deathyear, namefirst, and namelast of all the players born since the birth year of Babe Ruth (playerid = ruthba01). Sort the results by birth year from low to high.\n",
    "\n",
    "I need to get better at subqueries and understanding which information to use to obtain what I need."
   ]
  },
  {
   "cell_type": "code",
   "execution_count": 63,
   "metadata": {},
   "outputs": [
    {
     "name": "stdout",
     "output_type": "stream",
     "text": [
      "(1896, 1978, 'Mike', 'Wilson')\n",
      "(1896, 1983, 'Chick', 'Sorrells')\n",
      "(1896, 1963, 'Merito', 'Acosta')\n",
      "(1896, 1962, 'Mutt', 'Wilson')\n",
      "(1896, 1950, 'Dick', 'McCabe')\n",
      "(1896, 1969, 'Roy', 'Wilson')\n",
      "(1896, 1969, 'Ray', 'Schmandt')\n",
      "(1896, 1972, 'Rip', 'Conway')\n",
      "(1896, 1968, 'Bill', 'Sherdel')\n",
      "(1896, 1971, 'Sam', 'Post')\n"
     ]
    }
   ],
   "source": [
    "sql = '''\n",
    "SELECT birthyear, deathyear, namefirst, namelast\n",
    "FROM people\n",
    "WHERE birthyear > \n",
    "\n",
    "(SELECT birthyear\n",
    "FROM people\n",
    "WHERE playerid = 'ruthba01')\n",
    "\n",
    "ORDER BY birthyear\n",
    "'''\n",
    "\n",
    "birthyears = engine.execute(sql)\n",
    "engine.dispose()\n",
    "birthyears = birthyears.fetchall()\n",
    "birthyears = birthyears[:10]\n",
    "for row in birthyears:\n",
    "    print(row)"
   ]
  },
  {
   "cell_type": "markdown",
   "metadata": {},
   "source": [
    "12. Using the people table, write a query that returns namefirst, namelast, and a field called usaborn where. The usaborn field should show the following: if the player's birthcountry is the USA, then the record is 'USA.' Otherwise, it's 'non-USA.' Order the results by 'non-USA' records first."
   ]
  },
  {
   "cell_type": "code",
   "execution_count": 77,
   "metadata": {},
   "outputs": [],
   "source": [
    "sql = '''\n",
    "SELECT namefirst, namelast,\n",
    "CASE\n",
    "    WHEN birthcountry = 'USA' THEN 'USA'\n",
    "    ELSE 'non-USA'\n",
    "    END AS usaborn\n",
    "FROM people\n",
    "ORDER BY CASE\n",
    "    WHEN birthcountry = 'USA' THEN 'USA'\n",
    "    ELSE 'non-USA'\n",
    "    END\n",
    "'''\n",
    "\n",
    "usaborn = engine.execute(sql)\n",
    "engine.dispose()\n",
    "usaborn = usaborn.fetchall()\n",
    "# for row in usaborn:\n",
    "#     print(row)\n"
   ]
  },
  {
   "cell_type": "markdown",
   "metadata": {},
   "source": [
    "13. Calculate the average height for players throwing with their right hand versus their left hand. Name these fields right_height and left_height, respectively.\n",
    "\n",
    "If the values are in inches, this looks like it could be right..."
   ]
  },
  {
   "cell_type": "code",
   "execution_count": 88,
   "metadata": {},
   "outputs": [
    {
     "name": "stdout",
     "output_type": "stream",
     "text": [
      "(Decimal('72.3172024506092104'), Decimal('72.5530219780219780'))\n"
     ]
    }
   ],
   "source": [
    "sql = '''\n",
    "SELECT\n",
    "AVG(CASE WHEN throws = 'R' THEN height END) AS right_height, \n",
    "AVG(CASE WHEN throws = 'L' THEN height END) AS left_height\n",
    "FROM people\n",
    "'''\n",
    "\n",
    "handed = engine.execute(sql)\n",
    "engine.dispose()\n",
    "handed = handed.fetchall()\n",
    "for row in handed:\n",
    "    print(row)"
   ]
  },
  {
   "cell_type": "markdown",
   "metadata": {},
   "source": [
    "14. Get the average of each team's maximum player salary since 2010. Hint: WHERE will go inside your CTE.\n",
    "\n",
    "Along with the questions using cases and subqueries, I had to use my notes - I could not create these queries from memory."
   ]
  },
  {
   "cell_type": "code",
   "execution_count": 98,
   "metadata": {},
   "outputs": [
    {
     "name": "stdout",
     "output_type": "stream",
     "text": [
      "(Decimal('20483789.542857142857'),)\n"
     ]
    }
   ],
   "source": [
    "sql = '''\n",
    "WITH avg_max_sal AS\n",
    "(SELECT teamid, MAX(salary) AS max_salary\n",
    "FROM salaries\n",
    "GROUP BY teamid\n",
    ")\n",
    "\n",
    "SELECT AVG(max_salary)\n",
    "FROM avg_max_sal\n",
    "'''\n",
    "\n",
    "avg_max_sal = engine.execute(sql)\n",
    "engine.dispose()\n",
    "avg_max_sal = avg_max_sal.fetchall()\n",
    "for row in avg_max_sal:\n",
    "    print(row)"
   ]
  }
 ],
 "metadata": {
  "kernelspec": {
   "display_name": "Python 3",
   "language": "python",
   "name": "python3"
  },
  "language_info": {
   "codemirror_mode": {
    "name": "ipython",
    "version": 3
   },
   "file_extension": ".py",
   "mimetype": "text/x-python",
   "name": "python",
   "nbconvert_exporter": "python",
   "pygments_lexer": "ipython3",
   "version": "3.7.3"
  }
 },
 "nbformat": 4,
 "nbformat_minor": 2
}
