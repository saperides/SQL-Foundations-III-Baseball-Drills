{
 "cells": [
  {
   "cell_type": "markdown",
   "metadata": {},
   "source": [
    "# Assignment\n",
    "\n",
    "1. Identify cases during which blood pressure dropped below the norm for the age (see below) for 14 continuous minutes or longer. Assume, that the PERSON_ID is the identifier for the patient, and SERVICE_DATE is the date of the surgery that they had. Surgeries don’t span over 1 day. The Age is given for that patient, for the surgery date.  The Blood pressure is only taken during the surgery duration. "
   ]
  },
  {
   "cell_type": "code",
   "execution_count": 99,
   "metadata": {},
   "outputs": [
    {
     "data": {
      "text/html": [
       "<style>.container { width:100% !important; }</style>"
      ],
      "text/plain": [
       "<IPython.core.display.HTML object>"
      ]
     },
     "metadata": {},
     "output_type": "display_data"
    },
    {
     "data": {
      "text/html": [
       "<div>\n",
       "<style scoped>\n",
       "    .dataframe tbody tr th:only-of-type {\n",
       "        vertical-align: middle;\n",
       "    }\n",
       "\n",
       "    .dataframe tbody tr th {\n",
       "        vertical-align: top;\n",
       "    }\n",
       "\n",
       "    .dataframe thead th {\n",
       "        text-align: right;\n",
       "    }\n",
       "</style>\n",
       "<table border=\"1\" class=\"dataframe\">\n",
       "  <thead>\n",
       "    <tr style=\"text-align: right;\">\n",
       "      <th></th>\n",
       "      <th>PERSON_ID</th>\n",
       "      <th>TIME</th>\n",
       "      <th>SYSTOLIC_BLOOD_PRESSURE</th>\n",
       "    </tr>\n",
       "  </thead>\n",
       "  <tbody>\n",
       "    <tr>\n",
       "      <td>0</td>\n",
       "      <td>123</td>\n",
       "      <td>1/5/2016 7:16</td>\n",
       "      <td>33</td>\n",
       "    </tr>\n",
       "    <tr>\n",
       "      <td>1</td>\n",
       "      <td>123</td>\n",
       "      <td>1/5/2016 7:17</td>\n",
       "      <td>75</td>\n",
       "    </tr>\n",
       "    <tr>\n",
       "      <td>2</td>\n",
       "      <td>123</td>\n",
       "      <td>1/5/2016 7:18</td>\n",
       "      <td>58</td>\n",
       "    </tr>\n",
       "    <tr>\n",
       "      <td>3</td>\n",
       "      <td>123</td>\n",
       "      <td>1/5/2016 7:19</td>\n",
       "      <td>93</td>\n",
       "    </tr>\n",
       "    <tr>\n",
       "      <td>4</td>\n",
       "      <td>123</td>\n",
       "      <td>1/5/2016 7:20</td>\n",
       "      <td>35</td>\n",
       "    </tr>\n",
       "  </tbody>\n",
       "</table>\n",
       "</div>"
      ],
      "text/plain": [
       "   PERSON_ID           TIME SYSTOLIC_BLOOD_PRESSURE\n",
       "0        123  1/5/2016 7:16                      33\n",
       "1        123  1/5/2016 7:17                      75\n",
       "2        123  1/5/2016 7:18                      58\n",
       "3        123  1/5/2016 7:19                      93\n",
       "4        123  1/5/2016 7:20                      35"
      ]
     },
     "execution_count": 99,
     "metadata": {},
     "output_type": "execute_result"
    }
   ],
   "source": [
    "import os\n",
    "os.chdir('C:\\\\Users\\\\M246047\\\\Documents\\\\Python')\n",
    "import pandas as pd\n",
    "import numpy as np\n",
    "from IPython.core.display import display, HTML\n",
    "display(HTML(\"<style>.container { width:100% !important; }</style>\"))\n",
    "\n",
    "bp = pd.read_csv('BloodPressure.csv')\n",
    "bp = pd.DataFrame(bp)\n",
    "\n",
    "dems = pd.read_csv('Demographics.csv')\n",
    "dems = pd.DataFrame(dems)\n",
    "\n",
    "bp.head()"
   ]
  },
  {
   "cell_type": "markdown",
   "metadata": {},
   "source": [
    "## Scanning the dataframes for impurities and null values"
   ]
  },
  {
   "cell_type": "code",
   "execution_count": 100,
   "metadata": {},
   "outputs": [
    {
     "data": {
      "text/plain": [
       "88       37\n",
       "33       36\n",
       "73       35\n",
       "44       35\n",
       "100      34\n",
       "         ..\n",
       "79        9\n",
       "76        9\n",
       "ERROR     4\n",
       "28        2\n",
       "26        1\n",
       "Name: SYSTOLIC_BLOOD_PRESSURE, Length: 75, dtype: int64"
      ]
     },
     "execution_count": 100,
     "metadata": {},
     "output_type": "execute_result"
    }
   ],
   "source": [
    "# bp['SYSTOLIC_BLOOD_PRESSURE'] = bp['SYSTOLIC_BLOOD_PRESSURE'].astype(float)\n",
    "bp.describe()\n",
    "bp.SYSTOLIC_BLOOD_PRESSURE.value_counts()"
   ]
  },
  {
   "cell_type": "code",
   "execution_count": 101,
   "metadata": {},
   "outputs": [
    {
     "name": "stdout",
     "output_type": "stream",
     "text": [
      "<class 'pandas.core.frame.DataFrame'>\n",
      "RangeIndex: 1581 entries, 0 to 1580\n",
      "Data columns (total 3 columns):\n",
      "PERSON_ID                  1581 non-null int64\n",
      "TIME                       1581 non-null object\n",
      "SYSTOLIC_BLOOD_PRESSURE    1580 non-null object\n",
      "dtypes: int64(1), object(2)\n",
      "memory usage: 37.2+ KB\n"
     ]
    }
   ],
   "source": [
    "bp.info()"
   ]
  },
  {
   "cell_type": "code",
   "execution_count": 102,
   "metadata": {},
   "outputs": [
    {
     "data": {
      "text/plain": [
       "456    480\n",
       "234    360\n",
       "345    240\n",
       "123    240\n",
       "789    120\n",
       "987     59\n",
       "567     46\n",
       "111     36\n",
       "Name: PERSON_ID, dtype: int64"
      ]
     },
     "execution_count": 102,
     "metadata": {},
     "output_type": "execute_result"
    }
   ],
   "source": [
    "bp.PERSON_ID.value_counts()"
   ]
  },
  {
   "cell_type": "code",
   "execution_count": 103,
   "metadata": {
    "scrolled": true
   },
   "outputs": [
    {
     "name": "stdout",
     "output_type": "stream",
     "text": [
      "<class 'pandas.core.frame.DataFrame'>\n",
      "RangeIndex: 17 entries, 0 to 16\n",
      "Data columns (total 3 columns):\n",
      "PERSON_ID       17 non-null int64\n",
      "SERVICE_DATE    17 non-null object\n",
      "AGE_MONTHS      17 non-null int64\n",
      "dtypes: int64(2), object(1)\n",
      "memory usage: 536.0+ bytes\n"
     ]
    }
   ],
   "source": [
    "dems.info()"
   ]
  },
  {
   "cell_type": "code",
   "execution_count": 104,
   "metadata": {},
   "outputs": [
    {
     "data": {
      "text/plain": [
       "456    4\n",
       "234    3\n",
       "987    2\n",
       "123    2\n",
       "345    2\n",
       "567    2\n",
       "789    1\n",
       "111    1\n",
       "Name: PERSON_ID, dtype: int64"
      ]
     },
     "execution_count": 104,
     "metadata": {},
     "output_type": "execute_result"
    }
   ],
   "source": [
    "dems.PERSON_ID.value_counts()"
   ]
  },
  {
   "cell_type": "code",
   "execution_count": 105,
   "metadata": {},
   "outputs": [
    {
     "data": {
      "text/html": [
       "<div>\n",
       "<style scoped>\n",
       "    .dataframe tbody tr th:only-of-type {\n",
       "        vertical-align: middle;\n",
       "    }\n",
       "\n",
       "    .dataframe tbody tr th {\n",
       "        vertical-align: top;\n",
       "    }\n",
       "\n",
       "    .dataframe thead th {\n",
       "        text-align: right;\n",
       "    }\n",
       "</style>\n",
       "<table border=\"1\" class=\"dataframe\">\n",
       "  <thead>\n",
       "    <tr style=\"text-align: right;\">\n",
       "      <th></th>\n",
       "      <th>PERSON_ID</th>\n",
       "      <th>TIME</th>\n",
       "      <th>SYSTOLIC_BLOOD_PRESSURE</th>\n",
       "    </tr>\n",
       "  </thead>\n",
       "  <tbody>\n",
       "    <tr>\n",
       "      <td>1514</td>\n",
       "      <td>987</td>\n",
       "      <td>10/17/2016 18:40</td>\n",
       "      <td>NaN</td>\n",
       "    </tr>\n",
       "  </tbody>\n",
       "</table>\n",
       "</div>"
      ],
      "text/plain": [
       "      PERSON_ID              TIME SYSTOLIC_BLOOD_PRESSURE\n",
       "1514        987  10/17/2016 18:40                     NaN"
      ]
     },
     "execution_count": 105,
     "metadata": {},
     "output_type": "execute_result"
    }
   ],
   "source": [
    "bp.loc[bp['SYSTOLIC_BLOOD_PRESSURE'].isna()]"
   ]
  },
  {
   "cell_type": "markdown",
   "metadata": {},
   "source": [
    "## Handling Impure Data\n",
    "\n",
    "Because there are  one record with a null value and four with ERRORs in the blood pressure variable, I will drop those records. \n",
    "\n",
    "I'm going to parse the TIME column in the BloodPressure dataset into two columns: one for SERVICE_DATE to merge with the Demographics file, and the other for TIME."
   ]
  },
  {
   "cell_type": "code",
   "execution_count": 106,
   "metadata": {},
   "outputs": [
    {
     "data": {
      "text/html": [
       "<div>\n",
       "<style scoped>\n",
       "    .dataframe tbody tr th:only-of-type {\n",
       "        vertical-align: middle;\n",
       "    }\n",
       "\n",
       "    .dataframe tbody tr th {\n",
       "        vertical-align: top;\n",
       "    }\n",
       "\n",
       "    .dataframe thead th {\n",
       "        text-align: right;\n",
       "    }\n",
       "</style>\n",
       "<table border=\"1\" class=\"dataframe\">\n",
       "  <thead>\n",
       "    <tr style=\"text-align: right;\">\n",
       "      <th></th>\n",
       "      <th>PERSON_ID</th>\n",
       "      <th>TIME</th>\n",
       "      <th>SYSTOLIC_BLOOD_PRESSURE</th>\n",
       "    </tr>\n",
       "  </thead>\n",
       "  <tbody>\n",
       "    <tr>\n",
       "      <td>357</td>\n",
       "      <td>234</td>\n",
       "      <td>9/8/2015 9:53</td>\n",
       "      <td>99</td>\n",
       "    </tr>\n",
       "    <tr>\n",
       "      <td>350</td>\n",
       "      <td>234</td>\n",
       "      <td>9/8/2015 9:46</td>\n",
       "      <td>99</td>\n",
       "    </tr>\n",
       "    <tr>\n",
       "      <td>311</td>\n",
       "      <td>234</td>\n",
       "      <td>9/8/2015 9:07</td>\n",
       "      <td>99</td>\n",
       "    </tr>\n",
       "    <tr>\n",
       "      <td>1187</td>\n",
       "      <td>456</td>\n",
       "      <td>8/15/2015 10:03</td>\n",
       "      <td>99</td>\n",
       "    </tr>\n",
       "    <tr>\n",
       "      <td>1001</td>\n",
       "      <td>456</td>\n",
       "      <td>6/8/2015 10:05</td>\n",
       "      <td>99</td>\n",
       "    </tr>\n",
       "  </tbody>\n",
       "</table>\n",
       "</div>"
      ],
      "text/plain": [
       "      PERSON_ID             TIME SYSTOLIC_BLOOD_PRESSURE\n",
       "357         234    9/8/2015 9:53                      99\n",
       "350         234    9/8/2015 9:46                      99\n",
       "311         234    9/8/2015 9:07                      99\n",
       "1187        456  8/15/2015 10:03                      99\n",
       "1001        456   6/8/2015 10:05                      99"
      ]
     },
     "execution_count": 106,
     "metadata": {},
     "output_type": "execute_result"
    }
   ],
   "source": [
    "bd = bp.drop(bp[bp.SYSTOLIC_BLOOD_PRESSURE == 'ERROR'].index, inplace=True)\n",
    "bp.sort_values('SYSTOLIC_BLOOD_PRESSURE', ascending=False).head()"
   ]
  },
  {
   "cell_type": "code",
   "execution_count": 107,
   "metadata": {},
   "outputs": [
    {
     "data": {
      "text/html": [
       "<div>\n",
       "<style scoped>\n",
       "    .dataframe tbody tr th:only-of-type {\n",
       "        vertical-align: middle;\n",
       "    }\n",
       "\n",
       "    .dataframe tbody tr th {\n",
       "        vertical-align: top;\n",
       "    }\n",
       "\n",
       "    .dataframe thead th {\n",
       "        text-align: right;\n",
       "    }\n",
       "</style>\n",
       "<table border=\"1\" class=\"dataframe\">\n",
       "  <thead>\n",
       "    <tr style=\"text-align: right;\">\n",
       "      <th></th>\n",
       "      <th>PERSON_ID</th>\n",
       "      <th>TIME</th>\n",
       "      <th>SYSTOLIC_BLOOD_PRESSURE</th>\n",
       "      <th>SERVICE_DATE</th>\n",
       "    </tr>\n",
       "  </thead>\n",
       "  <tbody>\n",
       "    <tr>\n",
       "      <td>357</td>\n",
       "      <td>234</td>\n",
       "      <td>9:53</td>\n",
       "      <td>99</td>\n",
       "      <td>9/8/2015</td>\n",
       "    </tr>\n",
       "    <tr>\n",
       "      <td>350</td>\n",
       "      <td>234</td>\n",
       "      <td>9:46</td>\n",
       "      <td>99</td>\n",
       "      <td>9/8/2015</td>\n",
       "    </tr>\n",
       "    <tr>\n",
       "      <td>311</td>\n",
       "      <td>234</td>\n",
       "      <td>9:07</td>\n",
       "      <td>99</td>\n",
       "      <td>9/8/2015</td>\n",
       "    </tr>\n",
       "    <tr>\n",
       "      <td>1187</td>\n",
       "      <td>456</td>\n",
       "      <td>10:03</td>\n",
       "      <td>99</td>\n",
       "      <td>8/15/2015</td>\n",
       "    </tr>\n",
       "    <tr>\n",
       "      <td>1001</td>\n",
       "      <td>456</td>\n",
       "      <td>10:05</td>\n",
       "      <td>99</td>\n",
       "      <td>6/8/2015</td>\n",
       "    </tr>\n",
       "  </tbody>\n",
       "</table>\n",
       "</div>"
      ],
      "text/plain": [
       "      PERSON_ID   TIME SYSTOLIC_BLOOD_PRESSURE SERVICE_DATE\n",
       "357         234   9:53                      99     9/8/2015\n",
       "350         234   9:46                      99     9/8/2015\n",
       "311         234   9:07                      99     9/8/2015\n",
       "1187        456  10:03                      99    8/15/2015\n",
       "1001        456  10:05                      99     6/8/2015"
      ]
     },
     "execution_count": 107,
     "metadata": {},
     "output_type": "execute_result"
    }
   ],
   "source": [
    "bp = bp.dropna()\n",
    "bd = bp.drop(bp[bp.SYSTOLIC_BLOOD_PRESSURE == 'ERROR'].index, inplace=True)\n",
    "bp['SERVICE_DATE'] = bp['TIME'].apply(lambda x: x.split(' ')[0])\n",
    "bp['TIME'] = bp['TIME'].apply(lambda x: x.split(' ')[1])\n",
    "bp.sort_values('SYSTOLIC_BLOOD_PRESSURE', ascending=False).head()"
   ]
  },
  {
   "cell_type": "markdown",
   "metadata": {},
   "source": [
    "## Merging the Dataframes\n",
    "\n",
    "I'll join the dataframes on the PERSON_ID column and then on the SERVICE_DATE column."
   ]
  },
  {
   "cell_type": "code",
   "execution_count": 108,
   "metadata": {},
   "outputs": [
    {
     "data": {
      "text/html": [
       "<div>\n",
       "<style scoped>\n",
       "    .dataframe tbody tr th:only-of-type {\n",
       "        vertical-align: middle;\n",
       "    }\n",
       "\n",
       "    .dataframe tbody tr th {\n",
       "        vertical-align: top;\n",
       "    }\n",
       "\n",
       "    .dataframe thead th {\n",
       "        text-align: right;\n",
       "    }\n",
       "</style>\n",
       "<table border=\"1\" class=\"dataframe\">\n",
       "  <thead>\n",
       "    <tr style=\"text-align: right;\">\n",
       "      <th></th>\n",
       "      <th>PERSON_ID</th>\n",
       "      <th>TIME</th>\n",
       "      <th>SYSTOLIC_BLOOD_PRESSURE</th>\n",
       "      <th>SERVICE_DATE</th>\n",
       "      <th>AGE_MONTHS</th>\n",
       "    </tr>\n",
       "  </thead>\n",
       "  <tbody>\n",
       "    <tr>\n",
       "      <td>0</td>\n",
       "      <td>123</td>\n",
       "      <td>7:16</td>\n",
       "      <td>33</td>\n",
       "      <td>1/5/2016</td>\n",
       "      <td>46.0</td>\n",
       "    </tr>\n",
       "    <tr>\n",
       "      <td>1</td>\n",
       "      <td>123</td>\n",
       "      <td>7:17</td>\n",
       "      <td>75</td>\n",
       "      <td>1/5/2016</td>\n",
       "      <td>46.0</td>\n",
       "    </tr>\n",
       "    <tr>\n",
       "      <td>2</td>\n",
       "      <td>123</td>\n",
       "      <td>7:18</td>\n",
       "      <td>58</td>\n",
       "      <td>1/5/2016</td>\n",
       "      <td>46.0</td>\n",
       "    </tr>\n",
       "    <tr>\n",
       "      <td>3</td>\n",
       "      <td>123</td>\n",
       "      <td>7:19</td>\n",
       "      <td>93</td>\n",
       "      <td>1/5/2016</td>\n",
       "      <td>46.0</td>\n",
       "    </tr>\n",
       "    <tr>\n",
       "      <td>4</td>\n",
       "      <td>123</td>\n",
       "      <td>7:20</td>\n",
       "      <td>35</td>\n",
       "      <td>1/5/2016</td>\n",
       "      <td>46.0</td>\n",
       "    </tr>\n",
       "  </tbody>\n",
       "</table>\n",
       "</div>"
      ],
      "text/plain": [
       "   PERSON_ID  TIME SYSTOLIC_BLOOD_PRESSURE SERVICE_DATE  AGE_MONTHS\n",
       "0        123  7:16                      33     1/5/2016        46.0\n",
       "1        123  7:17                      75     1/5/2016        46.0\n",
       "2        123  7:18                      58     1/5/2016        46.0\n",
       "3        123  7:19                      93     1/5/2016        46.0\n",
       "4        123  7:20                      35     1/5/2016        46.0"
      ]
     },
     "execution_count": 108,
     "metadata": {},
     "output_type": "execute_result"
    }
   ],
   "source": [
    "df = pd.merge(bp, dems, on=['PERSON_ID', 'SERVICE_DATE'], how='left')\n",
    "df.head()"
   ]
  },
  {
   "cell_type": "code",
   "execution_count": 109,
   "metadata": {},
   "outputs": [
    {
     "name": "stdout",
     "output_type": "stream",
     "text": [
      "BloodPressure length:  1576\n",
      "Merged DF length:  1576\n"
     ]
    }
   ],
   "source": [
    "print('BloodPressure length: ', len(bp))\n",
    "print('Merged DF length: ', len(df))"
   ]
  },
  {
   "cell_type": "code",
   "execution_count": 110,
   "metadata": {
    "scrolled": false
   },
   "outputs": [
    {
     "name": "stdout",
     "output_type": "stream",
     "text": [
      "<class 'pandas.core.frame.DataFrame'>\n",
      "Int64Index: 1576 entries, 0 to 1575\n",
      "Data columns (total 5 columns):\n",
      "PERSON_ID                  1576 non-null int64\n",
      "TIME                       1576 non-null object\n",
      "SYSTOLIC_BLOOD_PRESSURE    1576 non-null object\n",
      "SERVICE_DATE               1576 non-null object\n",
      "AGE_MONTHS                 1540 non-null float64\n",
      "dtypes: float64(1), int64(1), object(3)\n",
      "memory usage: 73.9+ KB\n"
     ]
    },
    {
     "data": {
      "text/html": [
       "<div>\n",
       "<style scoped>\n",
       "    .dataframe tbody tr th:only-of-type {\n",
       "        vertical-align: middle;\n",
       "    }\n",
       "\n",
       "    .dataframe tbody tr th {\n",
       "        vertical-align: top;\n",
       "    }\n",
       "\n",
       "    .dataframe thead th {\n",
       "        text-align: right;\n",
       "    }\n",
       "</style>\n",
       "<table border=\"1\" class=\"dataframe\">\n",
       "  <thead>\n",
       "    <tr style=\"text-align: right;\">\n",
       "      <th></th>\n",
       "      <th>PERSON_ID</th>\n",
       "      <th>AGE_MONTHS</th>\n",
       "    </tr>\n",
       "  </thead>\n",
       "  <tbody>\n",
       "    <tr>\n",
       "      <td>count</td>\n",
       "      <td>1576.000000</td>\n",
       "      <td>1540.000000</td>\n",
       "    </tr>\n",
       "    <tr>\n",
       "      <td>mean</td>\n",
       "      <td>376.583756</td>\n",
       "      <td>44.015584</td>\n",
       "    </tr>\n",
       "    <tr>\n",
       "      <td>std</td>\n",
       "      <td>211.955585</td>\n",
       "      <td>2.934816</td>\n",
       "    </tr>\n",
       "    <tr>\n",
       "      <td>min</td>\n",
       "      <td>111.000000</td>\n",
       "      <td>39.000000</td>\n",
       "    </tr>\n",
       "    <tr>\n",
       "      <td>25%</td>\n",
       "      <td>234.000000</td>\n",
       "      <td>42.000000</td>\n",
       "    </tr>\n",
       "    <tr>\n",
       "      <td>50%</td>\n",
       "      <td>345.000000</td>\n",
       "      <td>44.000000</td>\n",
       "    </tr>\n",
       "    <tr>\n",
       "      <td>75%</td>\n",
       "      <td>456.000000</td>\n",
       "      <td>47.000000</td>\n",
       "    </tr>\n",
       "    <tr>\n",
       "      <td>max</td>\n",
       "      <td>987.000000</td>\n",
       "      <td>50.000000</td>\n",
       "    </tr>\n",
       "  </tbody>\n",
       "</table>\n",
       "</div>"
      ],
      "text/plain": [
       "         PERSON_ID   AGE_MONTHS\n",
       "count  1576.000000  1540.000000\n",
       "mean    376.583756    44.015584\n",
       "std     211.955585     2.934816\n",
       "min     111.000000    39.000000\n",
       "25%     234.000000    42.000000\n",
       "50%     345.000000    44.000000\n",
       "75%     456.000000    47.000000\n",
       "max     987.000000    50.000000"
      ]
     },
     "execution_count": 110,
     "metadata": {},
     "output_type": "execute_result"
    }
   ],
   "source": [
    "df.info()\n",
    "df.describe()"
   ]
  },
  {
   "cell_type": "code",
   "execution_count": 111,
   "metadata": {},
   "outputs": [],
   "source": [
    "df.AGE_MONTHS.fillna(46.0, inplace=True)"
   ]
  },
  {
   "cell_type": "code",
   "execution_count": 112,
   "metadata": {},
   "outputs": [
    {
     "data": {
      "text/plain": [
       "88     37\n",
       "33     36\n",
       "44     35\n",
       "73     35\n",
       "100    34\n",
       "       ..\n",
       "82     13\n",
       "79      9\n",
       "76      9\n",
       "28      2\n",
       "26      1\n",
       "Name: SYSTOLIC_BLOOD_PRESSURE, Length: 74, dtype: int64"
      ]
     },
     "execution_count": 112,
     "metadata": {},
     "output_type": "execute_result"
    }
   ],
   "source": [
    "bp.SYSTOLIC_BLOOD_PRESSURE.value_counts()"
   ]
  },
  {
   "cell_type": "code",
   "execution_count": 113,
   "metadata": {
    "scrolled": true
   },
   "outputs": [],
   "source": [
    "# converting blood pressure to float from object\n",
    "df['SYSTOLIC_BLOOD_PRESSURE'] = df['SYSTOLIC_BLOOD_PRESSURE'].astype(float)"
   ]
  },
  {
   "cell_type": "markdown",
   "metadata": {},
   "source": [
    "## Identifying the Cases \n",
    "\n",
    "I've created a function that takes a dataframe as input and takes the age of a patient and uses this to compare whether the blood pressure was above or below a predetermined normal on a given surgery date. "
   ]
  },
  {
   "cell_type": "code",
   "execution_count": 114,
   "metadata": {},
   "outputs": [],
   "source": [
    "\n",
    "def extended_blood_pressure(df):\n",
    "    # separating the patients by ID\n",
    "    patients = df.PERSON_ID.unique()\n",
    "    for patient in patients:\n",
    "        patient_df = df[df['PERSON_ID'] == patient].reset_index() # dataframe for each individual patient\n",
    "        dates = patient_df.SERVICE_DATE.unique() # list of surgery dates for each patient\n",
    "        \n",
    "        # separating the surgery dates\n",
    "        for date in dates: \n",
    "            surgeries = patient_df[patient_df['SERVICE_DATE'] == date].reset_index() # dataframe for each surgery for each individual patient\n",
    "            age = surgeries.iloc[0]['AGE_MONTHS']\n",
    "            \n",
    "            # comparing the blood pressure\n",
    "            continuous_min_below_norm = 0\n",
    "            for i, row in surgeries.iterrows():\n",
    "                blood_pressure = surgeries.iloc[i]['SYSTOLIC_BLOOD_PRESSURE']\n",
    "                \n",
    "                # checking children under 44 months\n",
    "                if age < 44.0:\n",
    "                    if blood_pressure <= 46.0:\n",
    "                \n",
    "                        continuous_min_below_norm += 1\n",
    "                    elif blood_pressure >  46.0 and continuous_min_below_norm >= 14:\n",
    "                        print('Patient {} dropped below the norm for {} minutes on {}.'.format(surgeries.iloc[i]['PERSON_ID'], \n",
    "                                                                                               continuous_min_below_norm, surgeries.iloc[i]['SERVICE_DATE']))\n",
    "                        continuous_min_below_norm = 0\n",
    "                    else: \n",
    "                        continuous_min_below_norm = 0 \n",
    "                    \n",
    "                # checking children over 44 months\n",
    "                else:\n",
    "                    if blood_pressure <= 55.0:\n",
    "                        continuous_min_below_norm += 1\n",
    "                    elif blood_pressure >=  55.0 and continuous_min_below_norm >= 14:\n",
    "                        print('Patient {} dropped below the norm for {} minutes on {}.'.format(surgeries.iloc[i]['PERSON_ID'], \n",
    "                                                                                               continuous_min_below_norm, surgeries.iloc[i]['SERVICE_DATE']))\n",
    "                        continuous_min_below_norm = 0\n",
    "                    else: \n",
    "                        continuous_min_below_norm = 0 \n"
   ]
  },
  {
   "cell_type": "code",
   "execution_count": 117,
   "metadata": {},
   "outputs": [
    {
     "name": "stdout",
     "output_type": "stream",
     "text": [
      "Patient 123 dropped below the norm for 14 minutes on 1/5/2016.\n",
      "Patient 456 dropped below the norm for 20 minutes on 5/21/2015.\n",
      "Patient 789 dropped below the norm for 16 minutes on 7/7/2017.\n",
      "Patient 987 dropped below the norm for 16 minutes on 2/17/2016.\n",
      "Patient 987 dropped below the norm for 24 minutes on 10/17/2016.\n",
      "Patient 111 dropped below the norm for 33 minutes on 8/15/2015.\n"
     ]
    }
   ],
   "source": [
    "extended_blood_pressure(df)"
   ]
  },
  {
   "cell_type": "markdown",
   "metadata": {},
   "source": [
    "This function does exactly the same, and in addition creates a file called Perides_Interview for the report."
   ]
  },
  {
   "cell_type": "code",
   "execution_count": 115,
   "metadata": {},
   "outputs": [],
   "source": [
    "\n",
    "def extended_blood_pressure_file(df):\n",
    "    file = open(\"Perides_Interview.txt\", \"w\")\n",
    "    # separating the patients by ID\n",
    "    patients = df.PERSON_ID.unique()\n",
    "    for patient in patients:\n",
    "        patient_df = df[df['PERSON_ID'] == patient].reset_index() # dataframe for each individual patient\n",
    "        dates = patient_df.SERVICE_DATE.unique() # list of surgery dates for each patient\n",
    "        \n",
    "        # separating the surgery dates\n",
    "        for date in dates: \n",
    "            surgeries = patient_df[patient_df['SERVICE_DATE'] == date].reset_index() # dataframe for each surgery for each individual patient\n",
    "            age = surgeries.iloc[0]['AGE_MONTHS']\n",
    "            \n",
    "            # comparing the blood pressure\n",
    "            continuous_min_below_norm = 0\n",
    "            for i, row in surgeries.iterrows():\n",
    "                blood_pressure = surgeries.iloc[i]['SYSTOLIC_BLOOD_PRESSURE']\n",
    "                \n",
    "                # checking children under 44 months\n",
    "                if age < 44.0:\n",
    "                    if blood_pressure <= 46.0:\n",
    "                \n",
    "                        continuous_min_below_norm += 1\n",
    "                    elif blood_pressure >  46.0 and continuous_min_below_norm >= 14:\n",
    "                        print('Patient {} dropped below the norm for {} minutes on {}.'.format(surgeries.iloc[i]['PERSON_ID'], \n",
    "                                                                                               continuous_min_below_norm, surgeries.iloc[i]['SERVICE_DATE']))\n",
    "                        file.write('Patient {} dropped below the norm for {} minutes on {}.\\n'.format(surgeries.iloc[i]['PERSON_ID'], \n",
    "                                                                                               continuous_min_below_norm, surgeries.iloc[i]['SERVICE_DATE']))\n",
    "                        continuous_min_below_norm = 0\n",
    "                    else: \n",
    "                        continuous_min_below_norm = 0 \n",
    "                    \n",
    "                # checking children over 44 months\n",
    "                else:\n",
    "                    if blood_pressure <= 55.0:\n",
    "                        continuous_min_below_norm += 1\n",
    "                    elif blood_pressure >=  55.0 and continuous_min_below_norm >= 14:\n",
    "                        print('Patient {} dropped below the norm for {} minutes on {}.'.format(surgeries.iloc[i]['PERSON_ID'], \n",
    "                                                                                               continuous_min_below_norm, surgeries.iloc[i]['SERVICE_DATE']))\n",
    "                        file.write('Patient {} dropped below the norm for {} minutes on {}.\\n'.format(surgeries.iloc[i]['PERSON_ID'], \n",
    "                                                                                               continuous_min_below_norm, surgeries.iloc[i]['SERVICE_DATE']))\n",
    "                        continuous_min_below_norm = 0\n",
    "                    else: \n",
    "                        continuous_min_below_norm = 0 \n"
   ]
  },
  {
   "cell_type": "code",
   "execution_count": 116,
   "metadata": {},
   "outputs": [
    {
     "name": "stdout",
     "output_type": "stream",
     "text": [
      "Patient 123 dropped below the norm for 14 minutes on 1/5/2016.\n",
      "Patient 456 dropped below the norm for 20 minutes on 5/21/2015.\n",
      "Patient 789 dropped below the norm for 16 minutes on 7/7/2017.\n",
      "Patient 987 dropped below the norm for 16 minutes on 2/17/2016.\n",
      "Patient 987 dropped below the norm for 24 minutes on 10/17/2016.\n",
      "Patient 111 dropped below the norm for 33 minutes on 8/15/2015.\n"
     ]
    }
   ],
   "source": [
    "extended_blood_pressure_file(df)"
   ]
  },
  {
   "cell_type": "code",
   "execution_count": null,
   "metadata": {},
   "outputs": [],
   "source": []
  }
 ],
 "metadata": {
  "kernelspec": {
   "display_name": "Python 3",
   "language": "python",
   "name": "python3"
  },
  "language_info": {
   "codemirror_mode": {
    "name": "ipython",
    "version": 3
   },
   "file_extension": ".py",
   "mimetype": "text/x-python",
   "name": "python",
   "nbconvert_exporter": "python",
   "pygments_lexer": "ipython3",
   "version": "3.7.4"
  }
 },
 "nbformat": 4,
 "nbformat_minor": 2
}
