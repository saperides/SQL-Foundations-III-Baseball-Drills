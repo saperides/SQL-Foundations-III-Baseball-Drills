{
 "cells": [
  {
   "cell_type": "markdown",
   "metadata": {},
   "source": [
    "# Introduction \n",
    "\n",
    "This data set looks at the math, reading, and writing test scores of 1,000 students. The data provides other information on the students such as gender, race, and whether or not the student receives assistance for lunch among others. It will be interesting to see which variables affect test scores and ultimately, we will want to increase test scores among all students in as fair and economically viable ways as possible. "
   ]
  },
  {
   "cell_type": "code",
   "execution_count": 1,
   "metadata": {},
   "outputs": [],
   "source": [
    "import os\n",
    "os.chdir('C:\\\\Users\\\\M246047\\\\Documents\\\\Python')\n",
    "import numpy as np\n",
    "import pandas as pd\n",
    "import datetime as dt\n",
    "import pylab\n",
    "from matplotlib import pyplot as plt\n",
    "%matplotlib inline\n",
    "import scipy as sc\n",
    "from scipy.stats import ttest_ind\n",
    "import re\n",
    "import seaborn as sns\n",
    "import scipy.stats as stats"
   ]
  },
  {
   "cell_type": "code",
   "execution_count": 2,
   "metadata": {
    "scrolled": false
   },
   "outputs": [
    {
     "name": "stdout",
     "output_type": "stream",
     "text": [
      "Index(['gender', 'race/ethnicity', 'parental level of education', 'lunch',\n",
      "       'test preparation course', 'math score', 'reading score',\n",
      "       'writing score'],\n",
      "      dtype='object')\n",
      "\n",
      "        math score  reading score  writing score\n",
      "count  1000.00000    1000.000000    1000.000000\n",
      "mean     66.08900      69.169000      68.054000\n",
      "std      15.16308      14.600192      15.195657\n",
      "min       0.00000      17.000000      10.000000\n",
      "25%      57.00000      59.000000      57.750000\n",
      "50%      66.00000      70.000000      69.000000\n",
      "75%      77.00000      79.000000      79.000000\n",
      "max     100.00000     100.000000     100.000000\n"
     ]
    }
   ],
   "source": [
    "testing = pd.read_csv('student_testing.csv')\n",
    "testing = pd.DataFrame(testing)\n",
    "print(testing.columns)\n",
    "print('\\n', testing.describe())"
   ]
  },
  {
   "cell_type": "code",
   "execution_count": 3,
   "metadata": {
    "scrolled": false
   },
   "outputs": [
    {
     "name": "stdout",
     "output_type": "stream",
     "text": [
      "gender                         object\n",
      "race/ethnicity                 object\n",
      "parental level of education    object\n",
      "lunch                          object\n",
      "test preparation course        object\n",
      "math score                      int64\n",
      "reading score                   int64\n",
      "writing score                   int64\n",
      "total score                     int64\n",
      "dtype: object\n"
     ]
    },
    {
     "data": {
      "text/html": [
       "<div>\n",
       "<style scoped>\n",
       "    .dataframe tbody tr th:only-of-type {\n",
       "        vertical-align: middle;\n",
       "    }\n",
       "\n",
       "    .dataframe tbody tr th {\n",
       "        vertical-align: top;\n",
       "    }\n",
       "\n",
       "    .dataframe thead th {\n",
       "        text-align: right;\n",
       "    }\n",
       "</style>\n",
       "<table border=\"1\" class=\"dataframe\">\n",
       "  <thead>\n",
       "    <tr style=\"text-align: right;\">\n",
       "      <th></th>\n",
       "      <th>gender</th>\n",
       "      <th>race/ethnicity</th>\n",
       "      <th>parental level of education</th>\n",
       "      <th>lunch</th>\n",
       "      <th>test preparation course</th>\n",
       "      <th>math score</th>\n",
       "      <th>reading score</th>\n",
       "      <th>writing score</th>\n",
       "      <th>total score</th>\n",
       "    </tr>\n",
       "  </thead>\n",
       "  <tbody>\n",
       "    <tr>\n",
       "      <th>0</th>\n",
       "      <td>female</td>\n",
       "      <td>group B</td>\n",
       "      <td>bachelor's degree</td>\n",
       "      <td>standard</td>\n",
       "      <td>none</td>\n",
       "      <td>72</td>\n",
       "      <td>72</td>\n",
       "      <td>74</td>\n",
       "      <td>218</td>\n",
       "    </tr>\n",
       "    <tr>\n",
       "      <th>1</th>\n",
       "      <td>female</td>\n",
       "      <td>group C</td>\n",
       "      <td>some college</td>\n",
       "      <td>standard</td>\n",
       "      <td>completed</td>\n",
       "      <td>69</td>\n",
       "      <td>90</td>\n",
       "      <td>88</td>\n",
       "      <td>247</td>\n",
       "    </tr>\n",
       "    <tr>\n",
       "      <th>2</th>\n",
       "      <td>female</td>\n",
       "      <td>group B</td>\n",
       "      <td>master's degree</td>\n",
       "      <td>standard</td>\n",
       "      <td>none</td>\n",
       "      <td>90</td>\n",
       "      <td>95</td>\n",
       "      <td>93</td>\n",
       "      <td>278</td>\n",
       "    </tr>\n",
       "    <tr>\n",
       "      <th>3</th>\n",
       "      <td>male</td>\n",
       "      <td>group A</td>\n",
       "      <td>associate's degree</td>\n",
       "      <td>free/reduced</td>\n",
       "      <td>none</td>\n",
       "      <td>47</td>\n",
       "      <td>57</td>\n",
       "      <td>44</td>\n",
       "      <td>148</td>\n",
       "    </tr>\n",
       "    <tr>\n",
       "      <th>4</th>\n",
       "      <td>male</td>\n",
       "      <td>group C</td>\n",
       "      <td>some college</td>\n",
       "      <td>standard</td>\n",
       "      <td>none</td>\n",
       "      <td>76</td>\n",
       "      <td>78</td>\n",
       "      <td>75</td>\n",
       "      <td>229</td>\n",
       "    </tr>\n",
       "  </tbody>\n",
       "</table>\n",
       "</div>"
      ],
      "text/plain": [
       "   gender race/ethnicity parental level of education         lunch  \\\n",
       "0  female        group B           bachelor's degree      standard   \n",
       "1  female        group C                some college      standard   \n",
       "2  female        group B             master's degree      standard   \n",
       "3    male        group A          associate's degree  free/reduced   \n",
       "4    male        group C                some college      standard   \n",
       "\n",
       "  test preparation course  math score  reading score  writing score  \\\n",
       "0                    none          72             72             74   \n",
       "1               completed          69             90             88   \n",
       "2                    none          90             95             93   \n",
       "3                    none          47             57             44   \n",
       "4                    none          76             78             75   \n",
       "\n",
       "   total score  \n",
       "0          218  \n",
       "1          247  \n",
       "2          278  \n",
       "3          148  \n",
       "4          229  "
      ]
     },
     "execution_count": 3,
     "metadata": {},
     "output_type": "execute_result"
    }
   ],
   "source": [
    "\n",
    "testing['total score'] = testing['math score'] + testing['reading score'] + testing['writing score']\n",
    "print(testing.dtypes)\n",
    "testing.head()"
   ]
  },
  {
   "cell_type": "code",
   "execution_count": 4,
   "metadata": {
    "scrolled": true
   },
   "outputs": [
    {
     "data": {
      "image/png": "[encoded data removed]",
      "text/plain": [
       "<Figure size 432x288 with 1 Axes>"
      ]
     },
     "metadata": {
      "needs_background": "light"
     },
     "output_type": "display_data"
    }
   ],
   "source": [
    "math = testing[['math score']]\n",
    "math_scores = math.iloc[:, 0]\n",
    "reading = testing[['reading score']]\n",
    "reading_scores = reading.iloc[:, 0]\n",
    "writing = testing[['writing score']]\n",
    "writing_scores = writing.iloc[:, 0]\n",
    "total = testing[['total score']]\n",
    "total_score = total.iloc[:, 0]\n",
    "\n",
    "plt.hist([math_scores, reading_scores, writing_scores], bins=20, label=['Math Scores', 'Reading Scores', 'Writing Scores'])\n",
    "plt.legend(loc='upper right')\n",
    "plt.show()\n",
    "\n",
    "# fig, ax = plt.subplots()\n",
    "# math_heights, math_bins = np.histogram(testing['math score'])\n",
    "# reading_heights, reading_bins = np.histogram(reading['reading score'], bins=math_bins)\n",
    "# writing_heights, writing_bins = np.histogram(writing['writing score'], bins=math_bins)\n",
    "\n",
    "# width = (math_bins[1] - math_bins[0])/3\n",
    "# ax.bar(math_bins[:-1], math_heights, width=width, alpha=.5, facecolor='cornflowerblue')\n",
    "# ax.bar(reading_bins[:-1]+width, reading_heights, width=width, alpha=.5, facecolor='seagreen')\n",
    "# ax.bar(writing_bins[:-1]+width, writing_heights, width=width, alpha=.5, facecolor='pink')\n",
    "# #seaborn.despine(ax=ax, offset=10)\n",
    "  \n",
    "# plt.xlabel('Test Scores')\n",
    "# plt.legend(loc='upper right')\n",
    "# plt.title('Student Test Scores')\n",
    "# plt.show()"
   ]
  },
  {
   "cell_type": "markdown",
   "metadata": {},
   "source": [
    "## Distribution of Scores\n",
    "\n",
    "The test scores are what we would expect - we have a nice bell shape curve with the math scores slightly lower and the reading and writing scores. I've created an additional column, 'total', for the total score for each student which is obtained by adding the three test scores already in the data set for additional analysis."
   ]
  },
  {
   "cell_type": "code",
   "execution_count": 11,
   "metadata": {
    "scrolled": false
   },
   "outputs": [
    {
     "name": "stdout",
     "output_type": "stream",
     "text": [
      "parental level of education\n",
      "associate's degree    67.882883\n",
      "bachelor's degree     69.389831\n",
      "high school           62.137755\n",
      "master's degree       69.745763\n",
      "some college          67.128319\n",
      "Name: math score, dtype: float64\n"
     ]
    },
    {
     "data": {
      "image/png": "[encoded data removed]",
      "text/plain": [
       "<Figure size 864x432 with 1 Axes>"
      ]
     },
     "metadata": {
      "needs_background": "light"
     },
     "output_type": "display_data"
    },
    {
     "data": {
      "image/png": "[encoded data removed]",
      "text/plain": [
       "<Figure size 864x432 with 1 Axes>"
      ]
     },
     "metadata": {
      "needs_background": "light"
     },
     "output_type": "display_data"
    }
   ],
   "source": [
    "parent_ed = testing.groupby('parental level of education')['math score'].mean()\n",
    "print(parent_ed[:5])\n",
    "plt.figure(figsize=(12, 6))\n",
    "sns.boxplot(x='parental level of education',y='total score', order=['high school', 'some college', 'associate\\'s degree', 'bachelor\\'s degree', 'master\\'s degree'], data=testing, fliersize=0)\n",
    "plt.show()\n",
    "plt.figure(figsize=(12, 6))\n",
    "sns.boxplot(x='parental level of education',y='math score', order=['high school', 'some college', 'associate\\'s degree', 'bachelor\\'s degree', 'master\\'s degree'], data=testing, fliersize=0)\n",
    "plt.show()\n"
   ]
  },
  {
   "cell_type": "markdown",
   "metadata": {},
   "source": [
    "## Parental Level of Education\n",
    "\n",
    "We know that in general, the more education an individual has, the higher their income is. It should be no surprise that as the parental level of edcation increases, the average test score increases - these students are more likely to have their needs met, have a less stressful home environment, and the ability to complete test preparation courses. What I find interesting is that the increase is much less obvious in the math scores than the reading and writing scores. I'd be curious to look into this further to obtain an answer as to why this is. Perhaps this is the subject students are least likely to receive assistance from their parents on?"
   ]
  },
  {
   "cell_type": "code",
   "execution_count": 12,
   "metadata": {
    "scrolled": false
   },
   "outputs": [
    {
     "name": "stdout",
     "output_type": "stream",
     "text": [
      "Free/reduced lunch math score:  lunch\n",
      "free/reduced    58.921127\n",
      "standard        70.034109\n",
      "Name: math score, dtype: float64\n",
      "Free/reduced lunch writing score:  lunch\n",
      "free/reduced    63.022535\n",
      "standard        70.823256\n",
      "Name: writing score, dtype: float64\n",
      "Free/reduced lunch math score:  lunch\n",
      "free/reduced    64.653521\n",
      "standard        71.654264\n",
      "Name: reading score, dtype: float64\n"
     ]
    },
    {
     "name": "stderr",
     "output_type": "stream",
     "text": [
      "C:\\Users\\M246047\\AppData\\Local\\Continuum\\miniconda3\\lib\\site-packages\\seaborn\\categorical.py:3692: UserWarning: The `size` paramter has been renamed to `height`; please update your code.\n",
      "  warnings.warn(msg, UserWarning)\n"
     ]
    },
    {
     "data": {
      "text/plain": [
       "<seaborn.axisgrid.FacetGrid at 0x2ffe590>"
      ]
     },
     "execution_count": 12,
     "metadata": {},
     "output_type": "execute_result"
    },
    {
     "data": {
      "image/png": "[encoded data removed]",
      "text/plain": [
       "<Figure size 432x432 with 1 Axes>"
      ]
     },
     "metadata": {
      "needs_background": "light"
     },
     "output_type": "display_data"
    },
    {
     "data": {
      "image/png": "[encoded data removed]",
      "text/plain": [
       "<Figure size 432x432 with 1 Axes>"
      ]
     },
     "metadata": {
      "needs_background": "light"
     },
     "output_type": "display_data"
    },
    {
     "data": {
      "image/png": "[encoded data removed]",
      "text/plain": [
       "<Figure size 432x432 with 1 Axes>"
      ]
     },
     "metadata": {
      "needs_background": "light"
     },
     "output_type": "display_data"
    }
   ],
   "source": [
    "# Visualizing test scores of students who receive lunch assistance with those who do not.\n",
    "\n",
    "print('Free/reduced lunch math score: ', testing.groupby('lunch')['math score'].mean())\n",
    "print('Free/reduced lunch writing score: ', testing.groupby('lunch')['writing score'].mean())\n",
    "print('Free/reduced lunch math score: ', testing.groupby('lunch')['reading score'].mean())\n",
    "sns.catplot(x='lunch', y='math score', size=6, kind='boxen', data=testing)\n",
    "sns.catplot(x='lunch', y='reading score', size=6, kind='boxen', data=testing)\n",
    "sns.catplot(x='lunch', y='writing score', size=6, kind='boxen', data=testing)"
   ]
  },
  {
   "cell_type": "markdown",
   "metadata": {},
   "source": [
    "## Type of Lunch\n",
    "There is a clear distinction here: students who receive free/reduced lunch score significantly lower in all tests than students who receive a standard lunch. There are many possible explanations for this - if a student requires assistance for lunch it's likely that their parents may be struggling to support the family and they may not even be getting the proper nutrition at home. This brings me to the experiment I'd like to run - how does having a nutrient dense breakfast affect the learning process?"
   ]
  },
  {
   "cell_type": "code",
   "execution_count": 7,
   "metadata": {},
   "outputs": [
    {
     "name": "stdout",
     "output_type": "stream",
     "text": [
      "Statistic tests for math scores of students with lunch assistance vs. those without: \n",
      "  Ttest_indResult(statistic=-11.837180472914612, pvalue=2.4131955993137074e-30)\n",
      "\n",
      "\n",
      "Statistic tests for total scores of students with lunch assistance vs. those without: \n",
      "  Ttest_indResult(statistic=-9.575113051511472, pvalue=7.73679181249555e-21)\n"
     ]
    }
   ],
   "source": [
    "# Comparing test scores of students who receive lunch assistance with those who do not.\n",
    "free_reduced = testing.loc[testing['lunch'] == 'free/reduced']\n",
    "lunch = testing.loc[testing['lunch'] == 'standard']\n",
    "free_reduced_math = free_reduced['math score']\n",
    "lunch_math = lunch['math score']\n",
    "free_reduced_total = free_reduced['total score']\n",
    "lunch_total = lunch['total score']\n",
    "t_val = stats.ttest_ind(free_reduced_math, lunch_math)\n",
    "print('Statistic tests for math scores of students with lunch assistance vs. those without: \\n ', t_val)\n",
    "print('\\n')\n",
    "t_val = stats.ttest_ind(free_reduced_total, lunch_total)\n",
    "print('Statistic tests for total scores of students with lunch assistance vs. those without: \\n ', t_val)"
   ]
  },
  {
   "cell_type": "markdown",
   "metadata": {},
   "source": [
    "# The Experiment\n",
    "\n",
    "Lower test scores reflect poorly on schools and decrease student morale. Increasing test scores would increase student confidence and potentially lead to additional opportunities in school and upon graduation. While we know tests don't accurately measure an individual's level of intelligence, a child who consistently does poorly on tests may sincerely believe they are incapable which may hinder them from reaching their full potential. \n",
    "\n",
    "It is often said that breakfast is the most important meal of the day. How does having or missing breakfast affect student test scores? I believe that starting the day with a nutrient-rich breakfast will increase test scores.  <br>\n",
    "Null Hypothesis: eating breakfast has no impact on test scores.<br>\n",
    "Alternative Hypothesis: eating breakfast will increase test scores.\n",
    "\n",
    "In a perfect world, we would feed half the students a particular breakfast at school in the morning and have the other half come to school without having eaten. This may be taken negatively, so I might propose adding a simple yes or no question to every test: Do you eat breakfast on a regular basis? The variable of interest is test scores in breakfast and non-breakfast groups, and this would be an A/B manipulation where breakfast is eaten or not eaten. We would be able to run t-tests and find the p-value to tell us whether or not there is significant difference between the test scores.\n",
    "\n",
    "To start this study, I would take a survey of the students asking who does and does not eat breakfast in the morning and compare the test scores of those two groups. I would then randomly choose 20% of the students who reported they do not eat breakfast to begin eating breakfast every morning. If after three tests scores increase by at least 10%, I would reject the null hypothesis and conclude that eating breakfast is positively impactful to student life and would request that all students eat breakfast before or at school in the morning. If after three tests scores increase but by less than 10%, I would observe for another three tests. If test scores do not increase by after three tests, I would conclude that eating breakfast is not impactful and allow students to return to their regular routine. \n",
    "\n",
    "Controlling for other variables is tricky here. We would use students of families with the same economic status who had not completed any test preparation - this should account for economic impact. We would look at students taking tests at the same time to account for a timing variable. I would also like to provide the breakfast to ensure that all students are receiving the same level of nutrients. \n",
    "\n",
    "Ideally, we would look at all three test scores (math, reading, and writing). It would be interesting to see how many of the categories were affected. If test scores for just one or two subjects increased, I'd like to look into why this is.\n",
    "\n",
    "As mentioned previously, I would perform t-tests on both groups in each subject to determine how different the average scores are, and then find the p-values to determine whether or not our findings are significant. I don't see a reason to use a value other than 0.05, so we'll conclude our findings are significant and the null hypothesis to be false if we obtain this value. \n"
   ]
  },
  {
   "cell_type": "code",
   "execution_count": null,
   "metadata": {},
   "outputs": [],
   "source": []
  }
 ],
 "metadata": {
  "kernelspec": {
   "display_name": "Python 3",
   "language": "python",
   "name": "python3"
  },
  "language_info": {
   "codemirror_mode": {
    "name": "ipython",
    "version": 3
   },
   "file_extension": ".py",
   "mimetype": "text/x-python",
   "name": "python",
   "nbconvert_exporter": "python",
   "pygments_lexer": "ipython3",
   "version": "3.7.3"
  }
 },
 "nbformat": 4,
 "nbformat_minor": 2
}
