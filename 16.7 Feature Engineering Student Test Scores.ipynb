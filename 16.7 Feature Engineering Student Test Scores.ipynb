{
 "cells": [
  {
   "cell_type": "code",
   "execution_count": 1,
   "metadata": {},
   "outputs": [],
   "source": [
    "import pandas as pd\n",
    "import numpy as np\n",
    "from sqlalchemy import create_engine\n",
    "import warnings\n",
    "import matplotlib.pyplot as plt\n",
    "import seaborn as sns\n",
    "from scipy import stats\n",
    "\n",
    "warnings.filterwarnings('ignore')"
   ]
  },
  {
   "cell_type": "code",
   "execution_count": 34,
   "metadata": {},
   "outputs": [
    {
     "name": "stdout",
     "output_type": "stream",
     "text": [
      "Index(['gender', 'race/ethnicity', 'parental level of education', 'lunch',\n",
      "       'test preparation course', 'math score', 'reading score',\n",
      "       'writing score', 'total'],\n",
      "      dtype='object')\n"
     ]
    },
    {
     "data": {
      "text/html": [
       "<div>\n",
       "<style scoped>\n",
       "    .dataframe tbody tr th:only-of-type {\n",
       "        vertical-align: middle;\n",
       "    }\n",
       "\n",
       "    .dataframe tbody tr th {\n",
       "        vertical-align: top;\n",
       "    }\n",
       "\n",
       "    .dataframe thead th {\n",
       "        text-align: right;\n",
       "    }\n",
       "</style>\n",
       "<table border=\"1\" class=\"dataframe\">\n",
       "  <thead>\n",
       "    <tr style=\"text-align: right;\">\n",
       "      <th></th>\n",
       "      <th>gender</th>\n",
       "      <th>race/ethnicity</th>\n",
       "      <th>parental level of education</th>\n",
       "      <th>lunch</th>\n",
       "      <th>test preparation course</th>\n",
       "      <th>math score</th>\n",
       "      <th>reading score</th>\n",
       "      <th>writing score</th>\n",
       "      <th>total</th>\n",
       "    </tr>\n",
       "  </thead>\n",
       "  <tbody>\n",
       "    <tr>\n",
       "      <th>0</th>\n",
       "      <td>female</td>\n",
       "      <td>group B</td>\n",
       "      <td>bachelor's degree</td>\n",
       "      <td>standard</td>\n",
       "      <td>none</td>\n",
       "      <td>72</td>\n",
       "      <td>72</td>\n",
       "      <td>74</td>\n",
       "      <td>218</td>\n",
       "    </tr>\n",
       "    <tr>\n",
       "      <th>1</th>\n",
       "      <td>female</td>\n",
       "      <td>group C</td>\n",
       "      <td>some college</td>\n",
       "      <td>standard</td>\n",
       "      <td>completed</td>\n",
       "      <td>69</td>\n",
       "      <td>90</td>\n",
       "      <td>88</td>\n",
       "      <td>247</td>\n",
       "    </tr>\n",
       "    <tr>\n",
       "      <th>2</th>\n",
       "      <td>female</td>\n",
       "      <td>group B</td>\n",
       "      <td>master's degree</td>\n",
       "      <td>standard</td>\n",
       "      <td>none</td>\n",
       "      <td>90</td>\n",
       "      <td>95</td>\n",
       "      <td>93</td>\n",
       "      <td>278</td>\n",
       "    </tr>\n",
       "    <tr>\n",
       "      <th>3</th>\n",
       "      <td>male</td>\n",
       "      <td>group A</td>\n",
       "      <td>associate's degree</td>\n",
       "      <td>free/reduced</td>\n",
       "      <td>none</td>\n",
       "      <td>47</td>\n",
       "      <td>57</td>\n",
       "      <td>44</td>\n",
       "      <td>148</td>\n",
       "    </tr>\n",
       "    <tr>\n",
       "      <th>4</th>\n",
       "      <td>male</td>\n",
       "      <td>group C</td>\n",
       "      <td>some college</td>\n",
       "      <td>standard</td>\n",
       "      <td>none</td>\n",
       "      <td>76</td>\n",
       "      <td>78</td>\n",
       "      <td>75</td>\n",
       "      <td>229</td>\n",
       "    </tr>\n",
       "  </tbody>\n",
       "</table>\n",
       "</div>"
      ],
      "text/plain": [
       "   gender race/ethnicity parental level of education         lunch  \\\n",
       "0  female        group B           bachelor's degree      standard   \n",
       "1  female        group C                some college      standard   \n",
       "2  female        group B             master's degree      standard   \n",
       "3    male        group A          associate's degree  free/reduced   \n",
       "4    male        group C                some college      standard   \n",
       "\n",
       "  test preparation course  math score  reading score  writing score  total  \n",
       "0                    none          72             72             74    218  \n",
       "1               completed          69             90             88    247  \n",
       "2                    none          90             95             93    278  \n",
       "3                    none          47             57             44    148  \n",
       "4                    none          76             78             75    229  "
      ]
     },
     "execution_count": 34,
     "metadata": {},
     "output_type": "execute_result"
    }
   ],
   "source": [
    "postgres_user = 'dsbc_student'\n",
    "postgres_pw = '7*.8G9QH21'\n",
    "postgres_host = '142.93.121.174'\n",
    "postgres_port = '5432'\n",
    "postgres_db = 'studentsperformance'\n",
    "\n",
    "engine = create_engine('postgresql://{}:{}@{}:{}/{}'.format(\n",
    "    postgres_user, postgres_pw, postgres_host, postgres_port, postgres_db))\n",
    "\n",
    "stuper = pd.read_sql_query('select * from studentsperformance',con=engine)\n",
    "\n",
    "engine.dispose()\n",
    "stuper['total'] = stuper['math score'] + stuper['reading score'] + stuper['writing score']\n",
    "print(stuper.columns)\n",
    "stuper.head()"
   ]
  },
  {
   "cell_type": "markdown",
   "metadata": {},
   "source": [
    "1. Are the exam score variables normally distributed? If not, apply a Box-Cox transformation. Does anything change?\n",
    "\n",
    "The histograms show a relatively normal shape with a longer tail on the left (a left skew) for each of the score distributions, so I'm sure they're not statistically normal. I'll apply a Box-Cox transformation.\n",
    "\n",
    "Because there's at least one score of zero in the math scores I wasn't able to apply a Box-Cox. I'll replace all zeroes with ones as I don't think it will affect the integrity of the data. The distributions look more normal once I've applied the Box-Cox and the p-values increase, confirming that the distributions are statistically closer to normal."
   ]
  },
  {
   "cell_type": "code",
   "execution_count": 28,
   "metadata": {},
   "outputs": [
    {
     "data": {
      "image/png": "[encoded data removed]",
      "text/plain": [
       "<Figure size 432x288 with 1 Axes>"
      ]
     },
     "metadata": {
      "needs_background": "light"
     },
     "output_type": "display_data"
    },
    {
     "name": "stdout",
     "output_type": "stream",
     "text": [
      "Jarque-Bera test statistics for Box-Cox applied math scores is 15.230308642482925 and p value is 0.0004929246076665894\n",
      "Normality test statistics for Box-Cox applied math scores is 14.829070008237682 and p value is 0.000602432456595843\n"
     ]
    },
    {
     "data": {
      "image/png": "[encoded data removed]",
      "text/plain": [
       "<Figure size 432x288 with 1 Axes>"
      ]
     },
     "metadata": {
      "needs_background": "light"
     },
     "output_type": "display_data"
    },
    {
     "name": "stdout",
     "output_type": "stream",
     "text": [
      "Jarque-Bera test statistics for reading scores is 17.103129099015913 and p value is 0.0001932425254256298\n",
      "Normality test statistics for reading scores is 16.72369944544701 and p value is 0.00023361181678824172\n"
     ]
    },
    {
     "data": {
      "image/png": "[encoded data removed]",
      "text/plain": [
       "<Figure size 432x288 with 1 Axes>"
      ]
     },
     "metadata": {
      "needs_background": "light"
     },
     "output_type": "display_data"
    },
    {
     "name": "stdout",
     "output_type": "stream",
     "text": [
      "Jarque-Bera test statistics for writing scores is 16.93589780607829 and p value is 0.00021009538774086067\n",
      "Normality test statistics for writing scores is 16.546562170667784 and p value is 0.00025524643050318485\n"
     ]
    }
   ],
   "source": [
    "# Distributions of scores before Box-Cox Application\n",
    "plt.title('Distribution of Math Scores')\n",
    "plt.hist(x='math score', data=stuper)\n",
    "plt.show()\n",
    "\n",
    "jb_stats = stats.jarque_bera(stuper['math score'])\n",
    "norm_stats = stats.normaltest(stuper['math score'])\n",
    "\n",
    "print(\"Jarque-Bera test statistics for Box-Cox applied math scores is {0} and p value is {1}\".format(jb_stats[0], jb_stats[1]))\n",
    "print(\"Normality test statistics for Box-Cox applied math scores is {0} and p value is {1}\".format(norm_stats[0], norm_stats[1]))\n",
    "\n",
    "\n",
    "plt.title('Distribution of Reading Scores')\n",
    "plt.hist(x='reading score', data=stuper)\n",
    "plt.show()\n",
    "\n",
    "jb_stats = stats.jarque_bera(stuper['reading score'])\n",
    "norm_stats = stats.normaltest(stuper['reading score'])\n",
    "\n",
    "print(\"Jarque-Bera test statistics for reading scores is {0} and p value is {1}\".format(jb_stats[0], jb_stats[1]))\n",
    "print(\"Normality test statistics for reading scores is {0} and p value is {1}\".format(norm_stats[0], norm_stats[1]))\n",
    "\n",
    "\n",
    "plt.title('Distribution of Writing Scores')\n",
    "plt.hist(x='writing score', data=stuper)\n",
    "plt.show()\n",
    "\n",
    "jb_stats = stats.jarque_bera(stuper['writing score'])\n",
    "norm_stats = stats.normaltest(stuper['writing score'])\n",
    "\n",
    "print(\"Jarque-Bera test statistics for writing scores is {0} and p value is {1}\".format(jb_stats[0], jb_stats[1]))\n",
    "print(\"Normality test statistics for writing scores is {0} and p value is {1}\".format(norm_stats[0], norm_stats[1]))\n"
   ]
  },
  {
   "cell_type": "code",
   "execution_count": 36,
   "metadata": {},
   "outputs": [
    {
     "name": "stdout",
     "output_type": "stream",
     "text": [
      "Testing for statistically normal distribution with Jarque-Bera and Normal tests after Box-Cox application\n",
      "Score Distributions after Box-Cox has been applied\n"
     ]
    },
    {
     "data": {
      "image/png": "[encoded data removed]",
      "text/plain": [
       "<Figure size 432x288 with 1 Axes>"
      ]
     },
     "metadata": {
      "needs_background": "light"
     },
     "output_type": "display_data"
    },
    {
     "name": "stdout",
     "output_type": "stream",
     "text": [
      "Jarque-Bera test statistics for Box-Cox applied math scores is 0.9589872977598923 and p value is 0.6190967928084308\n",
      "Normality test statistics for Box-Cox applied math scores is 0.9034195001197268 and p value is 0.6365388982921865\n"
     ]
    },
    {
     "data": {
      "image/png": "[encoded data removed]",
      "text/plain": [
       "<Figure size 432x288 with 1 Axes>"
      ]
     },
     "metadata": {
      "needs_background": "light"
     },
     "output_type": "display_data"
    },
    {
     "name": "stdout",
     "output_type": "stream",
     "text": [
      "Jarque-Bera test statistics for Box-Cox applied reading scores is 3.1076660598434134 and p value is 0.21143597818819404\n",
      "Normality test statistics for Box-Cox applied reading scores is 3.696196036444856 and p value is 0.15753651312456154\n"
     ]
    },
    {
     "data": {
      "image/png": "[encoded data removed]",
      "text/plain": [
       "<Figure size 432x288 with 1 Axes>"
      ]
     },
     "metadata": {
      "needs_background": "light"
     },
     "output_type": "display_data"
    },
    {
     "name": "stdout",
     "output_type": "stream",
     "text": [
      "Jarque-Bera test statistics for Box-Cox applied writing scores is 4.232873762434193 and p value is 0.1204600783170301\n",
      "Normality test statistics for Box-Cox applied writing scores is 5.362875546501041 and p value is 0.06846464671791158\n"
     ]
    }
   ],
   "source": [
    "print('Testing for statistically normal distribution with Jarque-Bera and Normal tests after Box-Cox application')\n",
    "\n",
    "# Removing 0s from math scores and applying Box-Cox transformation\n",
    "stuper.loc[stuper['math score'] == 0] = 1\n",
    "math_scores_boxcox,_ = stats.boxcox(stuper['math score'])\n",
    "reading_scores_boxcox,_ = stats.boxcox(stuper['reading score'])\n",
    "writing_scores_boxcox,_ = stats.boxcox(stuper['writing score'])\n",
    "\n",
    "# Score distributions after Box-Cox has been applied\n",
    "print('Score Distributions after Box-Cox has been applied')\n",
    "plt.title('Distribution of Box-Cox Math Scores')\n",
    "plt.hist(math_scores_boxcox)\n",
    "plt.show()\n",
    "\n",
    "jb_stats = stats.jarque_bera(math_scores_boxcox)\n",
    "norm_stats = stats.normaltest(math_scores_boxcox)\n",
    "\n",
    "print(\"Jarque-Bera test statistics for Box-Cox applied math scores is {0} and p value is {1}\".format(jb_stats[0], jb_stats[1]))\n",
    "print(\"Normality test statistics for Box-Cox applied math scores is {0} and p value is {1}\".format(norm_stats[0], norm_stats[1]))\n",
    "\n",
    "\n",
    "plt.title('Distribution of Box-Cox Reading Scores')\n",
    "plt.hist(reading_scores_boxcox)\n",
    "plt.show()\n",
    "\n",
    "jb_stats = stats.jarque_bera(reading_scores_boxcox)\n",
    "norm_stats = stats.normaltest(reading_scores_boxcox)\n",
    "\n",
    "print(\"Jarque-Bera test statistics for Box-Cox applied reading scores is {0} and p value is {1}\".format(jb_stats[0], jb_stats[1]))\n",
    "print(\"Normality test statistics for Box-Cox applied reading scores is {0} and p value is {1}\".format(norm_stats[0], norm_stats[1]))\n",
    "\n",
    "\n",
    "plt.title('Distribution of Box-Cox Writing Scores')\n",
    "plt.hist(writing_scores_boxcox)\n",
    "plt.show()\n",
    "\n",
    "jb_stats = stats.jarque_bera(writing_scores_boxcox)\n",
    "norm_stats = stats.normaltest(writing_scores_boxcox)\n",
    "\n",
    "print(\"Jarque-Bera test statistics for Box-Cox applied writing scores is {0} and p value is {1}\".format(jb_stats[0], jb_stats[1]))\n",
    "print(\"Normality test statistics for Box-Cox applied writing scores is {0} and p value is {1}\".format(norm_stats[0], norm_stats[1]))\n",
    "\n",
    "\n"
   ]
  },
  {
   "cell_type": "markdown",
   "metadata": {},
   "source": [
    "2. Say we want to use a single variable for the exam scores as our target. For this purpose, create a new variable by taking a weighted average of the exam scores. Check whether this new variable is normally distributed. If it's not normally distributed, apply a Box-Cox transformation and check whether or not the transformed variable is normally distributed.\n",
    "\n",
    "The Jarque-Bera and Normal tests indicate that the weighted average is very close to zero. When I apply a Box-Cox transformation, the p-values for both tests increase, indicating the distribution it closer to normal."
   ]
  },
  {
   "cell_type": "code",
   "execution_count": 35,
   "metadata": {
    "scrolled": true
   },
   "outputs": [
    {
     "data": {
      "image/png": "[encoded data removed]",
      "text/plain": [
       "<Figure size 432x288 with 1 Axes>"
      ]
     },
     "metadata": {
      "needs_background": "light"
     },
     "output_type": "display_data"
    },
    {
     "name": "stdout",
     "output_type": "stream",
     "text": [
      "Jarque-Bera test statistics for weighted average is 15.453387913085441 and p value is 0.00044089934264401887\n",
      "Normality test statistics for weighted average is 15.186721327231577 and p value is 0.0005037851534493836\n",
      "Jarque-Bera test statistics for Box-Cox transformed weighted average is 2.4353990936623884 and p value is 0.2959101118879546\n",
      "Normality test statistics for Box-Cox transformed weighted average is 2.77985790332585 and p value is 0.24909300164653306\n"
     ]
    },
    {
     "data": {
      "image/png": "[encoded data removed]",
      "text/plain": [
       "<Figure size 432x288 with 1 Axes>"
      ]
     },
     "metadata": {
      "needs_background": "light"
     },
     "output_type": "display_data"
    }
   ],
   "source": [
    "stuper['weighted average'] = stuper['math score'] * 0.33 + stuper['reading score'] * 0.33 + stuper['writing score'] * 0.33\n",
    "plt.title('Distribution of Weighted Average')\n",
    "plt.hist(x='weighted average', data=stuper)\n",
    "plt.show()\n",
    "\n",
    "jb_stats = stats.jarque_bera(stuper['weighted average'])\n",
    "norm_stats = stats.normaltest(stuper['weighted average'])\n",
    "\n",
    "print(\"Jarque-Bera test statistics for weighted average is {0} and p value is {1}\".format(jb_stats[0], jb_stats[1]))\n",
    "print(\"Normality test statistics for weighted average is {0} and p value is {1}\".format(norm_stats[0], norm_stats[1]))\n",
    "\n",
    "\n",
    "\n",
    "weighted_average_boxcox,_ = stats.boxcox(stuper['weighted average'])\n",
    "jb_stats = stats.jarque_bera(weighted_average_boxcox)\n",
    "norm_stats = stats.normaltest(weighted_average_boxcox)\n",
    "\n",
    "plt.title('Distribution of Box-Cox Weighted Average')\n",
    "plt.hist(x=weighted_average_boxcox)\n",
    "\n",
    "print(\"Jarque-Bera test statistics for Box-Cox transformed weighted average is {0} and p value is {1}\".format(jb_stats[0], jb_stats[1]))\n",
    "print(\"Normality test statistics for Box-Cox transformed weighted average is {0} and p value is {1}\".format(norm_stats[0], norm_stats[1]))\n"
   ]
  },
  {
   "cell_type": "markdown",
   "metadata": {},
   "source": [
    "3. Which variables seem related to the target variable (the newly created variable in the previous question)? If our goal is to explain the determinants of success in exams, which variables in our dataset might be useful?\n",
    "\n",
    "The reading score seems to be the variable most closely related to the target variable. How could I compare other variables?"
   ]
  },
  {
   "cell_type": "code",
   "execution_count": 38,
   "metadata": {},
   "outputs": [
    {
     "data": {
      "image/png": "[encoded data removed]",
      "text/plain": [
       "<Figure size 432x288 with 1 Axes>"
      ]
     },
     "metadata": {
      "needs_background": "light"
     },
     "output_type": "display_data"
    },
    {
     "data": {
      "image/png": "[encoded data removed]",
      "text/plain": [
       "<Figure size 432x288 with 1 Axes>"
      ]
     },
     "metadata": {
      "needs_background": "light"
     },
     "output_type": "display_data"
    },
    {
     "data": {
      "image/png": "[encoded data removed]",
      "text/plain": [
       "<Figure size 432x288 with 1 Axes>"
      ]
     },
     "metadata": {
      "needs_background": "light"
     },
     "output_type": "display_data"
    }
   ],
   "source": [
    "plt.title('Math Scores Vs Weighted Average')\n",
    "plt.hist(weighted_average_boxcox, color='blue',  alpha=.5,label='Weighted Average')  # alpha just controls the opacity\n",
    "plt.hist(math_scores_boxcox, color='red', alpha=.5,label='Math Scores')\n",
    "plt.show()\n",
    "\n",
    "plt.title('Reading Scores Vs Weighted Average')\n",
    "plt.hist(weighted_average_boxcox, color='blue',  alpha=.5,label='Weighted Average')  # alpha just controls the opacity\n",
    "plt.hist(reading_scores_boxcox, color='red', alpha=.5,label='Reading Scores')\n",
    "plt.show()\n",
    "\n",
    "plt.title('Writing Scores Vs Weighted Average')\n",
    "plt.hist(weighted_average_boxcox, color='blue',  alpha=.5,label='Weighted Average')  # alpha just controls the opacity\n",
    "plt.hist(writing_scores_boxcox, color='red', alpha=.5,label='Writing Scores')\n",
    "plt.show()"
   ]
  },
  {
   "cell_type": "code",
   "execution_count": null,
   "metadata": {},
   "outputs": [],
   "source": []
  }
 ],
 "metadata": {
  "kernelspec": {
   "display_name": "Python 3",
   "language": "python",
   "name": "python3"
  },
  "language_info": {
   "codemirror_mode": {
    "name": "ipython",
    "version": 3
   },
   "file_extension": ".py",
   "mimetype": "text/x-python",
   "name": "python",
   "nbconvert_exporter": "python",
   "pygments_lexer": "ipython3",
   "version": "3.7.3"
  }
 },
 "nbformat": 4,
 "nbformat_minor": 2
}
